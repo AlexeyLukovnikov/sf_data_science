{
 "cells": [
  {
   "cell_type": "code",
   "execution_count": 18,
   "metadata": {},
   "outputs": [],
   "source": [
    "import pandas as pd\n",
    "df = pd.read_csv('./data/KaggleV2-May-2016.csv.zip')"
   ]
  },
  {
   "cell_type": "code",
   "execution_count": 12,
   "metadata": {},
   "outputs": [
    {
     "name": "stderr",
     "output_type": "stream",
     "text": [
      "DEBUG: 2023-03-13 08:53:34,596: This is a debug message\n",
      "INFO: 2023-03-13 08:53:34,596: This is an informational message\n",
      "WARNING: 2023-03-13 08:53:34,597: This message is a warning\n",
      "ERROR: 2023-03-13 08:53:34,598: This is an error message\n",
      "CRITICAL: 2023-03-13 08:53:34,598: This is a critical message\n"
     ]
    }
   ],
   "source": [
    "import logging\n",
    "logging.debug('This is a debug message')\n",
    "logging.info('This is an informational message')\n",
    "logging.warning('This message is a warning')\n",
    "logging.error('This is an error message')\n",
    "logging.critical('This is a critical message')"
   ]
  },
  {
   "cell_type": "code",
   "execution_count": 13,
   "metadata": {},
   "outputs": [
    {
     "name": "stderr",
     "output_type": "stream",
     "text": [
      "DEBUG:root:This is a debug message\n",
      "INFO:root:This is an informational message\n",
      "WARNING:root:This message is a warning\n",
      "ERROR:root:This is an error message\n",
      "CRITICAL:root:This is a critical message\n"
     ]
    }
   ],
   "source": [
    "from importlib import reload\n",
    "import logging\n",
    "reload(logging)\n",
    "logging.basicConfig(level=logging.DEBUG)\n",
    "logging.debug('This is a debug message')\n",
    "logging.info('This is an informational message')\n",
    "logging.warning('This message is a warning')\n",
    "logging.error('This is an error message')\n",
    "logging.critical('This is a critical message')"
   ]
  },
  {
   "cell_type": "code",
   "execution_count": 14,
   "metadata": {},
   "outputs": [
    {
     "data": {
      "text/plain": [
       "<FileHandler d:\\sf_git\\sf_data_science\\EDA-6\\log_file.log (NOTSET)>"
      ]
     },
     "execution_count": 14,
     "metadata": {},
     "output_type": "execute_result"
    }
   ],
   "source": [
    "logging.FileHandler('log_file.log')"
   ]
  },
  {
   "cell_type": "code",
   "execution_count": 15,
   "metadata": {},
   "outputs": [
    {
     "name": "stderr",
     "output_type": "stream",
     "text": [
      "INFO: 2023-03-13 08:53:34,674: Check\n"
     ]
    }
   ],
   "source": [
    "from importlib import reload\n",
    "import logging\n",
    "reload(logging)\n",
    "logging.FileHandler('log_file.log') \n",
    "logging.basicConfig(\n",
    "    format=\"%(levelname)s: %(asctime)s: %(message)s\",\n",
    "    level=logging.DEBUG\n",
    ")\n",
    "logging.info('Check')"
   ]
  },
  {
   "cell_type": "code",
   "execution_count": 16,
   "metadata": {},
   "outputs": [],
   "source": [
    "import os.path\n",
    "\n",
    "# Функция для создания лог-файла и записи в него информации\n",
    "\n",
    "\n",
    "def get_logger(path, file):\n",
    "    \"\"\"[Создает лог-файл для логирования в него]\n",
    "    Аргументы:\n",
    "        path {string} -- путь к директории\n",
    "        file {string} -- имя файла\n",
    "     Возвращает:\n",
    "        [obj] -- [логер]\n",
    "    \"\"\"\n",
    "    # проверяем, существует ли файл\n",
    "    log_file = os.path.join(path, file)\n",
    "\n",
    "    # если  файла нет, создаем его\n",
    "    if not os.path.isfile(log_file):\n",
    "        open(log_file, \"w+\").close()\n",
    "\n",
    "    # поменяем формат логирования\n",
    "    file_logging_format = \"%(levelname)s: %(asctime)s: %(message)s\"\n",
    "\n",
    "    # конфигурируем лог-файл\n",
    "    logging.basicConfig(level=logging.INFO, format=file_logging_format)\n",
    "    logger = logging.getLogger()\n",
    "\n",
    "    # создадим хэнлдер для записи лога в файл\n",
    "    handler = logging.FileHandler(log_file)\n",
    "\n",
    "    # установим уровень логирования\n",
    "    handler.setLevel(logging.INFO)\n",
    "\n",
    "    # создадим формат логирования, используя file_logging_format\n",
    "    formatter = logging.Formatter(file_logging_format)\n",
    "    handler.setFormatter(formatter)\n",
    "\n",
    "    # добавим хэндлер лог-файлу\n",
    "    logger.addHandler(handler)\n",
    "    return logger"
   ]
  },
  {
   "cell_type": "code",
   "execution_count": 19,
   "metadata": {},
   "outputs": [
    {
     "name": "stderr",
     "output_type": "stream",
     "text": [
      "INFO: 2023-03-13 08:54:16,747: Data\n",
      "INFO: 2023-03-13 08:54:16,748: Data shape (110527, 14)\n",
      "INFO: 2023-03-13 08:54:16,757: Percentage of women: 0.653882342398853\n",
      "INFO: 2023-03-13 08:54:16,765: Percentage of men: 0.346117657601147\n"
     ]
    }
   ],
   "source": [
    "#!mkdir logs\n",
    "# создаем лог-файл\n",
    "logger = get_logger(path=\"./logs/\", file=\"data.logs\")\n",
    "\n",
    "logger.info(\"Data\")\n",
    "logger.info(\"Data shape {}\".format(df.shape))\n",
    "logger.info(\"Percentage of women: {}\".format(df[df['No-show']=='Yes']['Gender'].value_counts(True)[0]))\n",
    "logger.info(\"Percentage of men: {}\".format(df[df['No-show']=='Yes']['Gender'].value_counts(True)[1]))"
   ]
  },
  {
   "cell_type": "code",
   "execution_count": 20,
   "metadata": {},
   "outputs": [
    {
     "name": "stderr",
     "output_type": "stream",
     "text": [
      "ERROR: 2023-03-13 08:55:20,421: Data shape is incorrect!\n"
     ]
    }
   ],
   "source": [
    "if df.shape != (110526,14):\n",
    " logger.error('Data shape is incorrect!')"
   ]
  }
 ],
 "metadata": {
  "kernelspec": {
   "display_name": "Python 3",
   "language": "python",
   "name": "python3"
  },
  "language_info": {
   "codemirror_mode": {
    "name": "ipython",
    "version": 3
   },
   "file_extension": ".py",
   "mimetype": "text/x-python",
   "name": "python",
   "nbconvert_exporter": "python",
   "pygments_lexer": "ipython3",
   "version": "3.11.0"
  },
  "orig_nbformat": 4
 },
 "nbformat": 4,
 "nbformat_minor": 2
}
