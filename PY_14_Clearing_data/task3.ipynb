{
 "cells": [
  {
   "cell_type": "code",
   "execution_count": null,
   "metadata": {},
   "outputs": [],
   "source": [
    "# PYTHON-14. Очистка данных\n",
    "# 2. Знакомство с новыми данными: данные о квартирах от Сбера\n",
    "\n",
    "import pandas as pd\n",
    "import numpy as np\n",
    "import matplotlib.pyplot as plt\n",
    "import seaborn as sns\n",
    "\n",
    "pd.set_option('display.expand_frame_repr', False)\n",
    "\n",
    "sber_data = pd.read_csv('data/sber_data.csv')\n",
    "\n",
    "\n",
    "# print(sber_data.isnull().tail())\n",
    "# 2.1\n",
    "\n",
    "cols_null_percent = sber_data.isnull().mean() * 100\n",
    "cols_with_null = cols_null_percent[cols_null_percent > 0].sort_values(ascending=False)\n",
    "# print(cols_with_null)\n",
    "cols_with_null.plot(\n",
    "    kind='bar',\n",
    "    figsize=(10,4),\n",
    "    title=\"Empty data\"\n",
    ");\n"
   ]
  }
 ],
 "metadata": {
  "kernelspec": {
   "display_name": "Python 3.11.0 64-bit",
   "language": "python",
   "name": "python3"
  },
  "language_info": {
   "name": "python",
   "version": "3.11.0"
  },
  "orig_nbformat": 4,
  "vscode": {
   "interpreter": {
    "hash": "c261aea317cc0286b3b3261fbba9abdec21eaa57589985bb7a274bf54d6cc0a7"
   }
  }
 },
 "nbformat": 4,
 "nbformat_minor": 2
}
