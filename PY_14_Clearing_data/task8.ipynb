{
 "cells": [
  {
   "cell_type": "code",
   "execution_count": 98,
   "metadata": {},
   "outputs": [],
   "source": [
    "import pandas as pd\n",
    "import numpy as np\n",
    "\n",
    "diabetes = pd.read_csv('data/diabetes_data.csv')"
   ]
  },
  {
   "cell_type": "code",
   "execution_count": 99,
   "metadata": {},
   "outputs": [
    {
     "name": "stdout",
     "output_type": "stream",
     "text": [
      "(778, 10) (768, 10)\n"
     ]
    }
   ],
   "source": [
    "diabetes_un = diabetes.drop_duplicates()\n",
    "print(diabetes.shape, diabetes_un.shape)"
   ]
  },
  {
   "cell_type": "code",
   "execution_count": 100,
   "metadata": {},
   "outputs": [
    {
     "name": "stdout",
     "output_type": "stream",
     "text": [
      "['Gender']\n"
     ]
    }
   ],
   "source": [
    "def get_low_information_cols(data, porog=0.95):\n",
    "    low_information_cols = []\n",
    "    for col in data.columns:\n",
    "        top_freq = data[col].value_counts(normalize=True).max()\n",
    "        nunique_ratio = data[col].nunique() / data[col].count()\n",
    "        if top_freq > porog:\n",
    "            low_information_cols.append(col)\n",
    "            # print(f'{col}: {round(top_freq*100,2)}% одинаковых значений')\n",
    "        if nunique_ratio > porog:\n",
    "            low_information_cols.append(col)\n",
    "            # print(f'{col}: {round(nunique_ratio*100,2)}% уникальных значений')\n",
    "    return low_information_cols\n",
    "\n",
    "print(get_low_information_cols(diabetes_un))"
   ]
  },
  {
   "cell_type": "code",
   "execution_count": 101,
   "metadata": {},
   "outputs": [
    {
     "name": "stdout",
     "output_type": "stream",
     "text": [
      "(768, 10) (768, 9)\n"
     ]
    }
   ],
   "source": [
    "diabetes_un2 = diabetes_un.drop('Gender', axis=1)\n",
    "print(diabetes_un.shape, diabetes_un2.shape)"
   ]
  },
  {
   "cell_type": "code",
   "execution_count": 102,
   "metadata": {},
   "outputs": [
    {
     "name": "stdout",
     "output_type": "stream",
     "text": [
      "(0, 9)\n"
     ]
    }
   ],
   "source": [
    "print(diabetes_un2[diabetes_un2['Insulin'].isnull()].shape)"
   ]
  },
  {
   "cell_type": "code",
   "execution_count": 111,
   "metadata": {},
   "outputs": [
    {
     "name": "stdout",
     "output_type": "stream",
     "text": [
      "(0, 9) (768, 9) 0.0\n",
      "Pregnancies                 0.0\n",
      "Glucose                     0.0\n",
      "BloodPressure               0.0\n",
      "SkinThickness               0.0\n",
      "Insulin                     0.0\n",
      "BMI                         0.0\n",
      "DiabetesPedigreeFunction    0.0\n",
      "Age                         0.0\n",
      "Outcome                     0.0\n",
      "dtype: float64\n"
     ]
    }
   ],
   "source": [
    "\n",
    "def nan_func(x):\n",
    "    return np.nan if x == 0 else x\n",
    "\n",
    "diabetes_un3 = diabetes_un2.copy()\n",
    "cols_0_to_NUN = ('Glucose', 'BloodPressure', 'SkinThickness', 'Insulin', 'BMI')\n",
    "\n",
    "for col in cols_0_to_NUN:\n",
    "    diabetes_un3[col] = diabetes_un3[col].apply(nan_func)\n",
    "\n",
    "print(diabetes_un3[diabetes_un3['Insulin'].isnull()].shape, diabetes_un3.shape, round(diabetes_un3[diabetes_un3['Insulin'].isnull()].shape[0] / diabetes_un3.shape[0], 2))\n",
    "print(diabetes_un3.isnull().mean().round(2).sort_values(ascending=False))"
   ]
  },
  {
   "cell_type": "code",
   "execution_count": 109,
   "metadata": {},
   "outputs": [
    {
     "name": "stdout",
     "output_type": "stream",
     "text": [
      "537.5999999999999\n",
      "(768, 9) (768, 0)\n"
     ]
    }
   ],
   "source": [
    "thresh = diabetes_un3.shape[0] * 0.7\n",
    "print(thresh)\n",
    "diabetes_un4 = diabetes_un3.dropna(thresh=thresh, axis=1)\n",
    "print(diabetes_un3.shape, diabetes_un4.shape)"
   ]
  },
  {
   "cell_type": "code",
   "execution_count": 77,
   "metadata": {},
   "outputs": [
    {
     "name": "stdout",
     "output_type": "stream",
     "text": [
      "(396, 10)\n"
     ]
    }
   ],
   "source": [
    "m = diabetes_un4.shape[1]\n",
    "diabetes_un4 = diabetes_un4.dropna(thresh=m-2, axis=0)\n",
    "print(diabetes_un4.shape)"
   ]
  }
 ],
 "metadata": {
  "kernelspec": {
   "display_name": "Python 3",
   "language": "python",
   "name": "python3"
  },
  "language_info": {
   "codemirror_mode": {
    "name": "ipython",
    "version": 3
   },
   "file_extension": ".py",
   "mimetype": "text/x-python",
   "name": "python",
   "nbconvert_exporter": "python",
   "pygments_lexer": "ipython3",
   "version": "3.11.0"
  },
  "orig_nbformat": 4,
  "vscode": {
   "interpreter": {
    "hash": "c261aea317cc0286b3b3261fbba9abdec21eaa57589985bb7a274bf54d6cc0a7"
   }
  }
 },
 "nbformat": 4,
 "nbformat_minor": 2
}
