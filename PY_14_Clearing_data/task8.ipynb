{
 "cells": [
  {
   "cell_type": "code",
   "execution_count": 98,
   "metadata": {},
   "outputs": [],
   "source": [
    "import pandas as pd\n",
    "import numpy as np\n",
    "\n",
    "diabetes = pd.read_csv('data/diabetes_data.csv')"
   ]
  },
  {
   "cell_type": "code",
   "execution_count": 99,
   "metadata": {},
   "outputs": [
    {
     "name": "stdout",
     "output_type": "stream",
     "text": [
      "(778, 10) (768, 10)\n"
     ]
    }
   ],
   "source": [
    "diabetes_un = diabetes.drop_duplicates()\n",
    "print(diabetes.shape, diabetes_un.shape)"
   ]
  },
  {
   "cell_type": "code",
   "execution_count": 100,
   "metadata": {},
   "outputs": [
    {
     "name": "stdout",
     "output_type": "stream",
     "text": [
      "['Gender']\n"
     ]
    }
   ],
   "source": [
    "def get_low_information_cols(data, porog=0.95):\n",
    "    low_information_cols = []\n",
    "    for col in data.columns:\n",
    "        top_freq = data[col].value_counts(normalize=True).max()\n",
    "        nunique_ratio = data[col].nunique() / data[col].count()\n",
    "        if top_freq > porog:\n",
    "            low_information_cols.append(col)\n",
    "            # print(f'{col}: {round(top_freq*100,2)}% одинаковых значений')\n",
    "        if nunique_ratio > porog:\n",
    "            low_information_cols.append(col)\n",
    "            # print(f'{col}: {round(nunique_ratio*100,2)}% уникальных значений')\n",
    "    return low_information_cols\n",
    "\n",
    "print(get_low_information_cols(diabetes_un))"
   ]
  },
  {
   "cell_type": "code",
   "execution_count": 101,
   "metadata": {},
   "outputs": [
    {
     "name": "stdout",
     "output_type": "stream",
     "text": [
      "(768, 10) (768, 9)\n"
     ]
    }
   ],
   "source": [
    "diabetes_un2 = diabetes_un.drop('Gender', axis=1)\n",
    "print(diabetes_un.shape, diabetes_un2.shape)"
   ]
  },
  {
   "cell_type": "code",
   "execution_count": 102,
   "metadata": {},
   "outputs": [
    {
     "name": "stdout",
     "output_type": "stream",
     "text": [
      "(0, 9)\n"
     ]
    }
   ],
   "source": [
    "print(diabetes_un2[diabetes_un2['Insulin'].isnull()].shape)"
   ]
  },
  {
   "cell_type": "code",
   "execution_count": 112,
   "metadata": {},
   "outputs": [
    {
     "name": "stdout",
     "output_type": "stream",
     "text": [
      "(374, 9) (768, 9) 0.49\n",
      "Insulin                     0.49\n",
      "SkinThickness               0.30\n",
      "BloodPressure               0.05\n",
      "Glucose                     0.01\n",
      "BMI                         0.01\n",
      "Pregnancies                 0.00\n",
      "DiabetesPedigreeFunction    0.00\n",
      "Age                         0.00\n",
      "Outcome                     0.00\n",
      "dtype: float64\n"
     ]
    }
   ],
   "source": [
    "\n",
    "def nan_func(x):\n",
    "    return np.nan if x == 0 else x\n",
    "\n",
    "diabetes_un3 = diabetes_un2.copy()\n",
    "cols_0_to_NUN = ('Glucose', 'BloodPressure', 'SkinThickness', 'Insulin', 'BMI')\n",
    "\n",
    "for col in cols_0_to_NUN:\n",
    "    diabetes_un3[col] = diabetes_un3[col].apply(nan_func)\n",
    "\n",
    "print(diabetes_un3[diabetes_un3['Insulin'].isnull()].shape, diabetes_un3.shape, round(diabetes_un3[diabetes_un3['Insulin'].isnull()].shape[0] / diabetes_un3.shape[0], 2))\n",
    "print(diabetes_un3.isnull().mean().round(2).sort_values(ascending=False))"
   ]
  },
  {
   "cell_type": "code",
   "execution_count": 113,
   "metadata": {},
   "outputs": [
    {
     "name": "stdout",
     "output_type": "stream",
     "text": [
      "537.5999999999999\n",
      "(768, 9) (768, 8)\n"
     ]
    }
   ],
   "source": [
    "thresh = diabetes_un3.shape[0] * 0.7\n",
    "print(thresh)\n",
    "diabetes_un4 = diabetes_un3.dropna(thresh=thresh, axis=1)\n",
    "print(diabetes_un3.shape, diabetes_un4.shape)"
   ]
  },
  {
   "cell_type": "code",
   "execution_count": 114,
   "metadata": {},
   "outputs": [
    {
     "name": "stdout",
     "output_type": "stream",
     "text": [
      "(761, 8)\n"
     ]
    }
   ],
   "source": [
    "m = diabetes_un4.shape[1]\n",
    "diabetes_un4 = diabetes_un4.dropna(thresh=m-2, axis=0)\n",
    "print(diabetes_un4.shape)"
   ]
  },
  {
   "cell_type": "code",
   "execution_count": 121,
   "metadata": {},
   "outputs": [
    {
     "name": "stdout",
     "output_type": "stream",
     "text": [
      "{'Glucose': 117.0, 'BloodPressure': 72.0, 'SkinThickness': 29.0, 'BMI': 32.3}\n",
      "29.109067017082786 (761, 8)\n"
     ]
    }
   ],
   "source": [
    "diabetes_un5 = diabetes_un4.copy() \n",
    "values = {}\n",
    "for col in cols_0_to_NUN:\n",
    "    try:\n",
    "        values[col] = diabetes_un5[col].median()\n",
    "    except:\n",
    "        continue\n",
    "    \n",
    "print(values)\n",
    "diabetes_un5 = diabetes_un5.fillna(values)\n",
    "print(diabetes_un5['SkinThickness'].mean(), diabetes_un5.shape)"
   ]
  },
  {
   "cell_type": "code",
   "execution_count": 136,
   "metadata": {},
   "outputs": [
    {
     "name": "stdout",
     "output_type": "stream",
     "text": [
      "(87, 8) (674, 8)\n"
     ]
    }
   ],
   "source": [
    "def outliers_iqr_mod(data, feature, left=1.5, right=1.5):\n",
    "    x = data[feature]\n",
    "    quartile_1, quartile_3 = x.quantile(0.25), x.quantile(0.75)\n",
    "    iqr = quartile_3 - quartile_1\n",
    "    lower_bound = quartile_1 - iqr * left\n",
    "    upper_bound = quartile_3 + iqr * right\n",
    "    outliers = data[(x < lower_bound) | (x > upper_bound)]\n",
    "    cleaned = data[(x > lower_bound) & (x < upper_bound)]\n",
    "    return outliers, cleaned\n",
    "\n",
    "o, c = outliers_iqr_mod(diabetes_un5, 'SkinThickness')\n",
    "print(o.shape, c.shape)"
   ]
  },
  {
   "cell_type": "code",
   "execution_count": 137,
   "metadata": {},
   "outputs": [
    {
     "ename": "TypeError",
     "evalue": "outliers_iqr_mod() got an unexpected keyword argument 'log_scale'",
     "output_type": "error",
     "traceback": [
      "\u001b[1;31m---------------------------------------------------------------------------\u001b[0m",
      "\u001b[1;31mTypeError\u001b[0m                                 Traceback (most recent call last)",
      "Cell \u001b[1;32mIn[137], line 14\u001b[0m\n\u001b[0;32m     11\u001b[0m     cleaned \u001b[39m=\u001b[39m data[(x \u001b[39m>\u001b[39m lower_bound) \u001b[39m&\u001b[39m (x \u001b[39m<\u001b[39m upper_bound)]\n\u001b[0;32m     12\u001b[0m     \u001b[39mreturn\u001b[39;00m outliers, cleaned\n\u001b[1;32m---> 14\u001b[0m o, c \u001b[39m=\u001b[39m outliers_iqr_mod(diabetes_un5, \u001b[39m'\u001b[39;49m\u001b[39mSkinThickness\u001b[39;49m\u001b[39m'\u001b[39;49m, log_scale\u001b[39m=\u001b[39;49m\u001b[39mFalse\u001b[39;49;00m)\n\u001b[0;32m     15\u001b[0m \u001b[39mprint\u001b[39m(o\u001b[39m.\u001b[39mshape, c\u001b[39m.\u001b[39mshape)\n\u001b[0;32m     16\u001b[0m o, c \u001b[39m=\u001b[39m outliers_iqr_mod(diabetes_un5, \u001b[39m'\u001b[39m\u001b[39mSkinThickness\u001b[39m\u001b[39m'\u001b[39m, log_scale\u001b[39m=\u001b[39m\u001b[39mTrue\u001b[39;00m)\n",
      "\u001b[1;31mTypeError\u001b[0m: outliers_iqr_mod() got an unexpected keyword argument 'log_scale'"
     ]
    }
   ],
   "source": [
    "def outliers_z_score_mod(data, feature, left=3, right=3, log_scale=False):\n",
    "    if log_scale:\n",
    "        x = np.log(data[feature])\n",
    "    else:\n",
    "        x = data[feature]\n",
    "    mu = x.mean()\n",
    "    sigma = x.std()\n",
    "    lower_bound = mu - left * sigma\n",
    "    upper_bound = mu + right * sigma\n",
    "    outliers = data[(x < lower_bound) | (x > upper_bound)]\n",
    "    cleaned = data[(x > lower_bound) & (x < upper_bound)]\n",
    "    return outliers, cleaned\n",
    "\n",
    "o, c = outliers_iqr_mod(diabetes_un5, 'SkinThickness', log_scale=False)\n",
    "print(o.shape, c.shape)\n",
    "o, c = outliers_iqr_mod(diabetes_un5, 'SkinThickness', log_scale=True)\n",
    "print(o.shape, c.shape)"
   ]
  },
  {
   "cell_type": "code",
   "execution_count": 135,
   "metadata": {},
   "outputs": [
    {
     "name": "stdout",
     "output_type": "stream",
     "text": [
      "(29, 8) (732, 8)\n",
      "(11, 8) (750, 8)\n"
     ]
    }
   ],
   "source": [
    "o1, c1 = outliers_iqr_mod(diabetes_un5, 'DiabetesPedigreeFunction')\n",
    "print(o1.shape, c1.shape)\n",
    "o2, c2 = outliers_z_score_mod(diabetes_un5, 'DiabetesPedigreeFunction', log_scale=False)\n",
    "print(o2.shape, c2.shape)"
   ]
  }
 ],
 "metadata": {
  "kernelspec": {
   "display_name": "Python 3",
   "language": "python",
   "name": "python3"
  },
  "language_info": {
   "codemirror_mode": {
    "name": "ipython",
    "version": 3
   },
   "file_extension": ".py",
   "mimetype": "text/x-python",
   "name": "python",
   "nbconvert_exporter": "python",
   "pygments_lexer": "ipython3",
   "version": "3.11.0"
  },
  "orig_nbformat": 4,
  "vscode": {
   "interpreter": {
    "hash": "c261aea317cc0286b3b3261fbba9abdec21eaa57589985bb7a274bf54d6cc0a7"
   }
  }
 },
 "nbformat": 4,
 "nbformat_minor": 2
}
