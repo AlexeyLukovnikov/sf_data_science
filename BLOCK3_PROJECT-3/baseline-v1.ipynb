{
 "cells": [
  {
   "cell_type": "code",
   "execution_count": 848,
   "id": "81a20841",
   "metadata": {
    "_cell_guid": "b1076dfc-b9ad-4769-8c92-a6c4dae69d19",
    "_uuid": "8f2839f25d086af736a60e9eeb907d3b93b6e0e5",
    "execution": {
     "iopub.execute_input": "2022-02-08T19:14:22.339329Z",
     "iopub.status.busy": "2022-02-08T19:14:22.338238Z",
     "iopub.status.idle": "2022-02-08T19:14:23.673423Z",
     "shell.execute_reply": "2022-02-08T19:14:23.673936Z",
     "shell.execute_reply.started": "2022-02-08T18:44:26.624161Z"
    },
    "papermill": {
     "duration": 1.363434,
     "end_time": "2022-02-08T19:14:23.674225",
     "exception": false,
     "start_time": "2022-02-08T19:14:22.310791",
     "status": "completed"
    },
    "tags": []
   },
   "outputs": [],
   "source": [
    "# This Python 3 environment comes with many helpful analytics libraries installed\n",
    "# It is defined by the kaggle/python Docker image: https://github.com/kaggle/docker-python\n",
    "# For example, here's several helpful packages to load\n",
    "\n",
    "import numpy as np # linear algebra\n",
    "import pandas as pd # data processing, CSV file I/O (e.g. pd.read_csv)\n",
    "\n",
    "# импортируем библиотеки для визуализации\n",
    "import matplotlib.pyplot as plt\n",
    "import seaborn as sns \n",
    "%matplotlib inline\n",
    "\n",
    "# Загружаем специальный удобный инструмент для разделения датасета:\n",
    "from sklearn.model_selection import train_test_split\n",
    "\n",
    "# Input data files are available in the read-only \"../input/\" directory\n",
    "# For example, running this (by clicking run or pressing Shift+Enter) will list all files under the input directory\n",
    "\n",
    "import os\n",
    "for dirname, _, filenames in os.walk('/kaggle/input'):\n",
    "    for filename in filenames:\n",
    "        print(os.path.join(dirname, filename))\n",
    "\n",
    "# You can write up to 20GB to the current directory (/kaggle/working/) that gets preserved as output when you create a version using \"Save & Run All\" \n",
    "# You can also write temporary files to /kaggle/temp/, but they won't be saved outside of the current session"
   ]
  },
  {
   "cell_type": "code",
   "execution_count": 849,
   "id": "8bd9892a",
   "metadata": {
    "execution": {
     "iopub.execute_input": "2022-02-08T19:14:23.722495Z",
     "iopub.status.busy": "2022-02-08T19:14:23.721381Z",
     "iopub.status.idle": "2022-02-08T19:14:23.725121Z",
     "shell.execute_reply": "2022-02-08T19:14:23.725576Z",
     "shell.execute_reply.started": "2022-02-08T18:44:26.641433Z"
    },
    "papermill": {
     "duration": 0.028937,
     "end_time": "2022-02-08T19:14:23.725766",
     "exception": false,
     "start_time": "2022-02-08T19:14:23.696829",
     "status": "completed"
    },
    "tags": []
   },
   "outputs": [],
   "source": [
    "# всегда фиксируйте RANDOM_SEED, чтобы ваши эксперименты были воспроизводимы!\n",
    "RANDOM_SEED = 42"
   ]
  },
  {
   "cell_type": "code",
   "execution_count": 850,
   "id": "814dbb0b",
   "metadata": {
    "execution": {
     "iopub.execute_input": "2022-02-08T19:14:23.771180Z",
     "iopub.status.busy": "2022-02-08T19:14:23.770572Z",
     "iopub.status.idle": "2022-02-08T19:14:28.207550Z",
     "shell.execute_reply": "2022-02-08T19:14:28.206673Z",
     "shell.execute_reply.started": "2022-02-08T18:44:26.648843Z"
    },
    "papermill": {
     "duration": 4.460662,
     "end_time": "2022-02-08T19:14:28.207868",
     "exception": false,
     "start_time": "2022-02-08T19:14:23.747206",
     "status": "completed"
    },
    "tags": []
   },
   "outputs": [],
   "source": [
    "# зафиксируем версию пакетов, чтобы эксперименты были воспроизводимы:\n",
    "#!pip freeze > requirements.txt"
   ]
  },
  {
   "cell_type": "code",
   "execution_count": 851,
   "id": "2586b1ef",
   "metadata": {
    "execution": {
     "iopub.execute_input": "2022-02-08T19:14:28.262028Z",
     "iopub.status.busy": "2022-02-08T19:14:28.261082Z",
     "iopub.status.idle": "2022-02-08T19:14:33.762274Z",
     "shell.execute_reply": "2022-02-08T19:14:33.761547Z",
     "shell.execute_reply.started": "2022-02-08T18:44:29.657645Z"
    },
    "papermill": {
     "duration": 5.530208,
     "end_time": "2022-02-08T19:14:33.762433",
     "exception": false,
     "start_time": "2022-02-08T19:14:28.232225",
     "status": "completed"
    },
    "tags": []
   },
   "outputs": [],
   "source": [
    "# Подгрузим наши данные из соревнования\n",
    "\n",
    "#DATA_DIR = '/kaggle/input/sf-booking/'\n",
    "#df_train = pd.read_csv(DATA_DIR+'/hotels_train.csv') # датасет для обучения\n",
    "#df_test = pd.read_csv(DATA_DIR+'hotels_test.csv') # датасет для предсказания\n",
    "#sample_submission = pd.read_csv(DATA_DIR+'/submission.csv') # самбмишн"
   ]
  },
  {
   "cell_type": "code",
   "execution_count": 852,
   "id": "71cc11f1",
   "metadata": {},
   "outputs": [],
   "source": [
    "DATA_DIR = 'data'\n",
    "df_train = pd.read_csv(DATA_DIR+'/hotels_train.zip') # датасет для обучения\n",
    "df_test = pd.read_csv(DATA_DIR+'/hotels_test.zip') # датасет для предсказания\n",
    "sample_submission = pd.read_csv(DATA_DIR+'/submission.csv') # самбмишн"
   ]
  },
  {
   "cell_type": "code",
   "execution_count": 853,
   "id": "e5af1bc4",
   "metadata": {},
   "outputs": [
    {
     "name": "stdout",
     "output_type": "stream",
     "text": [
      "386803 True\n",
      "0 hotel_address 1493 0.39\n",
      "2 review_date 731 0.19\n",
      "4 hotel_name 1492 0.39\n",
      "5 reviewer_nationality 225 0.06\n",
      "6 negative_review 248828 64.33\n",
      "9 positive_review 311737 80.59\n",
      "13 tags 47135 12.19\n",
      "14 days_since_review 731 0.19\n"
     ]
    }
   ],
   "source": [
    "print(df_train.shape[0], df_test.shape[0] == sample_submission.shape[0])\n",
    "for i, v in enumerate(df_train.columns):\n",
    "    if df_train[v].dtype == 'object':\n",
    "        print(i, v, df_train[v].nunique(), round(df_train[v].nunique() / df_train.shape[0] * 100, 2))"
   ]
  },
  {
   "cell_type": "code",
   "execution_count": 854,
   "id": "e816699e",
   "metadata": {},
   "outputs": [
    {
     "data": {
      "text/html": [
       "<div>\n",
       "<style scoped>\n",
       "    .dataframe tbody tr th:only-of-type {\n",
       "        vertical-align: middle;\n",
       "    }\n",
       "\n",
       "    .dataframe tbody tr th {\n",
       "        vertical-align: top;\n",
       "    }\n",
       "\n",
       "    .dataframe thead th {\n",
       "        text-align: right;\n",
       "    }\n",
       "</style>\n",
       "<table border=\"1\" class=\"dataframe\">\n",
       "  <thead>\n",
       "    <tr style=\"text-align: right;\">\n",
       "      <th></th>\n",
       "      <th>positive_review</th>\n",
       "      <th>hotel_address</th>\n",
       "    </tr>\n",
       "  </thead>\n",
       "  <tbody>\n",
       "    <tr>\n",
       "      <th>311736</th>\n",
       "      <td>No Positive</td>\n",
       "      <td>26885</td>\n",
       "    </tr>\n",
       "    <tr>\n",
       "      <th>117957</th>\n",
       "      <td>Location</td>\n",
       "      <td>6833</td>\n",
       "    </tr>\n",
       "    <tr>\n",
       "      <th>43203</th>\n",
       "      <td>Everything</td>\n",
       "      <td>1697</td>\n",
       "    </tr>\n",
       "    <tr>\n",
       "      <th>297218</th>\n",
       "      <td>location</td>\n",
       "      <td>1251</td>\n",
       "    </tr>\n",
       "    <tr>\n",
       "      <th>154852</th>\n",
       "      <td>Nothing</td>\n",
       "      <td>931</td>\n",
       "    </tr>\n",
       "    <tr>\n",
       "      <th>218412</th>\n",
       "      <td>The location</td>\n",
       "      <td>830</td>\n",
       "    </tr>\n",
       "    <tr>\n",
       "      <th>83504</th>\n",
       "      <td>Great location</td>\n",
       "      <td>809</td>\n",
       "    </tr>\n",
       "    <tr>\n",
       "      <th>73030</th>\n",
       "      <td>Good location</td>\n",
       "      <td>690</td>\n",
       "    </tr>\n",
       "    <tr>\n",
       "      <th>117958</th>\n",
       "      <td>Location</td>\n",
       "      <td>663</td>\n",
       "    </tr>\n",
       "    <tr>\n",
       "      <th>19513</th>\n",
       "      <td>Breakfast</td>\n",
       "      <td>455</td>\n",
       "    </tr>\n",
       "    <tr>\n",
       "      <th>43204</th>\n",
       "      <td>Everything</td>\n",
       "      <td>449</td>\n",
       "    </tr>\n",
       "    <tr>\n",
       "      <th>66891</th>\n",
       "      <td>Friendly staff</td>\n",
       "      <td>385</td>\n",
       "    </tr>\n",
       "    <tr>\n",
       "      <th>179576</th>\n",
       "      <td>Staff</td>\n",
       "      <td>347</td>\n",
       "    </tr>\n",
       "    <tr>\n",
       "      <th>51354</th>\n",
       "      <td>Excellent location</td>\n",
       "      <td>296</td>\n",
       "    </tr>\n",
       "    <tr>\n",
       "      <th>83505</th>\n",
       "      <td>Great location</td>\n",
       "      <td>280</td>\n",
       "    </tr>\n",
       "    <tr>\n",
       "      <th>121759</th>\n",
       "      <td>Location and staff</td>\n",
       "      <td>256</td>\n",
       "    </tr>\n",
       "    <tr>\n",
       "      <th>290980</th>\n",
       "      <td>everything</td>\n",
       "      <td>233</td>\n",
       "    </tr>\n",
       "    <tr>\n",
       "      <th>73031</th>\n",
       "      <td>Good location</td>\n",
       "      <td>214</td>\n",
       "    </tr>\n",
       "    <tr>\n",
       "      <th>154853</th>\n",
       "      <td>Nothing</td>\n",
       "      <td>170</td>\n",
       "    </tr>\n",
       "    <tr>\n",
       "      <th>301327</th>\n",
       "      <td>nothing</td>\n",
       "      <td>159</td>\n",
       "    </tr>\n",
       "    <tr>\n",
       "      <th>34815</th>\n",
       "      <td>Comfy bed</td>\n",
       "      <td>158</td>\n",
       "    </tr>\n",
       "    <tr>\n",
       "      <th>218413</th>\n",
       "      <td>The location</td>\n",
       "      <td>152</td>\n",
       "    </tr>\n",
       "    <tr>\n",
       "      <th>240900</th>\n",
       "      <td>The staff</td>\n",
       "      <td>151</td>\n",
       "    </tr>\n",
       "    <tr>\n",
       "      <th>293608</th>\n",
       "      <td>good location</td>\n",
       "      <td>151</td>\n",
       "    </tr>\n",
       "    <tr>\n",
       "      <th>306476</th>\n",
       "      <td>the location</td>\n",
       "      <td>141</td>\n",
       "    </tr>\n",
       "    <tr>\n",
       "      <th>134988</th>\n",
       "      <td>Location was good</td>\n",
       "      <td>140</td>\n",
       "    </tr>\n",
       "    <tr>\n",
       "      <th>135504</th>\n",
       "      <td>Location was great</td>\n",
       "      <td>137</td>\n",
       "    </tr>\n",
       "    <tr>\n",
       "      <th>132154</th>\n",
       "      <td>Location staff</td>\n",
       "      <td>136</td>\n",
       "    </tr>\n",
       "    <tr>\n",
       "      <th>71346</th>\n",
       "      <td>Good breakfast</td>\n",
       "      <td>130</td>\n",
       "    </tr>\n",
       "    <tr>\n",
       "      <th>0</th>\n",
       "      <td></td>\n",
       "      <td>128</td>\n",
       "    </tr>\n",
       "    <tr>\n",
       "      <th>4323</th>\n",
       "      <td>All</td>\n",
       "      <td>123</td>\n",
       "    </tr>\n",
       "    <tr>\n",
       "      <th>158966</th>\n",
       "      <td>Perfect location</td>\n",
       "      <td>122</td>\n",
       "    </tr>\n",
       "    <tr>\n",
       "      <th>42699</th>\n",
       "      <td>Every thing</td>\n",
       "      <td>122</td>\n",
       "    </tr>\n",
       "    <tr>\n",
       "      <th>26660</th>\n",
       "      <td>Clean</td>\n",
       "      <td>117</td>\n",
       "    </tr>\n",
       "    <tr>\n",
       "      <th>51355</th>\n",
       "      <td>Excellent location</td>\n",
       "      <td>114</td>\n",
       "    </tr>\n",
       "    <tr>\n",
       "      <th>47459</th>\n",
       "      <td>Everything was perfect</td>\n",
       "      <td>111</td>\n",
       "    </tr>\n",
       "    <tr>\n",
       "      <th>127494</th>\n",
       "      <td>Location is great</td>\n",
       "      <td>108</td>\n",
       "    </tr>\n",
       "    <tr>\n",
       "      <th>294753</th>\n",
       "      <td>great location</td>\n",
       "      <td>107</td>\n",
       "    </tr>\n",
       "    <tr>\n",
       "      <th>127120</th>\n",
       "      <td>Location is good</td>\n",
       "      <td>105</td>\n",
       "    </tr>\n",
       "    <tr>\n",
       "      <th>267354</th>\n",
       "      <td>Very friendly staff</td>\n",
       "      <td>105</td>\n",
       "    </tr>\n",
       "    <tr>\n",
       "      <th>32889</th>\n",
       "      <td>Comfortable bed</td>\n",
       "      <td>103</td>\n",
       "    </tr>\n",
       "    <tr>\n",
       "      <th>29824</th>\n",
       "      <td>Cleanliness</td>\n",
       "      <td>101</td>\n",
       "    </tr>\n",
       "    <tr>\n",
       "      <th>129711</th>\n",
       "      <td>Location location location</td>\n",
       "      <td>100</td>\n",
       "    </tr>\n",
       "    <tr>\n",
       "      <th>47460</th>\n",
       "      <td>Everything was perfect</td>\n",
       "      <td>99</td>\n",
       "    </tr>\n",
       "    <tr>\n",
       "      <th>22364</th>\n",
       "      <td>Breakfast was good</td>\n",
       "      <td>99</td>\n",
       "    </tr>\n",
       "    <tr>\n",
       "      <th>80760</th>\n",
       "      <td>Great breakfast</td>\n",
       "      <td>94</td>\n",
       "    </tr>\n",
       "    <tr>\n",
       "      <th>134131</th>\n",
       "      <td>Location was excellent</td>\n",
       "      <td>94</td>\n",
       "    </tr>\n",
       "    <tr>\n",
       "      <th>25279</th>\n",
       "      <td>Central location</td>\n",
       "      <td>94</td>\n",
       "    </tr>\n",
       "    <tr>\n",
       "      <th>162193</th>\n",
       "      <td>Position</td>\n",
       "      <td>89</td>\n",
       "    </tr>\n",
       "    <tr>\n",
       "      <th>288208</th>\n",
       "      <td>breakfast</td>\n",
       "      <td>87</td>\n",
       "    </tr>\n",
       "  </tbody>\n",
       "</table>\n",
       "</div>"
      ],
      "text/plain": [
       "                    positive_review  hotel_address\n",
       "311736                  No Positive          26885\n",
       "117957                     Location           6833\n",
       "43203                    Everything           1697\n",
       "297218                     location           1251\n",
       "154852                      Nothing            931\n",
       "218412                 The location            830\n",
       "83504                Great location            809\n",
       "73030                 Good location            690\n",
       "117958                    Location             663\n",
       "19513                     Breakfast            455\n",
       "43204                   Everything             449\n",
       "66891                Friendly staff            385\n",
       "179576                        Staff            347\n",
       "51354            Excellent location            296\n",
       "83505               Great location             280\n",
       "121759           Location and staff            256\n",
       "290980                   everything            233\n",
       "73031                Good location             214\n",
       "154853                     Nothing             170\n",
       "301327                      nothing            159\n",
       "34815                     Comfy bed            158\n",
       "218413                The location             152\n",
       "240900                    The staff            151\n",
       "293608                good location            151\n",
       "306476                 the location            141\n",
       "134988            Location was good            140\n",
       "135504           Location was great            137\n",
       "132154               Location staff            136\n",
       "71346                Good breakfast            130\n",
       "0                                              128\n",
       "4323                            All            123\n",
       "158966             Perfect location            122\n",
       "42699                   Every thing            122\n",
       "26660                         Clean            117\n",
       "51355           Excellent location             114\n",
       "47459        Everything was perfect            111\n",
       "127494            Location is great            108\n",
       "294753               great location            107\n",
       "127120             Location is good            105\n",
       "267354          Very friendly staff            105\n",
       "32889               Comfortable bed            103\n",
       "29824                   Cleanliness            101\n",
       "129711   Location location location            100\n",
       "47460       Everything was perfect              99\n",
       "22364            Breakfast was good             99\n",
       "80760               Great breakfast             94\n",
       "134131       Location was excellent             94\n",
       "25279              Central location             94\n",
       "162193                     Position             89\n",
       "288208                    breakfast             87"
      ]
     },
     "execution_count": 854,
     "metadata": {},
     "output_type": "execute_result"
    }
   ],
   "source": [
    "#df_train.groupby(by='negative_review', as_index=False)['hotel_address'].count().sort_values(by='hotel_address', ascending=False).head(50)\n",
    "df_train.groupby(by='positive_review', as_index=False)['hotel_address'].count().sort_values(by='hotel_address', ascending=False).head(50)"
   ]
  },
  {
   "cell_type": "code",
   "execution_count": 855,
   "id": "5aadcce6",
   "metadata": {
    "execution": {
     "iopub.execute_input": "2022-02-08T19:14:33.814184Z",
     "iopub.status.busy": "2022-02-08T19:14:33.813500Z",
     "iopub.status.idle": "2022-02-08T19:14:33.985724Z",
     "shell.execute_reply": "2022-02-08T19:14:33.986240Z",
     "shell.execute_reply.started": "2022-02-08T18:44:32.949435Z"
    },
    "papermill": {
     "duration": 0.201246,
     "end_time": "2022-02-08T19:14:33.986418",
     "exception": false,
     "start_time": "2022-02-08T19:14:33.785172",
     "status": "completed"
    },
    "tags": []
   },
   "outputs": [
    {
     "name": "stdout",
     "output_type": "stream",
     "text": [
      "<class 'pandas.core.frame.DataFrame'>\n",
      "RangeIndex: 386803 entries, 0 to 386802\n",
      "Data columns (total 17 columns):\n",
      " #   Column                                      Non-Null Count   Dtype  \n",
      "---  ------                                      --------------   -----  \n",
      " 0   hotel_address                               386803 non-null  object \n",
      " 1   additional_number_of_scoring                386803 non-null  int64  \n",
      " 2   review_date                                 386803 non-null  object \n",
      " 3   average_score                               386803 non-null  float64\n",
      " 4   hotel_name                                  386803 non-null  object \n",
      " 5   reviewer_nationality                        386803 non-null  object \n",
      " 6   negative_review                             386803 non-null  object \n",
      " 7   review_total_negative_word_counts           386803 non-null  int64  \n",
      " 8   total_number_of_reviews                     386803 non-null  int64  \n",
      " 9   positive_review                             386803 non-null  object \n",
      " 10  review_total_positive_word_counts           386803 non-null  int64  \n",
      " 11  total_number_of_reviews_reviewer_has_given  386803 non-null  int64  \n",
      " 12  reviewer_score                              386803 non-null  float64\n",
      " 13  tags                                        386803 non-null  object \n",
      " 14  days_since_review                           386803 non-null  object \n",
      " 15  lat                                         384355 non-null  float64\n",
      " 16  lng                                         384355 non-null  float64\n",
      "dtypes: float64(4), int64(5), object(8)\n",
      "memory usage: 50.2+ MB\n"
     ]
    }
   ],
   "source": [
    "df_train.info()"
   ]
  },
  {
   "cell_type": "code",
   "execution_count": 856,
   "id": "eff9e899",
   "metadata": {
    "execution": {
     "iopub.execute_input": "2022-02-08T19:14:34.040534Z",
     "iopub.status.busy": "2022-02-08T19:14:34.039607Z",
     "iopub.status.idle": "2022-02-08T19:14:34.067200Z",
     "shell.execute_reply": "2022-02-08T19:14:34.067646Z",
     "shell.execute_reply.started": "2022-02-08T18:44:33.295852Z"
    },
    "papermill": {
     "duration": 0.060301,
     "end_time": "2022-02-08T19:14:34.067848",
     "exception": false,
     "start_time": "2022-02-08T19:14:34.007547",
     "status": "completed"
    },
    "tags": []
   },
   "outputs": [
    {
     "data": {
      "text/html": [
       "<div>\n",
       "<style scoped>\n",
       "    .dataframe tbody tr th:only-of-type {\n",
       "        vertical-align: middle;\n",
       "    }\n",
       "\n",
       "    .dataframe tbody tr th {\n",
       "        vertical-align: top;\n",
       "    }\n",
       "\n",
       "    .dataframe thead th {\n",
       "        text-align: right;\n",
       "    }\n",
       "</style>\n",
       "<table border=\"1\" class=\"dataframe\">\n",
       "  <thead>\n",
       "    <tr style=\"text-align: right;\">\n",
       "      <th></th>\n",
       "      <th>hotel_address</th>\n",
       "      <th>additional_number_of_scoring</th>\n",
       "      <th>review_date</th>\n",
       "      <th>average_score</th>\n",
       "      <th>hotel_name</th>\n",
       "      <th>reviewer_nationality</th>\n",
       "      <th>negative_review</th>\n",
       "      <th>review_total_negative_word_counts</th>\n",
       "      <th>total_number_of_reviews</th>\n",
       "      <th>positive_review</th>\n",
       "      <th>review_total_positive_word_counts</th>\n",
       "      <th>total_number_of_reviews_reviewer_has_given</th>\n",
       "      <th>reviewer_score</th>\n",
       "      <th>tags</th>\n",
       "      <th>days_since_review</th>\n",
       "      <th>lat</th>\n",
       "      <th>lng</th>\n",
       "    </tr>\n",
       "  </thead>\n",
       "  <tbody>\n",
       "    <tr>\n",
       "      <th>0</th>\n",
       "      <td>Stratton Street Mayfair Westminster Borough Lo...</td>\n",
       "      <td>581</td>\n",
       "      <td>2/19/2016</td>\n",
       "      <td>8.4</td>\n",
       "      <td>The May Fair Hotel</td>\n",
       "      <td>United Kingdom</td>\n",
       "      <td>Leaving</td>\n",
       "      <td>3</td>\n",
       "      <td>1994</td>\n",
       "      <td>Staff were amazing</td>\n",
       "      <td>4</td>\n",
       "      <td>7</td>\n",
       "      <td>10.0</td>\n",
       "      <td>[' Leisure trip ', ' Couple ', ' Studio Suite ...</td>\n",
       "      <td>531 day</td>\n",
       "      <td>51.507894</td>\n",
       "      <td>-0.143671</td>\n",
       "    </tr>\n",
       "    <tr>\n",
       "      <th>1</th>\n",
       "      <td>130 134 Southampton Row Camden London WC1B 5AF...</td>\n",
       "      <td>299</td>\n",
       "      <td>1/12/2017</td>\n",
       "      <td>8.3</td>\n",
       "      <td>Mercure London Bloomsbury Hotel</td>\n",
       "      <td>United Kingdom</td>\n",
       "      <td>poor breakfast</td>\n",
       "      <td>3</td>\n",
       "      <td>1361</td>\n",
       "      <td>location</td>\n",
       "      <td>2</td>\n",
       "      <td>14</td>\n",
       "      <td>6.3</td>\n",
       "      <td>[' Business trip ', ' Couple ', ' Standard Dou...</td>\n",
       "      <td>203 day</td>\n",
       "      <td>51.521009</td>\n",
       "      <td>-0.123097</td>\n",
       "    </tr>\n",
       "  </tbody>\n",
       "</table>\n",
       "</div>"
      ],
      "text/plain": [
       "                                       hotel_address  \\\n",
       "0  Stratton Street Mayfair Westminster Borough Lo...   \n",
       "1  130 134 Southampton Row Camden London WC1B 5AF...   \n",
       "\n",
       "   additional_number_of_scoring review_date  average_score  \\\n",
       "0                           581   2/19/2016            8.4   \n",
       "1                           299   1/12/2017            8.3   \n",
       "\n",
       "                        hotel_name reviewer_nationality  negative_review  \\\n",
       "0               The May Fair Hotel      United Kingdom          Leaving    \n",
       "1  Mercure London Bloomsbury Hotel      United Kingdom    poor breakfast   \n",
       "\n",
       "   review_total_negative_word_counts  total_number_of_reviews  \\\n",
       "0                                  3                     1994   \n",
       "1                                  3                     1361   \n",
       "\n",
       "       positive_review  review_total_positive_word_counts  \\\n",
       "0   Staff were amazing                                  4   \n",
       "1             location                                  2   \n",
       "\n",
       "   total_number_of_reviews_reviewer_has_given  reviewer_score  \\\n",
       "0                                           7            10.0   \n",
       "1                                          14             6.3   \n",
       "\n",
       "                                                tags days_since_review  \\\n",
       "0  [' Leisure trip ', ' Couple ', ' Studio Suite ...           531 day   \n",
       "1  [' Business trip ', ' Couple ', ' Standard Dou...           203 day   \n",
       "\n",
       "         lat       lng  \n",
       "0  51.507894 -0.143671  \n",
       "1  51.521009 -0.123097  "
      ]
     },
     "execution_count": 856,
     "metadata": {},
     "output_type": "execute_result"
    }
   ],
   "source": [
    "df_train.head(2)"
   ]
  },
  {
   "cell_type": "code",
   "execution_count": 857,
   "id": "f2a61b14",
   "metadata": {
    "execution": {
     "iopub.execute_input": "2022-02-08T19:14:34.129923Z",
     "iopub.status.busy": "2022-02-08T19:14:34.129023Z",
     "iopub.status.idle": "2022-02-08T19:14:34.201112Z",
     "shell.execute_reply": "2022-02-08T19:14:34.201672Z",
     "shell.execute_reply.started": "2022-02-08T18:44:33.315329Z"
    },
    "papermill": {
     "duration": 0.104528,
     "end_time": "2022-02-08T19:14:34.201919",
     "exception": false,
     "start_time": "2022-02-08T19:14:34.097391",
     "status": "completed"
    },
    "tags": []
   },
   "outputs": [
    {
     "name": "stdout",
     "output_type": "stream",
     "text": [
      "<class 'pandas.core.frame.DataFrame'>\n",
      "RangeIndex: 128935 entries, 0 to 128934\n",
      "Data columns (total 16 columns):\n",
      " #   Column                                      Non-Null Count   Dtype  \n",
      "---  ------                                      --------------   -----  \n",
      " 0   hotel_address                               128935 non-null  object \n",
      " 1   additional_number_of_scoring                128935 non-null  int64  \n",
      " 2   review_date                                 128935 non-null  object \n",
      " 3   average_score                               128935 non-null  float64\n",
      " 4   hotel_name                                  128935 non-null  object \n",
      " 5   reviewer_nationality                        128935 non-null  object \n",
      " 6   negative_review                             128935 non-null  object \n",
      " 7   review_total_negative_word_counts           128935 non-null  int64  \n",
      " 8   total_number_of_reviews                     128935 non-null  int64  \n",
      " 9   positive_review                             128935 non-null  object \n",
      " 10  review_total_positive_word_counts           128935 non-null  int64  \n",
      " 11  total_number_of_reviews_reviewer_has_given  128935 non-null  int64  \n",
      " 12  tags                                        128935 non-null  object \n",
      " 13  days_since_review                           128935 non-null  object \n",
      " 14  lat                                         128115 non-null  float64\n",
      " 15  lng                                         128115 non-null  float64\n",
      "dtypes: float64(3), int64(5), object(8)\n",
      "memory usage: 15.7+ MB\n"
     ]
    }
   ],
   "source": [
    "df_test.info()"
   ]
  },
  {
   "cell_type": "code",
   "execution_count": 858,
   "id": "ff071ddd",
   "metadata": {
    "execution": {
     "iopub.execute_input": "2022-02-08T19:14:34.253561Z",
     "iopub.status.busy": "2022-02-08T19:14:34.252940Z",
     "iopub.status.idle": "2022-02-08T19:14:34.267949Z",
     "shell.execute_reply": "2022-02-08T19:14:34.268388Z",
     "shell.execute_reply.started": "2022-02-08T18:44:33.439055Z"
    },
    "papermill": {
     "duration": 0.041895,
     "end_time": "2022-02-08T19:14:34.268570",
     "exception": false,
     "start_time": "2022-02-08T19:14:34.226675",
     "status": "completed"
    },
    "tags": []
   },
   "outputs": [
    {
     "data": {
      "text/html": [
       "<div>\n",
       "<style scoped>\n",
       "    .dataframe tbody tr th:only-of-type {\n",
       "        vertical-align: middle;\n",
       "    }\n",
       "\n",
       "    .dataframe tbody tr th {\n",
       "        vertical-align: top;\n",
       "    }\n",
       "\n",
       "    .dataframe thead th {\n",
       "        text-align: right;\n",
       "    }\n",
       "</style>\n",
       "<table border=\"1\" class=\"dataframe\">\n",
       "  <thead>\n",
       "    <tr style=\"text-align: right;\">\n",
       "      <th></th>\n",
       "      <th>hotel_address</th>\n",
       "      <th>additional_number_of_scoring</th>\n",
       "      <th>review_date</th>\n",
       "      <th>average_score</th>\n",
       "      <th>hotel_name</th>\n",
       "      <th>reviewer_nationality</th>\n",
       "      <th>negative_review</th>\n",
       "      <th>review_total_negative_word_counts</th>\n",
       "      <th>total_number_of_reviews</th>\n",
       "      <th>positive_review</th>\n",
       "      <th>review_total_positive_word_counts</th>\n",
       "      <th>total_number_of_reviews_reviewer_has_given</th>\n",
       "      <th>tags</th>\n",
       "      <th>days_since_review</th>\n",
       "      <th>lat</th>\n",
       "      <th>lng</th>\n",
       "    </tr>\n",
       "  </thead>\n",
       "  <tbody>\n",
       "    <tr>\n",
       "      <th>0</th>\n",
       "      <td>Via Senigallia 6 20161 Milan Italy</td>\n",
       "      <td>904</td>\n",
       "      <td>7/21/2017</td>\n",
       "      <td>8.1</td>\n",
       "      <td>Hotel Da Vinci</td>\n",
       "      <td>United Kingdom</td>\n",
       "      <td>Would have appreciated a shop in the hotel th...</td>\n",
       "      <td>52</td>\n",
       "      <td>16670</td>\n",
       "      <td>Hotel was great clean friendly staff free bre...</td>\n",
       "      <td>62</td>\n",
       "      <td>1</td>\n",
       "      <td>[' Leisure trip ', ' Couple ', ' Double Room '...</td>\n",
       "      <td>13 days</td>\n",
       "      <td>45.533137</td>\n",
       "      <td>9.171102</td>\n",
       "    </tr>\n",
       "    <tr>\n",
       "      <th>1</th>\n",
       "      <td>Arlandaweg 10 Westpoort 1043 EW Amsterdam Neth...</td>\n",
       "      <td>612</td>\n",
       "      <td>12/12/2016</td>\n",
       "      <td>8.6</td>\n",
       "      <td>Urban Lodge Hotel</td>\n",
       "      <td>Belgium</td>\n",
       "      <td>No tissue paper box was present at the room</td>\n",
       "      <td>10</td>\n",
       "      <td>5018</td>\n",
       "      <td>No Positive</td>\n",
       "      <td>0</td>\n",
       "      <td>7</td>\n",
       "      <td>[' Leisure trip ', ' Group ', ' Triple Room ',...</td>\n",
       "      <td>234 day</td>\n",
       "      <td>52.385649</td>\n",
       "      <td>4.834443</td>\n",
       "    </tr>\n",
       "  </tbody>\n",
       "</table>\n",
       "</div>"
      ],
      "text/plain": [
       "                                       hotel_address  \\\n",
       "0                 Via Senigallia 6 20161 Milan Italy   \n",
       "1  Arlandaweg 10 Westpoort 1043 EW Amsterdam Neth...   \n",
       "\n",
       "   additional_number_of_scoring review_date  average_score         hotel_name  \\\n",
       "0                           904   7/21/2017            8.1     Hotel Da Vinci   \n",
       "1                           612  12/12/2016            8.6  Urban Lodge Hotel   \n",
       "\n",
       "  reviewer_nationality                                    negative_review  \\\n",
       "0      United Kingdom    Would have appreciated a shop in the hotel th...   \n",
       "1             Belgium         No tissue paper box was present at the room   \n",
       "\n",
       "   review_total_negative_word_counts  total_number_of_reviews  \\\n",
       "0                                 52                    16670   \n",
       "1                                 10                     5018   \n",
       "\n",
       "                                     positive_review  \\\n",
       "0   Hotel was great clean friendly staff free bre...   \n",
       "1                                        No Positive   \n",
       "\n",
       "   review_total_positive_word_counts  \\\n",
       "0                                 62   \n",
       "1                                  0   \n",
       "\n",
       "   total_number_of_reviews_reviewer_has_given  \\\n",
       "0                                           1   \n",
       "1                                           7   \n",
       "\n",
       "                                                tags days_since_review  \\\n",
       "0  [' Leisure trip ', ' Couple ', ' Double Room '...           13 days   \n",
       "1  [' Leisure trip ', ' Group ', ' Triple Room ',...           234 day   \n",
       "\n",
       "         lat       lng  \n",
       "0  45.533137  9.171102  \n",
       "1  52.385649  4.834443  "
      ]
     },
     "execution_count": 858,
     "metadata": {},
     "output_type": "execute_result"
    }
   ],
   "source": [
    "df_test.head(2)"
   ]
  },
  {
   "cell_type": "code",
   "execution_count": 859,
   "id": "a42b8ffe",
   "metadata": {
    "execution": {
     "iopub.execute_input": "2022-02-08T19:14:34.316935Z",
     "iopub.status.busy": "2022-02-08T19:14:34.316327Z",
     "iopub.status.idle": "2022-02-08T19:14:34.323236Z",
     "shell.execute_reply": "2022-02-08T19:14:34.323678Z",
     "shell.execute_reply.started": "2022-02-08T18:44:33.456558Z"
    },
    "papermill": {
     "duration": 0.032568,
     "end_time": "2022-02-08T19:14:34.323861",
     "exception": false,
     "start_time": "2022-02-08T19:14:34.291293",
     "status": "completed"
    },
    "tags": []
   },
   "outputs": [
    {
     "data": {
      "text/html": [
       "<div>\n",
       "<style scoped>\n",
       "    .dataframe tbody tr th:only-of-type {\n",
       "        vertical-align: middle;\n",
       "    }\n",
       "\n",
       "    .dataframe tbody tr th {\n",
       "        vertical-align: top;\n",
       "    }\n",
       "\n",
       "    .dataframe thead th {\n",
       "        text-align: right;\n",
       "    }\n",
       "</style>\n",
       "<table border=\"1\" class=\"dataframe\">\n",
       "  <thead>\n",
       "    <tr style=\"text-align: right;\">\n",
       "      <th></th>\n",
       "      <th>reviewer_score</th>\n",
       "      <th>id</th>\n",
       "    </tr>\n",
       "  </thead>\n",
       "  <tbody>\n",
       "    <tr>\n",
       "      <th>0</th>\n",
       "      <td>1</td>\n",
       "      <td>488440</td>\n",
       "    </tr>\n",
       "    <tr>\n",
       "      <th>1</th>\n",
       "      <td>10</td>\n",
       "      <td>274649</td>\n",
       "    </tr>\n",
       "  </tbody>\n",
       "</table>\n",
       "</div>"
      ],
      "text/plain": [
       "   reviewer_score      id\n",
       "0               1  488440\n",
       "1              10  274649"
      ]
     },
     "execution_count": 859,
     "metadata": {},
     "output_type": "execute_result"
    }
   ],
   "source": [
    "sample_submission.head(2)"
   ]
  },
  {
   "cell_type": "code",
   "execution_count": 860,
   "id": "f00eb590",
   "metadata": {
    "execution": {
     "iopub.execute_input": "2022-02-08T19:14:34.372564Z",
     "iopub.status.busy": "2022-02-08T19:14:34.371990Z",
     "iopub.status.idle": "2022-02-08T19:14:34.382350Z",
     "shell.execute_reply": "2022-02-08T19:14:34.382803Z",
     "shell.execute_reply.started": "2022-02-08T18:44:33.464464Z"
    },
    "papermill": {
     "duration": 0.036517,
     "end_time": "2022-02-08T19:14:34.382984",
     "exception": false,
     "start_time": "2022-02-08T19:14:34.346467",
     "status": "completed"
    },
    "tags": []
   },
   "outputs": [
    {
     "name": "stdout",
     "output_type": "stream",
     "text": [
      "<class 'pandas.core.frame.DataFrame'>\n",
      "RangeIndex: 128935 entries, 0 to 128934\n",
      "Data columns (total 2 columns):\n",
      " #   Column          Non-Null Count   Dtype\n",
      "---  ------          --------------   -----\n",
      " 0   reviewer_score  128935 non-null  int64\n",
      " 1   id              128935 non-null  int64\n",
      "dtypes: int64(2)\n",
      "memory usage: 2.0 MB\n"
     ]
    }
   ],
   "source": [
    "sample_submission.info()"
   ]
  },
  {
   "cell_type": "code",
   "execution_count": 861,
   "id": "82718822",
   "metadata": {
    "execution": {
     "iopub.execute_input": "2022-02-08T19:14:34.432723Z",
     "iopub.status.busy": "2022-02-08T19:14:34.432113Z",
     "iopub.status.idle": "2022-02-08T19:14:34.920690Z",
     "shell.execute_reply": "2022-02-08T19:14:34.920082Z",
     "shell.execute_reply.started": "2022-02-08T18:44:33.480147Z"
    },
    "papermill": {
     "duration": 0.514636,
     "end_time": "2022-02-08T19:14:34.920844",
     "exception": false,
     "start_time": "2022-02-08T19:14:34.406208",
     "status": "completed"
    },
    "tags": []
   },
   "outputs": [
    {
     "name": "stderr",
     "output_type": "stream",
     "text": [
      "C:\\Users\\admin\\AppData\\Local\\Temp\\ipykernel_15324\\447817491.py:6: FutureWarning: The frame.append method is deprecated and will be removed from pandas in a future version. Use pandas.concat instead.\n",
      "  data = df_test.append(df_train, sort=False).reset_index(drop=True) # объединяем\n"
     ]
    }
   ],
   "source": [
    "# ВАЖНО! дря корректной обработки признаков объединяем трейн и тест в один датасет\n",
    "df_train['sample'] = 1 # помечаем где у нас трейн\n",
    "df_test['sample'] = 0 # помечаем где у нас тест\n",
    "df_test['reviewer_score'] = 0 # в тесте у нас нет значения reviewer_score, мы его должны предсказать, по этому пока просто заполняем нулями\n",
    "\n",
    "data = df_test.append(df_train, sort=False).reset_index(drop=True) # объединяем"
   ]
  },
  {
   "cell_type": "code",
   "execution_count": 862,
   "id": "9c492391",
   "metadata": {
    "execution": {
     "iopub.execute_input": "2022-02-08T19:14:34.973792Z",
     "iopub.status.busy": "2022-02-08T19:14:34.973193Z",
     "iopub.status.idle": "2022-02-08T19:14:35.186288Z",
     "shell.execute_reply": "2022-02-08T19:14:35.185728Z",
     "shell.execute_reply.started": "2022-02-08T18:44:34.015455Z"
    },
    "papermill": {
     "duration": 0.242101,
     "end_time": "2022-02-08T19:14:35.186448",
     "exception": false,
     "start_time": "2022-02-08T19:14:34.944347",
     "status": "completed"
    },
    "tags": []
   },
   "outputs": [
    {
     "name": "stdout",
     "output_type": "stream",
     "text": [
      "<class 'pandas.core.frame.DataFrame'>\n",
      "RangeIndex: 515738 entries, 0 to 515737\n",
      "Data columns (total 18 columns):\n",
      " #   Column                                      Non-Null Count   Dtype  \n",
      "---  ------                                      --------------   -----  \n",
      " 0   hotel_address                               515738 non-null  object \n",
      " 1   additional_number_of_scoring                515738 non-null  int64  \n",
      " 2   review_date                                 515738 non-null  object \n",
      " 3   average_score                               515738 non-null  float64\n",
      " 4   hotel_name                                  515738 non-null  object \n",
      " 5   reviewer_nationality                        515738 non-null  object \n",
      " 6   negative_review                             515738 non-null  object \n",
      " 7   review_total_negative_word_counts           515738 non-null  int64  \n",
      " 8   total_number_of_reviews                     515738 non-null  int64  \n",
      " 9   positive_review                             515738 non-null  object \n",
      " 10  review_total_positive_word_counts           515738 non-null  int64  \n",
      " 11  total_number_of_reviews_reviewer_has_given  515738 non-null  int64  \n",
      " 12  tags                                        515738 non-null  object \n",
      " 13  days_since_review                           515738 non-null  object \n",
      " 14  lat                                         512470 non-null  float64\n",
      " 15  lng                                         512470 non-null  float64\n",
      " 16  sample                                      515738 non-null  int64  \n",
      " 17  reviewer_score                              515738 non-null  float64\n",
      "dtypes: float64(4), int64(6), object(8)\n",
      "memory usage: 70.8+ MB\n"
     ]
    }
   ],
   "source": [
    "data.info()"
   ]
  },
  {
   "cell_type": "code",
   "execution_count": 863,
   "id": "88394ff1",
   "metadata": {},
   "outputs": [
    {
     "name": "stdout",
     "output_type": "stream",
     "text": [
      "(3268, 18) (3268, 18) (3268, 18) (3268, 2)\n",
      "(17,)\n",
      "                                    hotel_name  \\\n",
      "35                               Hotel Atlanta   \n",
      "293                              Hotel Atlanta   \n",
      "476                  City Hotel Deutschmeister   \n",
      "526               Holiday Inn Paris Montmartre   \n",
      "569        Fleming s Selection Hotel Wien City   \n",
      "...                                        ...   \n",
      "515027                      Hotel City Central   \n",
      "515400                      Hotel City Central   \n",
      "515439  Maison Albar Hotel Paris Op ra Diamond   \n",
      "515637                      Hotel City Central   \n",
      "515699                           Hotel Atlanta   \n",
      "\n",
      "                                            hotel_address  \n",
      "35      W hringer Stra e 33 35 09 Alsergrund 1090 Vien...  \n",
      "293     W hringer Stra e 33 35 09 Alsergrund 1090 Vien...  \n",
      "476     Gr nentorgasse 30 09 Alsergrund 1090 Vienna Au...  \n",
      "526          23 Rue Damr mont 18th arr 75018 Paris France  \n",
      "569     Josefst dter Stra e 10 12 08 Josefstadt 1080 V...  \n",
      "...                                                   ...  \n",
      "515027  Taborstra e 8 A 02 Leopoldstadt 1020 Vienna Au...  \n",
      "515400  Taborstra e 8 A 02 Leopoldstadt 1020 Vienna Au...  \n",
      "515439   4 rue de la P pini re 8th arr 75008 Paris France  \n",
      "515637  Taborstra e 8 A 02 Leopoldstadt 1020 Vienna Au...  \n",
      "515699  W hringer Stra e 33 35 09 Alsergrund 1090 Vien...  \n",
      "\n",
      "[3268 rows x 2 columns]\n"
     ]
    },
    {
     "data": {
      "text/plain": [
       "((515738, 18), (389, 18))"
      ]
     },
     "execution_count": 863,
     "metadata": {},
     "output_type": "execute_result"
    }
   ],
   "source": [
    "where1 = data['lat'].isnull()\n",
    "where2 = data.lat \n",
    "\n",
    "data21 = data[data.lat.isnull() & data.lng.isnull()]\n",
    "data22 = data[data.lat.isnull()]\n",
    "data23 = data[data.lng.isnull()]\n",
    "data24 = data[data.lat.isnull() & data.lng.isnull()][['hotel_name', 'hotel_address']]\n",
    "print(data21.shape, data22.shape, data23.shape, data24.shape)\n",
    "print(data24['hotel_name'].unique().shape)\n",
    "\n",
    "# filter_name = ['hotel_address'].iloc[0]\n",
    "# print(filter_name)\n",
    "print(data24)\n",
    "\n",
    "where3 = (data['hotel_address'] == filter_name)\n",
    "data2 = data[where3]\n",
    "data.shape, data2.shape"
   ]
  },
  {
   "cell_type": "code",
   "execution_count": 864,
   "id": "b54c3acd",
   "metadata": {},
   "outputs": [
    {
     "data": {
      "text/plain": [
       "0    [' Leisure trip ', ' Couple ', ' Double Room '...\n",
       "1    [' Leisure trip ', ' Group ', ' Triple Room ',...\n",
       "2    [' Business trip ', ' Solo traveler ', ' Twin ...\n",
       "3    [' Leisure trip ', ' Couple ', ' Ambassador Ju...\n",
       "4    [' Business trip ', ' Solo traveler ', ' Class...\n",
       "5    [' Business trip ', ' Solo traveler ', ' Stand...\n",
       "6    [' Leisure trip ', ' Couple ', ' Queen Room ',...\n",
       "7    [' Business trip ', ' Solo traveler ', ' Execu...\n",
       "8    [' Group ', ' Double or Twin Room ', ' Stayed ...\n",
       "9    [' Couple ', ' Standard Triple Room ', ' Staye...\n",
       "Name: tags, dtype: object"
      ]
     },
     "execution_count": 864,
     "metadata": {},
     "output_type": "execute_result"
    }
   ],
   "source": [
    "data['tags'][:10]"
   ]
  },
  {
   "cell_type": "code",
   "execution_count": 865,
   "id": "d48cf7c1",
   "metadata": {},
   "outputs": [
    {
     "data": {
      "text/plain": [
       "['a', 'b']"
      ]
     },
     "execution_count": 865,
     "metadata": {},
     "output_type": "execute_result"
    }
   ],
   "source": [
    "xx = \"[' a ', ' b ']\"\n",
    "[x.strip().lower() for x in eval(xx)]"
   ]
  },
  {
   "cell_type": "code",
   "execution_count": 866,
   "id": "95751530",
   "metadata": {},
   "outputs": [
    {
     "data": {
      "text/plain": [
       "0    [leisure trip, couple, double room, stayed 2 n...\n",
       "1    [leisure trip, group, triple room, stayed 1 ni...\n",
       "2    [business trip, solo traveler, twin room, stay...\n",
       "3    [leisure trip, couple, ambassador junior suite...\n",
       "4    [business trip, solo traveler, classic double ...\n",
       "Name: tags2, dtype: object"
      ]
     },
     "execution_count": 866,
     "metadata": {},
     "output_type": "execute_result"
    }
   ],
   "source": [
    "data['tags2'] = data['tags'].apply(lambda ii : [\"'\" + i.strip().lower() + \"'\" for i in eval(ii)])\n",
    "data['tags2'] = data['tags'].apply(lambda ii : [i.strip().lower() for i in eval(ii)])\n",
    "data['tags2'].head()"
   ]
  },
  {
   "cell_type": "code",
   "execution_count": 867,
   "id": "02cbd342",
   "metadata": {},
   "outputs": [
    {
     "name": "stdout",
     "output_type": "stream",
     "text": [
      "2421\n"
     ]
    }
   ],
   "source": [
    "dict_count_tags = {}\n",
    "\n",
    "def count_tags(tags_string):\n",
    "    # print(tags_string)\n",
    "    # tags = eval(tags_string)\n",
    "    for tag in tags_string:\n",
    "        if tag not in dict_count_tags:\n",
    "            dict_count_tags[tag] = 0\n",
    "        dict_count_tags[tag] += 1\n",
    "\n",
    "data['tags2'].apply(count_tags)\n",
    "print(len(dict_count_tags))"
   ]
  },
  {
   "cell_type": "code",
   "execution_count": 868,
   "id": "0c1e2a86",
   "metadata": {},
   "outputs": [],
   "source": [
    "list_count_tags = []\n",
    "\n",
    "for k, v in dict_count_tags.items():\n",
    "    list_count_tags.append((k,v,))\n",
    "\n",
    "list_count_tags.sort(key=lambda i:i[1])\n",
    "list_count_tags = list_count_tags[::-1]\n",
    "\n",
    "def is_include(value):\n",
    "    pass\n",
    "\n",
    "for i in list_count_tags[:100]:\n",
    "    data[i[0]] = data.apply(lambda row: 1 if i[0] in row['tags2'] else 0, axis=1)"
   ]
  },
  {
   "cell_type": "code",
   "execution_count": 869,
   "id": "fd3a634c",
   "metadata": {},
   "outputs": [
    {
     "data": {
      "text/html": [
       "<div>\n",
       "<style scoped>\n",
       "    .dataframe tbody tr th:only-of-type {\n",
       "        vertical-align: middle;\n",
       "    }\n",
       "\n",
       "    .dataframe tbody tr th {\n",
       "        vertical-align: top;\n",
       "    }\n",
       "\n",
       "    .dataframe thead th {\n",
       "        text-align: right;\n",
       "    }\n",
       "</style>\n",
       "<table border=\"1\" class=\"dataframe\">\n",
       "  <thead>\n",
       "    <tr style=\"text-align: right;\">\n",
       "      <th></th>\n",
       "      <th>hotel_address</th>\n",
       "      <th>additional_number_of_scoring</th>\n",
       "      <th>review_date</th>\n",
       "      <th>average_score</th>\n",
       "      <th>hotel_name</th>\n",
       "      <th>reviewer_nationality</th>\n",
       "      <th>negative_review</th>\n",
       "      <th>review_total_negative_word_counts</th>\n",
       "      <th>total_number_of_reviews</th>\n",
       "      <th>positive_review</th>\n",
       "      <th>...</th>\n",
       "      <th>studio</th>\n",
       "      <th>superior double or twin room 1 2 adults</th>\n",
       "      <th>twin hilton guest room</th>\n",
       "      <th>family room 2 adults 2 children</th>\n",
       "      <th>studio king family</th>\n",
       "      <th>compact double room</th>\n",
       "      <th>city king or twin room</th>\n",
       "      <th>stayed 10 nights</th>\n",
       "      <th>standard room with 1 double bed</th>\n",
       "      <th>classic queen room</th>\n",
       "    </tr>\n",
       "  </thead>\n",
       "  <tbody>\n",
       "    <tr>\n",
       "      <th>38</th>\n",
       "      <td>Schlossallee 8 14 Penzing 1140 Vienna Austria</td>\n",
       "      <td>251</td>\n",
       "      <td>7/11/2017</td>\n",
       "      <td>8.8</td>\n",
       "      <td>Austria Trend Hotel Park Royal Palace Vienna</td>\n",
       "      <td>France</td>\n",
       "      <td>No Negative</td>\n",
       "      <td>0</td>\n",
       "      <td>3667</td>\n",
       "      <td>IT IS A GOOD HOTEL NEAR THE calso of the vien...</td>\n",
       "      <td>...</td>\n",
       "      <td>0</td>\n",
       "      <td>0</td>\n",
       "      <td>0</td>\n",
       "      <td>0</td>\n",
       "      <td>0</td>\n",
       "      <td>0</td>\n",
       "      <td>0</td>\n",
       "      <td>0</td>\n",
       "      <td>0</td>\n",
       "      <td>0</td>\n",
       "    </tr>\n",
       "    <tr>\n",
       "      <th>126</th>\n",
       "      <td>70 avenue des Champs Elysees 8th arr 75008 Par...</td>\n",
       "      <td>86</td>\n",
       "      <td>3/31/2016</td>\n",
       "      <td>7.9</td>\n",
       "      <td>Paris Marriott Champs Elysees Hotel</td>\n",
       "      <td>Kuwait</td>\n",
       "      <td>Staf</td>\n",
       "      <td>2</td>\n",
       "      <td>372</td>\n",
       "      <td>Location</td>\n",
       "      <td>...</td>\n",
       "      <td>0</td>\n",
       "      <td>0</td>\n",
       "      <td>0</td>\n",
       "      <td>0</td>\n",
       "      <td>0</td>\n",
       "      <td>0</td>\n",
       "      <td>0</td>\n",
       "      <td>0</td>\n",
       "      <td>0</td>\n",
       "      <td>0</td>\n",
       "    </tr>\n",
       "    <tr>\n",
       "      <th>204</th>\n",
       "      <td>Rennweg 16 03 Landstra e 1030 Vienna Austria</td>\n",
       "      <td>370</td>\n",
       "      <td>7/17/2016</td>\n",
       "      <td>8.9</td>\n",
       "      <td>Austria Trend Hotel Savoyen Vienna</td>\n",
       "      <td>United Kingdom</td>\n",
       "      <td>Breakfast seemed very expensive so we opted n...</td>\n",
       "      <td>14</td>\n",
       "      <td>4016</td>\n",
       "      <td>Very clean Option of different pillows which ...</td>\n",
       "      <td>...</td>\n",
       "      <td>0</td>\n",
       "      <td>0</td>\n",
       "      <td>0</td>\n",
       "      <td>0</td>\n",
       "      <td>0</td>\n",
       "      <td>0</td>\n",
       "      <td>0</td>\n",
       "      <td>0</td>\n",
       "      <td>0</td>\n",
       "      <td>0</td>\n",
       "    </tr>\n",
       "    <tr>\n",
       "      <th>493</th>\n",
       "      <td>17 Avenue Kl ber 16th arr 75016 Paris France</td>\n",
       "      <td>56</td>\n",
       "      <td>7/8/2017</td>\n",
       "      <td>8.7</td>\n",
       "      <td>H tel Raphael</td>\n",
       "      <td>United Kingdom</td>\n",
       "      <td>We specifically asked for a 12 noon book in C...</td>\n",
       "      <td>36</td>\n",
       "      <td>282</td>\n",
       "      <td>Decent room</td>\n",
       "      <td>...</td>\n",
       "      <td>0</td>\n",
       "      <td>0</td>\n",
       "      <td>0</td>\n",
       "      <td>0</td>\n",
       "      <td>0</td>\n",
       "      <td>0</td>\n",
       "      <td>0</td>\n",
       "      <td>0</td>\n",
       "      <td>0</td>\n",
       "      <td>0</td>\n",
       "    </tr>\n",
       "    <tr>\n",
       "      <th>536</th>\n",
       "      <td>Roelof Hartstraat 1 Oud Zuid 1071 VE Amsterdam...</td>\n",
       "      <td>72</td>\n",
       "      <td>3/16/2017</td>\n",
       "      <td>8.3</td>\n",
       "      <td>The College Hotel</td>\n",
       "      <td>United States of America</td>\n",
       "      <td>Lighting in the sleeping room was very dim br...</td>\n",
       "      <td>32</td>\n",
       "      <td>561</td>\n",
       "      <td>The building was beautiful the bed was very c...</td>\n",
       "      <td>...</td>\n",
       "      <td>0</td>\n",
       "      <td>0</td>\n",
       "      <td>0</td>\n",
       "      <td>0</td>\n",
       "      <td>0</td>\n",
       "      <td>0</td>\n",
       "      <td>0</td>\n",
       "      <td>0</td>\n",
       "      <td>0</td>\n",
       "      <td>0</td>\n",
       "    </tr>\n",
       "  </tbody>\n",
       "</table>\n",
       "<p>5 rows × 119 columns</p>\n",
       "</div>"
      ],
      "text/plain": [
       "                                         hotel_address  \\\n",
       "38       Schlossallee 8 14 Penzing 1140 Vienna Austria   \n",
       "126  70 avenue des Champs Elysees 8th arr 75008 Par...   \n",
       "204       Rennweg 16 03 Landstra e 1030 Vienna Austria   \n",
       "493       17 Avenue Kl ber 16th arr 75016 Paris France   \n",
       "536  Roelof Hartstraat 1 Oud Zuid 1071 VE Amsterdam...   \n",
       "\n",
       "     additional_number_of_scoring review_date  average_score  \\\n",
       "38                            251   7/11/2017            8.8   \n",
       "126                            86   3/31/2016            7.9   \n",
       "204                           370   7/17/2016            8.9   \n",
       "493                            56    7/8/2017            8.7   \n",
       "536                            72   3/16/2017            8.3   \n",
       "\n",
       "                                       hotel_name        reviewer_nationality  \\\n",
       "38   Austria Trend Hotel Park Royal Palace Vienna                     France    \n",
       "126           Paris Marriott Champs Elysees Hotel                     Kuwait    \n",
       "204            Austria Trend Hotel Savoyen Vienna             United Kingdom    \n",
       "493                                 H tel Raphael             United Kingdom    \n",
       "536                             The College Hotel   United States of America    \n",
       "\n",
       "                                       negative_review  \\\n",
       "38                                         No Negative   \n",
       "126                                               Staf   \n",
       "204   Breakfast seemed very expensive so we opted n...   \n",
       "493   We specifically asked for a 12 noon book in C...   \n",
       "536   Lighting in the sleeping room was very dim br...   \n",
       "\n",
       "     review_total_negative_word_counts  total_number_of_reviews  \\\n",
       "38                                   0                     3667   \n",
       "126                                  2                      372   \n",
       "204                                 14                     4016   \n",
       "493                                 36                      282   \n",
       "536                                 32                      561   \n",
       "\n",
       "                                       positive_review  ...  studio  \\\n",
       "38    IT IS A GOOD HOTEL NEAR THE calso of the vien...  ...       0   \n",
       "126                                           Location  ...       0   \n",
       "204   Very clean Option of different pillows which ...  ...       0   \n",
       "493                                        Decent room  ...       0   \n",
       "536   The building was beautiful the bed was very c...  ...       0   \n",
       "\n",
       "     superior double or twin room 1 2 adults twin hilton guest room  \\\n",
       "38                                         0                      0   \n",
       "126                                        0                      0   \n",
       "204                                        0                      0   \n",
       "493                                        0                      0   \n",
       "536                                        0                      0   \n",
       "\n",
       "    family room 2 adults 2 children  studio king family  compact double room  \\\n",
       "38                                0                   0                    0   \n",
       "126                               0                   0                    0   \n",
       "204                               0                   0                    0   \n",
       "493                               0                   0                    0   \n",
       "536                               0                   0                    0   \n",
       "\n",
       "     city king or twin room  stayed 10 nights standard room with 1 double bed  \\\n",
       "38                        0                 0                               0   \n",
       "126                       0                 0                               0   \n",
       "204                       0                 0                               0   \n",
       "493                       0                 0                               0   \n",
       "536                       0                 0                               0   \n",
       "\n",
       "     classic queen room  \n",
       "38                    0  \n",
       "126                   0  \n",
       "204                   0  \n",
       "493                   0  \n",
       "536                   0  \n",
       "\n",
       "[5 rows x 119 columns]"
      ]
     },
     "execution_count": 869,
     "metadata": {},
     "output_type": "execute_result"
    }
   ],
   "source": [
    "data[data['deluxe room'] == 1].head()"
   ]
  },
  {
   "cell_type": "code",
   "execution_count": 870,
   "id": "f611b9ea",
   "metadata": {},
   "outputs": [],
   "source": [
    "import category_encoders as ce # импорт для работы с кодировщиком\n",
    "bin_encoder = ce.BinaryEncoder(cols=['reviewer_nationality']) # указываем столбец для кодирования\n",
    "reviewer_nationality = bin_encoder.fit_transform(data['reviewer_nationality'])\n",
    "data = pd.concat([data, reviewer_nationality], axis=1)"
   ]
  },
  {
   "cell_type": "code",
   "execution_count": 871,
   "id": "551d5eec",
   "metadata": {},
   "outputs": [],
   "source": [
    "bin_encoder = ce.BinaryEncoder(cols=['days_since_review']) # указываем столбец для кодирования\n",
    "days_since_review = bin_encoder.fit_transform(data['days_since_review'])\n",
    "data = pd.concat([data, days_since_review], axis=1)"
   ]
  },
  {
   "cell_type": "code",
   "execution_count": 872,
   "id": "11e9f5e7",
   "metadata": {},
   "outputs": [],
   "source": [
    "# bin_encoder = ce.BinaryEncoder(cols=['hotel_name']) # указываем столбец для кодирования\n",
    "# hotel_name = bin_encoder.fit_transform(data['hotel_name'])\n",
    "# data = pd.concat([data, hotel_name], axis=1)\n",
    "\n",
    "# bin_encoder = ce.BinaryEncoder(cols=['hotel_address']) # указываем столбец для кодирования\n",
    "# hotel_address = bin_encoder.fit_transform(data['hotel_address'])\n",
    "# data = pd.concat([data, hotel_address], axis=1)"
   ]
  },
  {
   "cell_type": "code",
   "execution_count": 873,
   "id": "15b9af25",
   "metadata": {
    "execution": {
     "iopub.execute_input": "2022-02-08T19:14:35.237845Z",
     "iopub.status.busy": "2022-02-08T19:14:35.236834Z",
     "iopub.status.idle": "2022-02-08T19:14:35.259821Z",
     "shell.execute_reply": "2022-02-08T19:14:35.259247Z",
     "shell.execute_reply.started": "2022-02-08T18:44:34.479202Z"
    },
    "papermill": {
     "duration": 0.04969,
     "end_time": "2022-02-08T19:14:35.259972",
     "exception": false,
     "start_time": "2022-02-08T19:14:35.210282",
     "status": "completed"
    },
    "tags": []
   },
   "outputs": [],
   "source": [
    "data['lat'] = data['lat'].fillna(0, inplace=True)\n",
    "data['lng'] = data['lng'].fillna(0, inplace=True)"
   ]
  },
  {
   "cell_type": "code",
   "execution_count": 874,
   "id": "76d2d83c",
   "metadata": {},
   "outputs": [],
   "source": [
    "data['review_date'] = pd.to_datetime(data['review_date'])\n",
    "# data['review_date'] = data['review_date'].dt.date"
   ]
  },
  {
   "cell_type": "code",
   "execution_count": 875,
   "id": "8e21bb17",
   "metadata": {},
   "outputs": [
    {
     "name": "stdout",
     "output_type": "stream",
     "text": [
      "2015-08-04 00:00:00 2017-08-03 00:00:00\n",
      "<class 'pandas.core.frame.DataFrame'>\n",
      "RangeIndex: 515738 entries, 0 to 515737\n",
      "Columns: 139 entries, hotel_address to review_date_quarter\n",
      "dtypes: datetime64[ns](1), float64(2), int64(126), object(10)\n",
      "memory usage: 546.9+ MB\n"
     ]
    },
    {
     "name": "stderr",
     "output_type": "stream",
     "text": [
      "C:\\Users\\admin\\AppData\\Local\\Temp\\ipykernel_15324\\18529396.py:2: FutureWarning: Treating datetime data as categorical rather than numeric in `.describe` is deprecated and will be removed in a future version of pandas. Specify `datetime_is_numeric=True` to silence this warning and adopt the future behavior now.\n",
      "  data['review_date'].describe()\n"
     ]
    }
   ],
   "source": [
    "print(data['review_date'].min(), data['review_date'].max())\n",
    "data['review_date'].describe()\n",
    "# data['review_date_day'] = data['review_date'].dt.day\n",
    "data['review_date_day_of_week'] = data['review_date'].dt.day_of_week\n",
    "data['review_date_quarter'] = data['review_date'].dt.quarter\n",
    "data.info()"
   ]
  },
  {
   "cell_type": "code",
   "execution_count": 876,
   "id": "92f777da",
   "metadata": {
    "execution": {
     "iopub.execute_input": "2022-02-08T19:14:35.319524Z",
     "iopub.status.busy": "2022-02-08T19:14:35.318915Z",
     "iopub.status.idle": "2022-02-08T19:14:36.185657Z",
     "shell.execute_reply": "2022-02-08T19:14:36.186104Z",
     "shell.execute_reply.started": "2022-02-08T18:44:34.500478Z"
    },
    "papermill": {
     "duration": 0.902939,
     "end_time": "2022-02-08T19:14:36.186284",
     "exception": false,
     "start_time": "2022-02-08T19:14:35.283345",
     "status": "completed"
    },
    "tags": []
   },
   "outputs": [
    {
     "data": {
      "text/plain": [
       "hotel_address                   1493\n",
       "additional_number_of_scoring     480\n",
       "review_date                      731\n",
       "average_score                     34\n",
       "hotel_name                      1492\n",
       "                                ... \n",
       "days_since_review_7                2\n",
       "days_since_review_8                2\n",
       "days_since_review_9                2\n",
       "review_date_day_of_week            7\n",
       "review_date_quarter                4\n",
       "Length: 138, dtype: int64"
      ]
     },
     "execution_count": 876,
     "metadata": {},
     "output_type": "execute_result"
    }
   ],
   "source": [
    "data.drop(columns=['tags2'], axis=1, inplace=True)\n",
    "data.nunique(dropna=False)"
   ]
  },
  {
   "cell_type": "code",
   "execution_count": 877,
   "id": "ac614095",
   "metadata": {
    "execution": {
     "iopub.execute_input": "2022-02-08T19:14:36.237918Z",
     "iopub.status.busy": "2022-02-08T19:14:36.237252Z",
     "iopub.status.idle": "2022-02-08T19:14:37.275035Z",
     "shell.execute_reply": "2022-02-08T19:14:37.275534Z",
     "shell.execute_reply.started": "2022-02-08T18:44:35.438981Z"
    },
    "papermill": {
     "duration": 1.065096,
     "end_time": "2022-02-08T19:14:37.275706",
     "exception": false,
     "start_time": "2022-02-08T19:14:36.210610",
     "status": "completed"
    },
    "tags": []
   },
   "outputs": [],
   "source": [
    "# plt.rcParams['figure.figsize'] = (15,10)\n",
    "# sns.heatmap(data.drop(['sample'], axis=1).corr(), annot=True)"
   ]
  },
  {
   "cell_type": "code",
   "execution_count": 878,
   "id": "8e845f5c",
   "metadata": {
    "execution": {
     "iopub.execute_input": "2022-02-08T19:14:37.365016Z",
     "iopub.status.busy": "2022-02-08T19:14:37.364338Z",
     "iopub.status.idle": "2022-02-08T19:14:37.367440Z",
     "shell.execute_reply": "2022-02-08T19:14:37.366949Z",
     "shell.execute_reply.started": "2022-02-08T18:44:36.454378Z"
    },
    "papermill": {
     "duration": 0.064293,
     "end_time": "2022-02-08T19:14:37.367575",
     "exception": false,
     "start_time": "2022-02-08T19:14:37.303282",
     "status": "completed"
    },
    "tags": []
   },
   "outputs": [],
   "source": [
    "# убираем признаки которые еще не успели обработать, \n",
    "# модель на признаках с dtypes \"object\" обучаться не будет, просто выберим их и удалим\n",
    "object_columns = [s for s in data.columns if data[s].dtypes == 'object' or s == 'review_date']\n",
    "#print(object_columns)\n",
    "data.drop(object_columns, axis = 1, inplace=True)\n",
    "#data.info()"
   ]
  },
  {
   "cell_type": "code",
   "execution_count": 879,
   "id": "e396cfc5",
   "metadata": {
    "execution": {
     "iopub.execute_input": "2022-02-08T19:14:37.429548Z",
     "iopub.status.busy": "2022-02-08T19:14:37.428899Z",
     "iopub.status.idle": "2022-02-08T19:14:37.446518Z",
     "shell.execute_reply": "2022-02-08T19:14:37.445920Z",
     "shell.execute_reply.started": "2022-02-08T18:44:36.492165Z"
    },
    "papermill": {
     "duration": 0.050346,
     "end_time": "2022-02-08T19:14:37.446656",
     "exception": false,
     "start_time": "2022-02-08T19:14:37.396310",
     "status": "completed"
    },
    "tags": []
   },
   "outputs": [
    {
     "name": "stdout",
     "output_type": "stream",
     "text": [
      "<class 'pandas.core.frame.DataFrame'>\n",
      "RangeIndex: 515738 entries, 0 to 515737\n",
      "Columns: 128 entries, additional_number_of_scoring to review_date_quarter\n",
      "dtypes: float64(2), int64(126)\n",
      "memory usage: 503.7 MB\n"
     ]
    }
   ],
   "source": [
    "data.info()"
   ]
  },
  {
   "cell_type": "code",
   "execution_count": 880,
   "id": "12888fe2",
   "metadata": {},
   "outputs": [
    {
     "name": "stdout",
     "output_type": "stream",
     "text": [
      "515738 128935 386803 True\n"
     ]
    }
   ],
   "source": [
    "print(data.shape[0], data.query('sample == 0').shape[0], data.query('sample == 1').shape[0], data.shape[0] == data.query('sample == 0').shape[0] + data.query('sample == 1').shape[0])"
   ]
  },
  {
   "cell_type": "code",
   "execution_count": 881,
   "id": "69e46903",
   "metadata": {
    "execution": {
     "iopub.execute_input": "2022-02-08T19:14:37.505890Z",
     "iopub.status.busy": "2022-02-08T19:14:37.505020Z",
     "iopub.status.idle": "2022-02-08T19:14:37.548588Z",
     "shell.execute_reply": "2022-02-08T19:14:37.549135Z",
     "shell.execute_reply.started": "2022-02-08T18:44:36.519234Z"
    },
    "papermill": {
     "duration": 0.076208,
     "end_time": "2022-02-08T19:14:37.549330",
     "exception": false,
     "start_time": "2022-02-08T19:14:37.473122",
     "status": "completed"
    },
    "tags": []
   },
   "outputs": [],
   "source": [
    "# Теперь выделим тестовую часть\n",
    "train_data = data.query('sample == 1').drop(['sample'], axis=1)\n",
    "test_data = data.query('sample == 0').drop(['sample'], axis=1)\n",
    "\n",
    "y = train_data.reviewer_score.values            # наш таргет\n",
    "X = train_data.drop(['reviewer_score'], axis=1)"
   ]
  },
  {
   "cell_type": "code",
   "execution_count": 882,
   "id": "5045cc9a",
   "metadata": {
    "execution": {
     "iopub.execute_input": "2022-02-08T19:14:37.610632Z",
     "iopub.status.busy": "2022-02-08T19:14:37.607245Z",
     "iopub.status.idle": "2022-02-08T19:14:37.664876Z",
     "shell.execute_reply": "2022-02-08T19:14:37.664240Z",
     "shell.execute_reply.started": "2022-02-08T18:44:36.564379Z"
    },
    "papermill": {
     "duration": 0.089229,
     "end_time": "2022-02-08T19:14:37.665021",
     "exception": false,
     "start_time": "2022-02-08T19:14:37.575792",
     "status": "completed"
    },
    "tags": []
   },
   "outputs": [],
   "source": [
    "# Воспользуемся специальной функцие train_test_split для разбивки тестовых данных\n",
    "# выделим 20% данных на валидацию (параметр test_size)\n",
    "X_train, X_test, y_train, y_test = train_test_split(X, y, test_size=0.2, random_state=RANDOM_SEED)"
   ]
  },
  {
   "cell_type": "code",
   "execution_count": 883,
   "id": "3da6a0b4",
   "metadata": {
    "execution": {
     "iopub.execute_input": "2022-02-08T19:14:37.724787Z",
     "iopub.status.busy": "2022-02-08T19:14:37.724146Z",
     "iopub.status.idle": "2022-02-08T19:14:37.726536Z",
     "shell.execute_reply": "2022-02-08T19:14:37.726982Z",
     "shell.execute_reply.started": "2022-02-08T18:44:36.614037Z"
    },
    "papermill": {
     "duration": 0.035799,
     "end_time": "2022-02-08T19:14:37.727149",
     "exception": false,
     "start_time": "2022-02-08T19:14:37.691350",
     "status": "completed"
    },
    "tags": []
   },
   "outputs": [
    {
     "data": {
      "text/plain": [
       "((128935, 127), (386803, 127), (386803, 126), (309442, 126), (77361, 126))"
      ]
     },
     "execution_count": 883,
     "metadata": {},
     "output_type": "execute_result"
    }
   ],
   "source": [
    "# проверяем\n",
    "test_data.shape, train_data.shape, X.shape, X_train.shape, X_test.shape"
   ]
  },
  {
   "cell_type": "code",
   "execution_count": 884,
   "id": "b56e5c7f",
   "metadata": {
    "execution": {
     "iopub.execute_input": "2022-02-08T19:14:37.784550Z",
     "iopub.status.busy": "2022-02-08T19:14:37.783925Z",
     "iopub.status.idle": "2022-02-08T19:14:37.975610Z",
     "shell.execute_reply": "2022-02-08T19:14:37.975066Z",
     "shell.execute_reply.started": "2022-02-08T18:44:36.620894Z"
    },
    "papermill": {
     "duration": 0.221772,
     "end_time": "2022-02-08T19:14:37.975773",
     "exception": false,
     "start_time": "2022-02-08T19:14:37.754001",
     "status": "completed"
    },
    "tags": []
   },
   "outputs": [],
   "source": [
    "# Импортируем необходимые библиотеки:\n",
    "from sklearn.ensemble import RandomForestRegressor # инструмент для создания и обучения модели\n",
    "from sklearn import metrics # инструменты для оценки точности модели"
   ]
  },
  {
   "cell_type": "code",
   "execution_count": 885,
   "id": "cc67dfef",
   "metadata": {
    "execution": {
     "iopub.execute_input": "2022-02-08T19:14:38.033380Z",
     "iopub.status.busy": "2022-02-08T19:14:38.032424Z",
     "iopub.status.idle": "2022-02-08T19:14:38.036262Z",
     "shell.execute_reply": "2022-02-08T19:14:38.036790Z",
     "shell.execute_reply.started": "2022-02-08T18:44:36.631597Z"
    },
    "papermill": {
     "duration": 0.034367,
     "end_time": "2022-02-08T19:14:38.036955",
     "exception": false,
     "start_time": "2022-02-08T19:14:38.002588",
     "status": "completed"
    },
    "tags": []
   },
   "outputs": [],
   "source": [
    "# Создаём модель (НАСТРОЙКИ НЕ ТРОГАЕМ)\n",
    "model = RandomForestRegressor(n_estimators=100, verbose=1, n_jobs=-1, random_state=RANDOM_SEED)"
   ]
  },
  {
   "cell_type": "code",
   "execution_count": 886,
   "id": "38c6100a",
   "metadata": {
    "execution": {
     "iopub.execute_input": "2022-02-08T19:14:38.100230Z",
     "iopub.status.busy": "2022-02-08T19:14:38.098907Z",
     "iopub.status.idle": "2022-02-08T19:15:29.981505Z",
     "shell.execute_reply": "2022-02-08T19:15:29.982012Z",
     "shell.execute_reply.started": "2022-02-08T18:44:36.685783Z"
    },
    "papermill": {
     "duration": 51.917696,
     "end_time": "2022-02-08T19:15:29.982201",
     "exception": false,
     "start_time": "2022-02-08T19:14:38.064505",
     "status": "completed"
    },
    "tags": []
   },
   "outputs": [
    {
     "name": "stderr",
     "output_type": "stream",
     "text": [
      "[Parallel(n_jobs=-1)]: Using backend ThreadingBackend with 16 concurrent workers.\n",
      "[Parallel(n_jobs=-1)]: Done  18 tasks      | elapsed:   31.5s\n",
      "[Parallel(n_jobs=-1)]: Done 100 out of 100 | elapsed:  1.8min finished\n",
      "[Parallel(n_jobs=16)]: Using backend ThreadingBackend with 16 concurrent workers.\n",
      "[Parallel(n_jobs=16)]: Done  18 tasks      | elapsed:    0.1s\n",
      "[Parallel(n_jobs=16)]: Done 100 out of 100 | elapsed:    0.5s finished\n"
     ]
    }
   ],
   "source": [
    "# Обучаем модель на тестовом наборе данных\n",
    "model.fit(X_train, y_train)\n",
    "\n",
    "# Используем обученную модель для предсказания рейтинга ресторанов в тестовой выборке.\n",
    "# Предсказанные значения записываем в переменную y_pred\n",
    "y_pred = model.predict(X_test)"
   ]
  },
  {
   "cell_type": "code",
   "execution_count": 887,
   "id": "0bfbd9da",
   "metadata": {
    "execution": {
     "iopub.execute_input": "2022-02-08T19:15:30.047401Z",
     "iopub.status.busy": "2022-02-08T19:15:30.045169Z",
     "iopub.status.idle": "2022-02-08T19:15:30.054658Z",
     "shell.execute_reply": "2022-02-08T19:15:30.053627Z",
     "shell.execute_reply.started": "2022-02-08T18:45:41.407883Z"
    },
    "papermill": {
     "duration": 0.043029,
     "end_time": "2022-02-08T19:15:30.054903",
     "exception": false,
     "start_time": "2022-02-08T19:15:30.011874",
     "status": "completed"
    },
    "tags": []
   },
   "outputs": [
    {
     "name": "stdout",
     "output_type": "stream",
     "text": [
      "MAPE: 0.9341466645245755\n"
     ]
    }
   ],
   "source": [
    "# Сравниваем предсказанные значения (y_pred) с реальными (y_test), и смотрим насколько они в среднем отличаются\n",
    "# Метрика называется Mean Absolute Error (MAE) и показывает среднее отклонение предсказанных значений от фактических.\n",
    "# 0.9375288038577327\n",
    "# 0.9367014408638286 13.57772\n",
    "# 0.9341466645245755 13.57713\n",
    "print('MAPE:', metrics.mean_absolute_error(y_test, y_pred))"
   ]
  },
  {
   "cell_type": "code",
   "execution_count": 888,
   "id": "db88cbfc",
   "metadata": {
    "execution": {
     "iopub.execute_input": "2022-02-08T19:15:30.118909Z",
     "iopub.status.busy": "2022-02-08T19:15:30.118206Z",
     "iopub.status.idle": "2022-02-08T19:15:30.566895Z",
     "shell.execute_reply": "2022-02-08T19:15:30.567333Z",
     "shell.execute_reply.started": "2022-02-08T18:45:41.416087Z"
    },
    "papermill": {
     "duration": 0.483326,
     "end_time": "2022-02-08T19:15:30.567502",
     "exception": false,
     "start_time": "2022-02-08T19:15:30.084176",
     "status": "completed"
    },
    "tags": []
   },
   "outputs": [
    {
     "data": {
      "text/plain": [
       "<AxesSubplot: >"
      ]
     },
     "execution_count": 888,
     "metadata": {},
     "output_type": "execute_result"
    },
    {
     "data": {
      "image/png": "[encoded data removed]",
      "text/plain": [
       "<Figure size 1000x1000 with 1 Axes>"
      ]
     },
     "metadata": {},
     "output_type": "display_data"
    }
   ],
   "source": [
    "# в RandomForestRegressor есть возможность вывести самые важные признаки для модели\n",
    "plt.rcParams['figure.figsize'] = (10,10)\n",
    "feat_importances = pd.Series(model.feature_importances_, index=X.columns)\n",
    "feat_importances.nlargest(15).plot(kind='barh')"
   ]
  },
  {
   "cell_type": "code",
   "execution_count": 889,
   "id": "bd9c9908",
   "metadata": {
    "execution": {
     "iopub.execute_input": "2022-02-08T19:15:30.625115Z",
     "iopub.status.busy": "2022-02-08T19:15:30.624515Z",
     "iopub.status.idle": "2022-02-08T19:15:30.639827Z",
     "shell.execute_reply": "2022-02-08T19:15:30.640317Z",
     "shell.execute_reply.started": "2022-02-08T18:45:41.866035Z"
    },
    "papermill": {
     "duration": 0.045936,
     "end_time": "2022-02-08T19:15:30.640491",
     "exception": false,
     "start_time": "2022-02-08T19:15:30.594555",
     "status": "completed"
    },
    "tags": []
   },
   "outputs": [
    {
     "data": {
      "text/html": [
       "<div>\n",
       "<style scoped>\n",
       "    .dataframe tbody tr th:only-of-type {\n",
       "        vertical-align: middle;\n",
       "    }\n",
       "\n",
       "    .dataframe tbody tr th {\n",
       "        vertical-align: top;\n",
       "    }\n",
       "\n",
       "    .dataframe thead th {\n",
       "        text-align: right;\n",
       "    }\n",
       "</style>\n",
       "<table border=\"1\" class=\"dataframe\">\n",
       "  <thead>\n",
       "    <tr style=\"text-align: right;\">\n",
       "      <th></th>\n",
       "      <th>additional_number_of_scoring</th>\n",
       "      <th>average_score</th>\n",
       "      <th>review_total_negative_word_counts</th>\n",
       "      <th>total_number_of_reviews</th>\n",
       "      <th>review_total_positive_word_counts</th>\n",
       "      <th>total_number_of_reviews_reviewer_has_given</th>\n",
       "      <th>reviewer_score</th>\n",
       "      <th>leisure trip</th>\n",
       "      <th>submitted from a mobile device</th>\n",
       "      <th>couple</th>\n",
       "      <th>...</th>\n",
       "      <th>days_since_review_2</th>\n",
       "      <th>days_since_review_3</th>\n",
       "      <th>days_since_review_4</th>\n",
       "      <th>days_since_review_5</th>\n",
       "      <th>days_since_review_6</th>\n",
       "      <th>days_since_review_7</th>\n",
       "      <th>days_since_review_8</th>\n",
       "      <th>days_since_review_9</th>\n",
       "      <th>review_date_day_of_week</th>\n",
       "      <th>review_date_quarter</th>\n",
       "    </tr>\n",
       "  </thead>\n",
       "  <tbody>\n",
       "    <tr>\n",
       "      <th>73633</th>\n",
       "      <td>377</td>\n",
       "      <td>8.5</td>\n",
       "      <td>69</td>\n",
       "      <td>1363</td>\n",
       "      <td>11</td>\n",
       "      <td>3</td>\n",
       "      <td>0.0</td>\n",
       "      <td>1</td>\n",
       "      <td>1</td>\n",
       "      <td>1</td>\n",
       "      <td>...</td>\n",
       "      <td>1</td>\n",
       "      <td>0</td>\n",
       "      <td>0</td>\n",
       "      <td>0</td>\n",
       "      <td>0</td>\n",
       "      <td>0</td>\n",
       "      <td>1</td>\n",
       "      <td>1</td>\n",
       "      <td>1</td>\n",
       "      <td>1</td>\n",
       "    </tr>\n",
       "    <tr>\n",
       "      <th>5263</th>\n",
       "      <td>409</td>\n",
       "      <td>8.4</td>\n",
       "      <td>29</td>\n",
       "      <td>1479</td>\n",
       "      <td>22</td>\n",
       "      <td>2</td>\n",
       "      <td>0.0</td>\n",
       "      <td>1</td>\n",
       "      <td>1</td>\n",
       "      <td>1</td>\n",
       "      <td>...</td>\n",
       "      <td>0</td>\n",
       "      <td>0</td>\n",
       "      <td>0</td>\n",
       "      <td>0</td>\n",
       "      <td>1</td>\n",
       "      <td>0</td>\n",
       "      <td>1</td>\n",
       "      <td>0</td>\n",
       "      <td>1</td>\n",
       "      <td>2</td>\n",
       "    </tr>\n",
       "    <tr>\n",
       "      <th>63902</th>\n",
       "      <td>589</td>\n",
       "      <td>7.0</td>\n",
       "      <td>19</td>\n",
       "      <td>4231</td>\n",
       "      <td>6</td>\n",
       "      <td>2</td>\n",
       "      <td>0.0</td>\n",
       "      <td>1</td>\n",
       "      <td>1</td>\n",
       "      <td>1</td>\n",
       "      <td>...</td>\n",
       "      <td>0</td>\n",
       "      <td>1</td>\n",
       "      <td>0</td>\n",
       "      <td>1</td>\n",
       "      <td>0</td>\n",
       "      <td>0</td>\n",
       "      <td>0</td>\n",
       "      <td>1</td>\n",
       "      <td>1</td>\n",
       "      <td>1</td>\n",
       "    </tr>\n",
       "    <tr>\n",
       "      <th>22620</th>\n",
       "      <td>908</td>\n",
       "      <td>8.5</td>\n",
       "      <td>2</td>\n",
       "      <td>3980</td>\n",
       "      <td>2</td>\n",
       "      <td>13</td>\n",
       "      <td>0.0</td>\n",
       "      <td>1</td>\n",
       "      <td>1</td>\n",
       "      <td>0</td>\n",
       "      <td>...</td>\n",
       "      <td>0</td>\n",
       "      <td>0</td>\n",
       "      <td>0</td>\n",
       "      <td>1</td>\n",
       "      <td>1</td>\n",
       "      <td>0</td>\n",
       "      <td>1</td>\n",
       "      <td>0</td>\n",
       "      <td>6</td>\n",
       "      <td>3</td>\n",
       "    </tr>\n",
       "    <tr>\n",
       "      <th>62755</th>\n",
       "      <td>1274</td>\n",
       "      <td>7.7</td>\n",
       "      <td>40</td>\n",
       "      <td>6539</td>\n",
       "      <td>29</td>\n",
       "      <td>1</td>\n",
       "      <td>0.0</td>\n",
       "      <td>1</td>\n",
       "      <td>1</td>\n",
       "      <td>0</td>\n",
       "      <td>...</td>\n",
       "      <td>0</td>\n",
       "      <td>0</td>\n",
       "      <td>1</td>\n",
       "      <td>1</td>\n",
       "      <td>1</td>\n",
       "      <td>1</td>\n",
       "      <td>1</td>\n",
       "      <td>1</td>\n",
       "      <td>1</td>\n",
       "      <td>3</td>\n",
       "    </tr>\n",
       "    <tr>\n",
       "      <th>46557</th>\n",
       "      <td>199</td>\n",
       "      <td>8.6</td>\n",
       "      <td>4</td>\n",
       "      <td>3636</td>\n",
       "      <td>4</td>\n",
       "      <td>17</td>\n",
       "      <td>0.0</td>\n",
       "      <td>1</td>\n",
       "      <td>1</td>\n",
       "      <td>1</td>\n",
       "      <td>...</td>\n",
       "      <td>0</td>\n",
       "      <td>1</td>\n",
       "      <td>1</td>\n",
       "      <td>1</td>\n",
       "      <td>0</td>\n",
       "      <td>0</td>\n",
       "      <td>0</td>\n",
       "      <td>1</td>\n",
       "      <td>6</td>\n",
       "      <td>2</td>\n",
       "    </tr>\n",
       "    <tr>\n",
       "      <th>83647</th>\n",
       "      <td>377</td>\n",
       "      <td>8.5</td>\n",
       "      <td>0</td>\n",
       "      <td>1363</td>\n",
       "      <td>7</td>\n",
       "      <td>46</td>\n",
       "      <td>0.0</td>\n",
       "      <td>0</td>\n",
       "      <td>0</td>\n",
       "      <td>0</td>\n",
       "      <td>...</td>\n",
       "      <td>0</td>\n",
       "      <td>0</td>\n",
       "      <td>1</td>\n",
       "      <td>0</td>\n",
       "      <td>0</td>\n",
       "      <td>0</td>\n",
       "      <td>1</td>\n",
       "      <td>0</td>\n",
       "      <td>6</td>\n",
       "      <td>1</td>\n",
       "    </tr>\n",
       "    <tr>\n",
       "      <th>110758</th>\n",
       "      <td>45</td>\n",
       "      <td>9.3</td>\n",
       "      <td>11</td>\n",
       "      <td>180</td>\n",
       "      <td>16</td>\n",
       "      <td>9</td>\n",
       "      <td>0.0</td>\n",
       "      <td>1</td>\n",
       "      <td>0</td>\n",
       "      <td>1</td>\n",
       "      <td>...</td>\n",
       "      <td>0</td>\n",
       "      <td>1</td>\n",
       "      <td>1</td>\n",
       "      <td>0</td>\n",
       "      <td>1</td>\n",
       "      <td>0</td>\n",
       "      <td>1</td>\n",
       "      <td>0</td>\n",
       "      <td>3</td>\n",
       "      <td>4</td>\n",
       "    </tr>\n",
       "    <tr>\n",
       "      <th>80351</th>\n",
       "      <td>1190</td>\n",
       "      <td>7.5</td>\n",
       "      <td>9</td>\n",
       "      <td>5180</td>\n",
       "      <td>9</td>\n",
       "      <td>5</td>\n",
       "      <td>0.0</td>\n",
       "      <td>1</td>\n",
       "      <td>1</td>\n",
       "      <td>0</td>\n",
       "      <td>...</td>\n",
       "      <td>1</td>\n",
       "      <td>0</td>\n",
       "      <td>1</td>\n",
       "      <td>1</td>\n",
       "      <td>0</td>\n",
       "      <td>1</td>\n",
       "      <td>0</td>\n",
       "      <td>1</td>\n",
       "      <td>6</td>\n",
       "      <td>2</td>\n",
       "    </tr>\n",
       "    <tr>\n",
       "      <th>99939</th>\n",
       "      <td>185</td>\n",
       "      <td>9.4</td>\n",
       "      <td>11</td>\n",
       "      <td>1345</td>\n",
       "      <td>0</td>\n",
       "      <td>2</td>\n",
       "      <td>0.0</td>\n",
       "      <td>1</td>\n",
       "      <td>0</td>\n",
       "      <td>0</td>\n",
       "      <td>...</td>\n",
       "      <td>0</td>\n",
       "      <td>0</td>\n",
       "      <td>0</td>\n",
       "      <td>0</td>\n",
       "      <td>1</td>\n",
       "      <td>0</td>\n",
       "      <td>1</td>\n",
       "      <td>1</td>\n",
       "      <td>3</td>\n",
       "      <td>3</td>\n",
       "    </tr>\n",
       "  </tbody>\n",
       "</table>\n",
       "<p>10 rows × 127 columns</p>\n",
       "</div>"
      ],
      "text/plain": [
       "        additional_number_of_scoring  average_score  \\\n",
       "73633                            377            8.5   \n",
       "5263                             409            8.4   \n",
       "63902                            589            7.0   \n",
       "22620                            908            8.5   \n",
       "62755                           1274            7.7   \n",
       "46557                            199            8.6   \n",
       "83647                            377            8.5   \n",
       "110758                            45            9.3   \n",
       "80351                           1190            7.5   \n",
       "99939                            185            9.4   \n",
       "\n",
       "        review_total_negative_word_counts  total_number_of_reviews  \\\n",
       "73633                                  69                     1363   \n",
       "5263                                   29                     1479   \n",
       "63902                                  19                     4231   \n",
       "22620                                   2                     3980   \n",
       "62755                                  40                     6539   \n",
       "46557                                   4                     3636   \n",
       "83647                                   0                     1363   \n",
       "110758                                 11                      180   \n",
       "80351                                   9                     5180   \n",
       "99939                                  11                     1345   \n",
       "\n",
       "        review_total_positive_word_counts  \\\n",
       "73633                                  11   \n",
       "5263                                   22   \n",
       "63902                                   6   \n",
       "22620                                   2   \n",
       "62755                                  29   \n",
       "46557                                   4   \n",
       "83647                                   7   \n",
       "110758                                 16   \n",
       "80351                                   9   \n",
       "99939                                   0   \n",
       "\n",
       "        total_number_of_reviews_reviewer_has_given  reviewer_score  \\\n",
       "73633                                            3             0.0   \n",
       "5263                                             2             0.0   \n",
       "63902                                            2             0.0   \n",
       "22620                                           13             0.0   \n",
       "62755                                            1             0.0   \n",
       "46557                                           17             0.0   \n",
       "83647                                           46             0.0   \n",
       "110758                                           9             0.0   \n",
       "80351                                            5             0.0   \n",
       "99939                                            2             0.0   \n",
       "\n",
       "        leisure trip  submitted from a mobile device  couple  ...  \\\n",
       "73633              1                               1       1  ...   \n",
       "5263               1                               1       1  ...   \n",
       "63902              1                               1       1  ...   \n",
       "22620              1                               1       0  ...   \n",
       "62755              1                               1       0  ...   \n",
       "46557              1                               1       1  ...   \n",
       "83647              0                               0       0  ...   \n",
       "110758             1                               0       1  ...   \n",
       "80351              1                               1       0  ...   \n",
       "99939              1                               0       0  ...   \n",
       "\n",
       "        days_since_review_2  days_since_review_3  days_since_review_4  \\\n",
       "73633                     1                    0                    0   \n",
       "5263                      0                    0                    0   \n",
       "63902                     0                    1                    0   \n",
       "22620                     0                    0                    0   \n",
       "62755                     0                    0                    1   \n",
       "46557                     0                    1                    1   \n",
       "83647                     0                    0                    1   \n",
       "110758                    0                    1                    1   \n",
       "80351                     1                    0                    1   \n",
       "99939                     0                    0                    0   \n",
       "\n",
       "        days_since_review_5  days_since_review_6  days_since_review_7  \\\n",
       "73633                     0                    0                    0   \n",
       "5263                      0                    1                    0   \n",
       "63902                     1                    0                    0   \n",
       "22620                     1                    1                    0   \n",
       "62755                     1                    1                    1   \n",
       "46557                     1                    0                    0   \n",
       "83647                     0                    0                    0   \n",
       "110758                    0                    1                    0   \n",
       "80351                     1                    0                    1   \n",
       "99939                     0                    1                    0   \n",
       "\n",
       "        days_since_review_8  days_since_review_9  review_date_day_of_week  \\\n",
       "73633                     1                    1                        1   \n",
       "5263                      1                    0                        1   \n",
       "63902                     0                    1                        1   \n",
       "22620                     1                    0                        6   \n",
       "62755                     1                    1                        1   \n",
       "46557                     0                    1                        6   \n",
       "83647                     1                    0                        6   \n",
       "110758                    1                    0                        3   \n",
       "80351                     0                    1                        6   \n",
       "99939                     1                    1                        3   \n",
       "\n",
       "        review_date_quarter  \n",
       "73633                     1  \n",
       "5263                      2  \n",
       "63902                     1  \n",
       "22620                     3  \n",
       "62755                     3  \n",
       "46557                     2  \n",
       "83647                     1  \n",
       "110758                    4  \n",
       "80351                     2  \n",
       "99939                     3  \n",
       "\n",
       "[10 rows x 127 columns]"
      ]
     },
     "execution_count": 889,
     "metadata": {},
     "output_type": "execute_result"
    }
   ],
   "source": [
    "test_data.sample(10)"
   ]
  },
  {
   "cell_type": "code",
   "execution_count": 890,
   "id": "a9a6da4d",
   "metadata": {
    "execution": {
     "iopub.execute_input": "2022-02-08T19:15:30.705058Z",
     "iopub.status.busy": "2022-02-08T19:15:30.704107Z",
     "iopub.status.idle": "2022-02-08T19:15:30.711398Z",
     "shell.execute_reply": "2022-02-08T19:15:30.711831Z",
     "shell.execute_reply.started": "2022-02-08T18:45:41.885567Z"
    },
    "papermill": {
     "duration": 0.041402,
     "end_time": "2022-02-08T19:15:30.712005",
     "exception": false,
     "start_time": "2022-02-08T19:15:30.670603",
     "status": "completed"
    },
    "tags": []
   },
   "outputs": [],
   "source": [
    "test_data = test_data.drop(['reviewer_score'], axis=1)"
   ]
  },
  {
   "cell_type": "code",
   "execution_count": 891,
   "id": "82996041",
   "metadata": {
    "execution": {
     "iopub.execute_input": "2022-02-08T19:15:30.776119Z",
     "iopub.status.busy": "2022-02-08T19:15:30.775182Z",
     "iopub.status.idle": "2022-02-08T19:15:30.784841Z",
     "shell.execute_reply": "2022-02-08T19:15:30.785251Z",
     "shell.execute_reply.started": "2022-02-08T18:45:41.893309Z"
    },
    "papermill": {
     "duration": 0.043997,
     "end_time": "2022-02-08T19:15:30.785439",
     "exception": false,
     "start_time": "2022-02-08T19:15:30.741442",
     "status": "completed"
    },
    "tags": []
   },
   "outputs": [
    {
     "data": {
      "text/html": [
       "<div>\n",
       "<style scoped>\n",
       "    .dataframe tbody tr th:only-of-type {\n",
       "        vertical-align: middle;\n",
       "    }\n",
       "\n",
       "    .dataframe tbody tr th {\n",
       "        vertical-align: top;\n",
       "    }\n",
       "\n",
       "    .dataframe thead th {\n",
       "        text-align: right;\n",
       "    }\n",
       "</style>\n",
       "<table border=\"1\" class=\"dataframe\">\n",
       "  <thead>\n",
       "    <tr style=\"text-align: right;\">\n",
       "      <th></th>\n",
       "      <th>reviewer_score</th>\n",
       "      <th>id</th>\n",
       "    </tr>\n",
       "  </thead>\n",
       "  <tbody>\n",
       "    <tr>\n",
       "      <th>0</th>\n",
       "      <td>1</td>\n",
       "      <td>488440</td>\n",
       "    </tr>\n",
       "    <tr>\n",
       "      <th>1</th>\n",
       "      <td>10</td>\n",
       "      <td>274649</td>\n",
       "    </tr>\n",
       "    <tr>\n",
       "      <th>2</th>\n",
       "      <td>3</td>\n",
       "      <td>374688</td>\n",
       "    </tr>\n",
       "    <tr>\n",
       "      <th>3</th>\n",
       "      <td>10</td>\n",
       "      <td>404352</td>\n",
       "    </tr>\n",
       "    <tr>\n",
       "      <th>4</th>\n",
       "      <td>9</td>\n",
       "      <td>451596</td>\n",
       "    </tr>\n",
       "    <tr>\n",
       "      <th>...</th>\n",
       "      <td>...</td>\n",
       "      <td>...</td>\n",
       "    </tr>\n",
       "    <tr>\n",
       "      <th>128930</th>\n",
       "      <td>7</td>\n",
       "      <td>495812</td>\n",
       "    </tr>\n",
       "    <tr>\n",
       "      <th>128931</th>\n",
       "      <td>1</td>\n",
       "      <td>315577</td>\n",
       "    </tr>\n",
       "    <tr>\n",
       "      <th>128932</th>\n",
       "      <td>3</td>\n",
       "      <td>511968</td>\n",
       "    </tr>\n",
       "    <tr>\n",
       "      <th>128933</th>\n",
       "      <td>6</td>\n",
       "      <td>303386</td>\n",
       "    </tr>\n",
       "    <tr>\n",
       "      <th>128934</th>\n",
       "      <td>5</td>\n",
       "      <td>103157</td>\n",
       "    </tr>\n",
       "  </tbody>\n",
       "</table>\n",
       "<p>128935 rows × 2 columns</p>\n",
       "</div>"
      ],
      "text/plain": [
       "        reviewer_score      id\n",
       "0                    1  488440\n",
       "1                   10  274649\n",
       "2                    3  374688\n",
       "3                   10  404352\n",
       "4                    9  451596\n",
       "...                ...     ...\n",
       "128930               7  495812\n",
       "128931               1  315577\n",
       "128932               3  511968\n",
       "128933               6  303386\n",
       "128934               5  103157\n",
       "\n",
       "[128935 rows x 2 columns]"
      ]
     },
     "execution_count": 891,
     "metadata": {},
     "output_type": "execute_result"
    }
   ],
   "source": [
    "sample_submission"
   ]
  },
  {
   "cell_type": "code",
   "execution_count": 892,
   "id": "17e3b4fd",
   "metadata": {
    "execution": {
     "iopub.execute_input": "2022-02-08T19:15:30.850529Z",
     "iopub.status.busy": "2022-02-08T19:15:30.849583Z",
     "iopub.status.idle": "2022-02-08T19:15:33.976874Z",
     "shell.execute_reply": "2022-02-08T19:15:33.976213Z",
     "shell.execute_reply.started": "2022-02-08T18:45:41.912914Z"
    },
    "papermill": {
     "duration": 3.16064,
     "end_time": "2022-02-08T19:15:33.977025",
     "exception": false,
     "start_time": "2022-02-08T19:15:30.816385",
     "status": "completed"
    },
    "tags": []
   },
   "outputs": [
    {
     "name": "stderr",
     "output_type": "stream",
     "text": [
      "[Parallel(n_jobs=16)]: Using backend ThreadingBackend with 16 concurrent workers.\n",
      "[Parallel(n_jobs=16)]: Done  18 tasks      | elapsed:    0.2s\n",
      "[Parallel(n_jobs=16)]: Done 100 out of 100 | elapsed:    0.9s finished\n"
     ]
    }
   ],
   "source": [
    "predict_submission = model.predict(test_data)"
   ]
  },
  {
   "cell_type": "code",
   "execution_count": 893,
   "id": "f8143893",
   "metadata": {
    "execution": {
     "iopub.execute_input": "2022-02-08T19:15:34.049725Z",
     "iopub.status.busy": "2022-02-08T19:15:34.048890Z",
     "iopub.status.idle": "2022-02-08T19:15:34.052717Z",
     "shell.execute_reply": "2022-02-08T19:15:34.053456Z",
     "shell.execute_reply.started": "2022-02-08T18:45:44.231424Z"
    },
    "papermill": {
     "duration": 0.043612,
     "end_time": "2022-02-08T19:15:34.053708",
     "exception": false,
     "start_time": "2022-02-08T19:15:34.010096",
     "status": "completed"
    },
    "tags": []
   },
   "outputs": [
    {
     "data": {
      "text/plain": [
       "array([8.679, 7.453, 7.838, ..., 7.738, 9.643, 7.185])"
      ]
     },
     "execution_count": 893,
     "metadata": {},
     "output_type": "execute_result"
    }
   ],
   "source": [
    "predict_submission"
   ]
  },
  {
   "cell_type": "code",
   "execution_count": 894,
   "id": "acc71a3c",
   "metadata": {
    "execution": {
     "iopub.execute_input": "2022-02-08T19:15:34.130523Z",
     "iopub.status.busy": "2022-02-08T19:15:34.129920Z",
     "iopub.status.idle": "2022-02-08T19:15:34.132622Z",
     "shell.execute_reply": "2022-02-08T19:15:34.133260Z",
     "shell.execute_reply.started": "2022-02-08T18:45:44.239621Z"
    },
    "papermill": {
     "duration": 0.044364,
     "end_time": "2022-02-08T19:15:34.133444",
     "exception": false,
     "start_time": "2022-02-08T19:15:34.089080",
     "status": "completed"
    },
    "tags": []
   },
   "outputs": [
    {
     "data": {
      "text/plain": [
       "['reviewer_score', 'id']"
      ]
     },
     "execution_count": 894,
     "metadata": {},
     "output_type": "execute_result"
    }
   ],
   "source": [
    "list(sample_submission)"
   ]
  },
  {
   "cell_type": "code",
   "execution_count": 895,
   "id": "9c5daa79",
   "metadata": {
    "execution": {
     "iopub.execute_input": "2022-02-08T19:15:34.202732Z",
     "iopub.status.busy": "2022-02-08T19:15:34.202121Z",
     "iopub.status.idle": "2022-02-08T19:15:34.484062Z",
     "shell.execute_reply": "2022-02-08T19:15:34.484469Z",
     "shell.execute_reply.started": "2022-02-08T18:45:44.250765Z"
    },
    "papermill": {
     "duration": 0.318018,
     "end_time": "2022-02-08T19:15:34.484637",
     "exception": false,
     "start_time": "2022-02-08T19:15:34.166619",
     "status": "completed"
    },
    "tags": []
   },
   "outputs": [
    {
     "data": {
      "text/html": [
       "<div>\n",
       "<style scoped>\n",
       "    .dataframe tbody tr th:only-of-type {\n",
       "        vertical-align: middle;\n",
       "    }\n",
       "\n",
       "    .dataframe tbody tr th {\n",
       "        vertical-align: top;\n",
       "    }\n",
       "\n",
       "    .dataframe thead th {\n",
       "        text-align: right;\n",
       "    }\n",
       "</style>\n",
       "<table border=\"1\" class=\"dataframe\">\n",
       "  <thead>\n",
       "    <tr style=\"text-align: right;\">\n",
       "      <th></th>\n",
       "      <th>reviewer_score</th>\n",
       "      <th>id</th>\n",
       "    </tr>\n",
       "  </thead>\n",
       "  <tbody>\n",
       "    <tr>\n",
       "      <th>0</th>\n",
       "      <td>8.679</td>\n",
       "      <td>488440</td>\n",
       "    </tr>\n",
       "    <tr>\n",
       "      <th>1</th>\n",
       "      <td>7.453</td>\n",
       "      <td>274649</td>\n",
       "    </tr>\n",
       "    <tr>\n",
       "      <th>2</th>\n",
       "      <td>7.838</td>\n",
       "      <td>374688</td>\n",
       "    </tr>\n",
       "    <tr>\n",
       "      <th>3</th>\n",
       "      <td>9.669</td>\n",
       "      <td>404352</td>\n",
       "    </tr>\n",
       "    <tr>\n",
       "      <th>4</th>\n",
       "      <td>9.525</td>\n",
       "      <td>451596</td>\n",
       "    </tr>\n",
       "    <tr>\n",
       "      <th>5</th>\n",
       "      <td>8.950</td>\n",
       "      <td>302161</td>\n",
       "    </tr>\n",
       "    <tr>\n",
       "      <th>6</th>\n",
       "      <td>5.886</td>\n",
       "      <td>317079</td>\n",
       "    </tr>\n",
       "    <tr>\n",
       "      <th>7</th>\n",
       "      <td>7.716</td>\n",
       "      <td>13963</td>\n",
       "    </tr>\n",
       "    <tr>\n",
       "      <th>8</th>\n",
       "      <td>8.972</td>\n",
       "      <td>159785</td>\n",
       "    </tr>\n",
       "    <tr>\n",
       "      <th>9</th>\n",
       "      <td>7.944</td>\n",
       "      <td>195089</td>\n",
       "    </tr>\n",
       "  </tbody>\n",
       "</table>\n",
       "</div>"
      ],
      "text/plain": [
       "   reviewer_score      id\n",
       "0           8.679  488440\n",
       "1           7.453  274649\n",
       "2           7.838  374688\n",
       "3           9.669  404352\n",
       "4           9.525  451596\n",
       "5           8.950  302161\n",
       "6           5.886  317079\n",
       "7           7.716   13963\n",
       "8           8.972  159785\n",
       "9           7.944  195089"
      ]
     },
     "execution_count": 895,
     "metadata": {},
     "output_type": "execute_result"
    }
   ],
   "source": [
    "sample_submission['reviewer_score'] = predict_submission\n",
    "sample_submission.to_csv('submission.csv', index=False)\n",
    "sample_submission.head(10)"
   ]
  }
 ],
 "metadata": {
  "kernelspec": {
   "display_name": "Python 3",
   "language": "python",
   "name": "python3"
  },
  "language_info": {
   "codemirror_mode": {
    "name": "ipython",
    "version": 3
   },
   "file_extension": ".py",
   "mimetype": "text/x-python",
   "name": "python",
   "nbconvert_exporter": "python",
   "pygments_lexer": "ipython3",
   "version": "3.11.0"
  },
  "papermill": {
   "default_parameters": {},
   "duration": 82.712304,
   "end_time": "2022-02-08T19:15:35.720354",
   "environment_variables": {},
   "exception": null,
   "input_path": "__notebook__.ipynb",
   "output_path": "__notebook__.ipynb",
   "parameters": {},
   "start_time": "2022-02-08T19:14:13.008050",
   "version": "2.3.3"
  }
 },
 "nbformat": 4,
 "nbformat_minor": 5
}
