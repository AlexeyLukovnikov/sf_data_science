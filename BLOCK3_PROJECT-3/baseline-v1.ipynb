{
 "cells": [
  {
   "cell_type": "code",
   "execution_count": 93,
   "id": "81a20841",
   "metadata": {
    "_cell_guid": "b1076dfc-b9ad-4769-8c92-a6c4dae69d19",
    "_uuid": "8f2839f25d086af736a60e9eeb907d3b93b6e0e5",
    "execution": {
     "iopub.execute_input": "2022-02-08T19:14:22.339329Z",
     "iopub.status.busy": "2022-02-08T19:14:22.338238Z",
     "iopub.status.idle": "2022-02-08T19:14:23.673423Z",
     "shell.execute_reply": "2022-02-08T19:14:23.673936Z",
     "shell.execute_reply.started": "2022-02-08T18:44:26.624161Z"
    },
    "papermill": {
     "duration": 1.363434,
     "end_time": "2022-02-08T19:14:23.674225",
     "exception": false,
     "start_time": "2022-02-08T19:14:22.310791",
     "status": "completed"
    },
    "tags": []
   },
   "outputs": [],
   "source": [
    "# This Python 3 environment comes with many helpful analytics libraries installed\n",
    "# It is defined by the kaggle/python Docker image: https://github.com/kaggle/docker-python\n",
    "# For example, here's several helpful packages to load\n",
    "\n",
    "import numpy as np # linear algebra\n",
    "import pandas as pd # data processing, CSV file I/O (e.g. pd.read_csv)\n",
    "\n",
    "# импортируем библиотеки для визуализации\n",
    "import matplotlib.pyplot as plt\n",
    "import seaborn as sns \n",
    "%matplotlib inline\n",
    "\n",
    "# Загружаем специальный удобный инструмент для разделения датасета:\n",
    "from sklearn.model_selection import train_test_split\n",
    "\n",
    "# Input data files are available in the read-only \"../input/\" directory\n",
    "# For example, running this (by clicking run or pressing Shift+Enter) will list all files under the input directory\n",
    "\n",
    "import os\n",
    "for dirname, _, filenames in os.walk('/kaggle/input'):\n",
    "    for filename in filenames:\n",
    "        print(os.path.join(dirname, filename))\n",
    "\n",
    "# You can write up to 20GB to the current directory (/kaggle/working/) that gets preserved as output when you create a version using \"Save & Run All\" \n",
    "# You can also write temporary files to /kaggle/temp/, but they won't be saved outside of the current session"
   ]
  },
  {
   "cell_type": "code",
   "execution_count": 94,
   "id": "8bd9892a",
   "metadata": {
    "execution": {
     "iopub.execute_input": "2022-02-08T19:14:23.722495Z",
     "iopub.status.busy": "2022-02-08T19:14:23.721381Z",
     "iopub.status.idle": "2022-02-08T19:14:23.725121Z",
     "shell.execute_reply": "2022-02-08T19:14:23.725576Z",
     "shell.execute_reply.started": "2022-02-08T18:44:26.641433Z"
    },
    "papermill": {
     "duration": 0.028937,
     "end_time": "2022-02-08T19:14:23.725766",
     "exception": false,
     "start_time": "2022-02-08T19:14:23.696829",
     "status": "completed"
    },
    "tags": []
   },
   "outputs": [],
   "source": [
    "# всегда фиксируйте RANDOM_SEED, чтобы ваши эксперименты были воспроизводимы!\n",
    "RANDOM_SEED = 42"
   ]
  },
  {
   "cell_type": "code",
   "execution_count": 95,
   "id": "814dbb0b",
   "metadata": {
    "execution": {
     "iopub.execute_input": "2022-02-08T19:14:23.771180Z",
     "iopub.status.busy": "2022-02-08T19:14:23.770572Z",
     "iopub.status.idle": "2022-02-08T19:14:28.207550Z",
     "shell.execute_reply": "2022-02-08T19:14:28.206673Z",
     "shell.execute_reply.started": "2022-02-08T18:44:26.648843Z"
    },
    "papermill": {
     "duration": 4.460662,
     "end_time": "2022-02-08T19:14:28.207868",
     "exception": false,
     "start_time": "2022-02-08T19:14:23.747206",
     "status": "completed"
    },
    "tags": []
   },
   "outputs": [],
   "source": [
    "# зафиксируем версию пакетов, чтобы эксперименты были воспроизводимы:\n",
    "#!pip freeze > requirements.txt"
   ]
  },
  {
   "cell_type": "code",
   "execution_count": 96,
   "id": "71cc11f1",
   "metadata": {},
   "outputs": [],
   "source": [
    "# Подгрузим наши данные из соревнования\n",
    "\n",
    "DATA_DIR = 'data'\n",
    "df_train = pd.read_csv(DATA_DIR+'/hotels_train.zip') # датасет для обучения\n",
    "df_test = pd.read_csv(DATA_DIR+'/hotels_test.zip') # датасет для предсказания\n",
    "sample_submission = pd.read_csv(DATA_DIR+'/submission.csv') # самбмишн"
   ]
  },
  {
   "cell_type": "code",
   "execution_count": 97,
   "id": "e5af1bc4",
   "metadata": {},
   "outputs": [
    {
     "name": "stdout",
     "output_type": "stream",
     "text": [
      "386803 True\n",
      "0 hotel_address 1493 0.39\n",
      "2 review_date 731 0.19\n",
      "4 hotel_name 1492 0.39\n",
      "5 reviewer_nationality 225 0.06\n",
      "6 negative_review 248828 64.33\n",
      "9 positive_review 311737 80.59\n",
      "13 tags 47135 12.19\n",
      "14 days_since_review 731 0.19\n"
     ]
    }
   ],
   "source": [
    "print(df_train.shape[0], df_test.shape[0] == sample_submission.shape[0])\n",
    "for i, v in enumerate(df_train.columns):\n",
    "    if df_train[v].dtype == 'object':\n",
    "        print(i, v, df_train[v].nunique(), round(df_train[v].nunique() / df_train.shape[0] * 100, 2))"
   ]
  },
  {
   "cell_type": "code",
   "execution_count": 98,
   "id": "5f138d8d",
   "metadata": {},
   "outputs": [
    {
     "data": {
      "text/plain": [
       "1"
      ]
     },
     "execution_count": 98,
     "metadata": {},
     "output_type": "execute_result"
    }
   ],
   "source": [
    "1\n",
    "# from ydata_profiling import ProfileReport\n",
    "# profile = ProfileReport(df_train, title=\"Pandas Profiling Report\")\n",
    "# profile\n",
    "# profile.to_file(\"your_report.html\")"
   ]
  },
  {
   "cell_type": "code",
   "execution_count": 99,
   "id": "e816699e",
   "metadata": {},
   "outputs": [
    {
     "name": "stdout",
     "output_type": "stream",
     "text": [
      "(386803, 17)\n"
     ]
    },
    {
     "data": {
      "text/html": [
       "<div>\n",
       "<style scoped>\n",
       "    .dataframe tbody tr th:only-of-type {\n",
       "        vertical-align: middle;\n",
       "    }\n",
       "\n",
       "    .dataframe tbody tr th {\n",
       "        vertical-align: top;\n",
       "    }\n",
       "\n",
       "    .dataframe thead th {\n",
       "        text-align: right;\n",
       "    }\n",
       "</style>\n",
       "<table border=\"1\" class=\"dataframe\">\n",
       "  <thead>\n",
       "    <tr style=\"text-align: right;\">\n",
       "      <th></th>\n",
       "      <th>positive_review</th>\n",
       "      <th>hotel_address</th>\n",
       "    </tr>\n",
       "  </thead>\n",
       "  <tbody>\n",
       "    <tr>\n",
       "      <th>163741</th>\n",
       "      <td>no positive</td>\n",
       "      <td>26885</td>\n",
       "    </tr>\n",
       "    <tr>\n",
       "      <th>124810</th>\n",
       "      <td>location</td>\n",
       "      <td>8843</td>\n",
       "    </tr>\n",
       "    <tr>\n",
       "      <th>46074</th>\n",
       "      <td>everything</td>\n",
       "      <td>2453</td>\n",
       "    </tr>\n",
       "    <tr>\n",
       "      <th>164280</th>\n",
       "      <td>nothing</td>\n",
       "      <td>1297</td>\n",
       "    </tr>\n",
       "    <tr>\n",
       "      <th>88276</th>\n",
       "      <td>great location</td>\n",
       "      <td>1291</td>\n",
       "    </tr>\n",
       "    <tr>\n",
       "      <th>230299</th>\n",
       "      <td>the location</td>\n",
       "      <td>1187</td>\n",
       "    </tr>\n",
       "    <tr>\n",
       "      <th>77360</th>\n",
       "      <td>good location</td>\n",
       "      <td>1123</td>\n",
       "    </tr>\n",
       "    <tr>\n",
       "      <th>20626</th>\n",
       "      <td>breakfast</td>\n",
       "      <td>591</td>\n",
       "    </tr>\n",
       "    <tr>\n",
       "      <th>71026</th>\n",
       "      <td>friendly staff</td>\n",
       "      <td>545</td>\n",
       "    </tr>\n",
       "    <tr>\n",
       "      <th>54546</th>\n",
       "      <td>excellent location</td>\n",
       "      <td>476</td>\n",
       "    </tr>\n",
       "    <tr>\n",
       "      <th>190735</th>\n",
       "      <td>staff</td>\n",
       "      <td>418</td>\n",
       "    </tr>\n",
       "    <tr>\n",
       "      <th>126533</th>\n",
       "      <td>location and staff</td>\n",
       "      <td>341</td>\n",
       "    </tr>\n",
       "    <tr>\n",
       "      <th>139463</th>\n",
       "      <td>location staff</td>\n",
       "      <td>315</td>\n",
       "    </tr>\n",
       "    <tr>\n",
       "      <th>136131</th>\n",
       "      <td>location location location</td>\n",
       "      <td>256</td>\n",
       "    </tr>\n",
       "    <tr>\n",
       "      <th>142950</th>\n",
       "      <td>location was good</td>\n",
       "      <td>243</td>\n",
       "    </tr>\n",
       "    <tr>\n",
       "      <th>143504</th>\n",
       "      <td>location was great</td>\n",
       "      <td>242</td>\n",
       "    </tr>\n",
       "    <tr>\n",
       "      <th>50542</th>\n",
       "      <td>everything was perfect</td>\n",
       "      <td>240</td>\n",
       "    </tr>\n",
       "    <tr>\n",
       "      <th>37060</th>\n",
       "      <td>comfy bed</td>\n",
       "      <td>225</td>\n",
       "    </tr>\n",
       "    <tr>\n",
       "      <th>75421</th>\n",
       "      <td>good breakfast</td>\n",
       "      <td>222</td>\n",
       "    </tr>\n",
       "    <tr>\n",
       "      <th>168562</th>\n",
       "      <td>perfect location</td>\n",
       "      <td>212</td>\n",
       "    </tr>\n",
       "    <tr>\n",
       "      <th>254495</th>\n",
       "      <td>the staff</td>\n",
       "      <td>208</td>\n",
       "    </tr>\n",
       "    <tr>\n",
       "      <th>133605</th>\n",
       "      <td>location is great</td>\n",
       "      <td>204</td>\n",
       "    </tr>\n",
       "    <tr>\n",
       "      <th>133176</th>\n",
       "      <td>location is good</td>\n",
       "      <td>188</td>\n",
       "    </tr>\n",
       "    <tr>\n",
       "      <th>28242</th>\n",
       "      <td>clean</td>\n",
       "      <td>181</td>\n",
       "    </tr>\n",
       "    <tr>\n",
       "      <th>4436</th>\n",
       "      <td>all</td>\n",
       "      <td>181</td>\n",
       "    </tr>\n",
       "    <tr>\n",
       "      <th>282646</th>\n",
       "      <td>very friendly staff</td>\n",
       "      <td>178</td>\n",
       "    </tr>\n",
       "    <tr>\n",
       "      <th>85173</th>\n",
       "      <td>great breakfast</td>\n",
       "      <td>171</td>\n",
       "    </tr>\n",
       "    <tr>\n",
       "      <th>23675</th>\n",
       "      <td>breakfast was good</td>\n",
       "      <td>170</td>\n",
       "    </tr>\n",
       "    <tr>\n",
       "      <th>45530</th>\n",
       "      <td>every thing</td>\n",
       "      <td>161</td>\n",
       "    </tr>\n",
       "    <tr>\n",
       "      <th>52228</th>\n",
       "      <td>excellent breakfast</td>\n",
       "      <td>159</td>\n",
       "    </tr>\n",
       "    <tr>\n",
       "      <th>284534</th>\n",
       "      <td>very good location</td>\n",
       "      <td>158</td>\n",
       "    </tr>\n",
       "    <tr>\n",
       "      <th>142049</th>\n",
       "      <td>location was excellent</td>\n",
       "      <td>152</td>\n",
       "    </tr>\n",
       "    <tr>\n",
       "      <th>34971</th>\n",
       "      <td>comfortable bed</td>\n",
       "      <td>151</td>\n",
       "    </tr>\n",
       "    <tr>\n",
       "      <th>127595</th>\n",
       "      <td>location breakfast</td>\n",
       "      <td>142</td>\n",
       "    </tr>\n",
       "    <tr>\n",
       "      <th>132549</th>\n",
       "      <td>location is excellent</td>\n",
       "      <td>135</td>\n",
       "    </tr>\n",
       "    <tr>\n",
       "      <th>31666</th>\n",
       "      <td>cleanliness</td>\n",
       "      <td>134</td>\n",
       "    </tr>\n",
       "    <tr>\n",
       "      <th>134597</th>\n",
       "      <td>location is perfect</td>\n",
       "      <td>133</td>\n",
       "    </tr>\n",
       "    <tr>\n",
       "      <th>26714</th>\n",
       "      <td>central location</td>\n",
       "      <td>132</td>\n",
       "    </tr>\n",
       "    <tr>\n",
       "      <th>92534</th>\n",
       "      <td>great location friendly staff</td>\n",
       "      <td>131</td>\n",
       "    </tr>\n",
       "    <tr>\n",
       "      <th>137801</th>\n",
       "      <td>location only</td>\n",
       "      <td>129</td>\n",
       "    </tr>\n",
       "    <tr>\n",
       "      <th>0</th>\n",
       "      <td></td>\n",
       "      <td>128</td>\n",
       "    </tr>\n",
       "    <tr>\n",
       "      <th>103513</th>\n",
       "      <td>helpful staff</td>\n",
       "      <td>126</td>\n",
       "    </tr>\n",
       "    <tr>\n",
       "      <th>125270</th>\n",
       "      <td>location and breakfast</td>\n",
       "      <td>124</td>\n",
       "    </tr>\n",
       "    <tr>\n",
       "      <th>100221</th>\n",
       "      <td>great staff</td>\n",
       "      <td>123</td>\n",
       "    </tr>\n",
       "    <tr>\n",
       "      <th>49975</th>\n",
       "      <td>everything was great</td>\n",
       "      <td>120</td>\n",
       "    </tr>\n",
       "    <tr>\n",
       "      <th>209289</th>\n",
       "      <td>the bed</td>\n",
       "      <td>120</td>\n",
       "    </tr>\n",
       "    <tr>\n",
       "      <th>130842</th>\n",
       "      <td>location friendly staff</td>\n",
       "      <td>118</td>\n",
       "    </tr>\n",
       "    <tr>\n",
       "      <th>191057</th>\n",
       "      <td>staff and location</td>\n",
       "      <td>117</td>\n",
       "    </tr>\n",
       "    <tr>\n",
       "      <th>172145</th>\n",
       "      <td>position</td>\n",
       "      <td>117</td>\n",
       "    </tr>\n",
       "    <tr>\n",
       "      <th>70301</th>\n",
       "      <td>friendly helpful staff</td>\n",
       "      <td>116</td>\n",
       "    </tr>\n",
       "  </tbody>\n",
       "</table>\n",
       "</div>"
      ],
      "text/plain": [
       "                      positive_review  hotel_address\n",
       "163741                    no positive          26885\n",
       "124810                       location           8843\n",
       "46074                      everything           2453\n",
       "164280                        nothing           1297\n",
       "88276                  great location           1291\n",
       "230299                   the location           1187\n",
       "77360                   good location           1123\n",
       "20626                       breakfast            591\n",
       "71026                  friendly staff            545\n",
       "54546              excellent location            476\n",
       "190735                          staff            418\n",
       "126533             location and staff            341\n",
       "139463                 location staff            315\n",
       "136131     location location location            256\n",
       "142950              location was good            243\n",
       "143504             location was great            242\n",
       "50542          everything was perfect            240\n",
       "37060                       comfy bed            225\n",
       "75421                  good breakfast            222\n",
       "168562               perfect location            212\n",
       "254495                      the staff            208\n",
       "133605              location is great            204\n",
       "133176               location is good            188\n",
       "28242                           clean            181\n",
       "4436                              all            181\n",
       "282646            very friendly staff            178\n",
       "85173                 great breakfast            171\n",
       "23675              breakfast was good            170\n",
       "45530                     every thing            161\n",
       "52228             excellent breakfast            159\n",
       "284534             very good location            158\n",
       "142049         location was excellent            152\n",
       "34971                 comfortable bed            151\n",
       "127595             location breakfast            142\n",
       "132549          location is excellent            135\n",
       "31666                     cleanliness            134\n",
       "134597            location is perfect            133\n",
       "26714                central location            132\n",
       "92534   great location friendly staff            131\n",
       "137801                  location only            129\n",
       "0                                                128\n",
       "103513                  helpful staff            126\n",
       "125270         location and breakfast            124\n",
       "100221                    great staff            123\n",
       "49975            everything was great            120\n",
       "209289                        the bed            120\n",
       "130842        location friendly staff            118\n",
       "191057             staff and location            117\n",
       "172145                       position            117\n",
       "70301          friendly helpful staff            116"
      ]
     },
     "execution_count": 99,
     "metadata": {},
     "output_type": "execute_result"
    }
   ],
   "source": [
    "print(df_train.shape)\n",
    "#df_train.groupby(by='negative_review', as_index=False)['hotel_address'].count().sort_values(by='hotel_address', ascending=False).head(50)\n",
    "df_train['positive_review'] = df_train['positive_review'].str.strip().str.lower()\n",
    "df_train.groupby(by='positive_review', as_index=False)['hotel_address'].count().sort_values(by='hotel_address', ascending=False).head(50)"
   ]
  },
  {
   "cell_type": "code",
   "execution_count": null,
   "id": "36bdfa48",
   "metadata": {},
   "outputs": [],
   "source": []
  },
  {
   "cell_type": "code",
   "execution_count": 100,
   "id": "5aadcce6",
   "metadata": {
    "execution": {
     "iopub.execute_input": "2022-02-08T19:14:33.814184Z",
     "iopub.status.busy": "2022-02-08T19:14:33.813500Z",
     "iopub.status.idle": "2022-02-08T19:14:33.985724Z",
     "shell.execute_reply": "2022-02-08T19:14:33.986240Z",
     "shell.execute_reply.started": "2022-02-08T18:44:32.949435Z"
    },
    "papermill": {
     "duration": 0.201246,
     "end_time": "2022-02-08T19:14:33.986418",
     "exception": false,
     "start_time": "2022-02-08T19:14:33.785172",
     "status": "completed"
    },
    "tags": []
   },
   "outputs": [
    {
     "name": "stdout",
     "output_type": "stream",
     "text": [
      "<class 'pandas.core.frame.DataFrame'>\n",
      "RangeIndex: 386803 entries, 0 to 386802\n",
      "Data columns (total 17 columns):\n",
      " #   Column                                      Non-Null Count   Dtype  \n",
      "---  ------                                      --------------   -----  \n",
      " 0   hotel_address                               386803 non-null  object \n",
      " 1   additional_number_of_scoring                386803 non-null  int64  \n",
      " 2   review_date                                 386803 non-null  object \n",
      " 3   average_score                               386803 non-null  float64\n",
      " 4   hotel_name                                  386803 non-null  object \n",
      " 5   reviewer_nationality                        386803 non-null  object \n",
      " 6   negative_review                             386803 non-null  object \n",
      " 7   review_total_negative_word_counts           386803 non-null  int64  \n",
      " 8   total_number_of_reviews                     386803 non-null  int64  \n",
      " 9   positive_review                             386803 non-null  object \n",
      " 10  review_total_positive_word_counts           386803 non-null  int64  \n",
      " 11  total_number_of_reviews_reviewer_has_given  386803 non-null  int64  \n",
      " 12  reviewer_score                              386803 non-null  float64\n",
      " 13  tags                                        386803 non-null  object \n",
      " 14  days_since_review                           386803 non-null  object \n",
      " 15  lat                                         384355 non-null  float64\n",
      " 16  lng                                         384355 non-null  float64\n",
      "dtypes: float64(4), int64(5), object(8)\n",
      "memory usage: 50.2+ MB\n"
     ]
    }
   ],
   "source": [
    "df_train.info()"
   ]
  },
  {
   "cell_type": "code",
   "execution_count": 101,
   "id": "eff9e899",
   "metadata": {
    "execution": {
     "iopub.execute_input": "2022-02-08T19:14:34.040534Z",
     "iopub.status.busy": "2022-02-08T19:14:34.039607Z",
     "iopub.status.idle": "2022-02-08T19:14:34.067200Z",
     "shell.execute_reply": "2022-02-08T19:14:34.067646Z",
     "shell.execute_reply.started": "2022-02-08T18:44:33.295852Z"
    },
    "papermill": {
     "duration": 0.060301,
     "end_time": "2022-02-08T19:14:34.067848",
     "exception": false,
     "start_time": "2022-02-08T19:14:34.007547",
     "status": "completed"
    },
    "tags": []
   },
   "outputs": [
    {
     "data": {
      "text/html": [
       "<div>\n",
       "<style scoped>\n",
       "    .dataframe tbody tr th:only-of-type {\n",
       "        vertical-align: middle;\n",
       "    }\n",
       "\n",
       "    .dataframe tbody tr th {\n",
       "        vertical-align: top;\n",
       "    }\n",
       "\n",
       "    .dataframe thead th {\n",
       "        text-align: right;\n",
       "    }\n",
       "</style>\n",
       "<table border=\"1\" class=\"dataframe\">\n",
       "  <thead>\n",
       "    <tr style=\"text-align: right;\">\n",
       "      <th></th>\n",
       "      <th>hotel_address</th>\n",
       "      <th>additional_number_of_scoring</th>\n",
       "      <th>review_date</th>\n",
       "      <th>average_score</th>\n",
       "      <th>hotel_name</th>\n",
       "      <th>reviewer_nationality</th>\n",
       "      <th>negative_review</th>\n",
       "      <th>review_total_negative_word_counts</th>\n",
       "      <th>total_number_of_reviews</th>\n",
       "      <th>positive_review</th>\n",
       "      <th>review_total_positive_word_counts</th>\n",
       "      <th>total_number_of_reviews_reviewer_has_given</th>\n",
       "      <th>reviewer_score</th>\n",
       "      <th>tags</th>\n",
       "      <th>days_since_review</th>\n",
       "      <th>lat</th>\n",
       "      <th>lng</th>\n",
       "    </tr>\n",
       "  </thead>\n",
       "  <tbody>\n",
       "    <tr>\n",
       "      <th>0</th>\n",
       "      <td>Stratton Street Mayfair Westminster Borough Lo...</td>\n",
       "      <td>581</td>\n",
       "      <td>2/19/2016</td>\n",
       "      <td>8.4</td>\n",
       "      <td>The May Fair Hotel</td>\n",
       "      <td>United Kingdom</td>\n",
       "      <td>Leaving</td>\n",
       "      <td>3</td>\n",
       "      <td>1994</td>\n",
       "      <td>staff were amazing</td>\n",
       "      <td>4</td>\n",
       "      <td>7</td>\n",
       "      <td>10.0</td>\n",
       "      <td>[' Leisure trip ', ' Couple ', ' Studio Suite ...</td>\n",
       "      <td>531 day</td>\n",
       "      <td>51.507894</td>\n",
       "      <td>-0.143671</td>\n",
       "    </tr>\n",
       "    <tr>\n",
       "      <th>1</th>\n",
       "      <td>130 134 Southampton Row Camden London WC1B 5AF...</td>\n",
       "      <td>299</td>\n",
       "      <td>1/12/2017</td>\n",
       "      <td>8.3</td>\n",
       "      <td>Mercure London Bloomsbury Hotel</td>\n",
       "      <td>United Kingdom</td>\n",
       "      <td>poor breakfast</td>\n",
       "      <td>3</td>\n",
       "      <td>1361</td>\n",
       "      <td>location</td>\n",
       "      <td>2</td>\n",
       "      <td>14</td>\n",
       "      <td>6.3</td>\n",
       "      <td>[' Business trip ', ' Couple ', ' Standard Dou...</td>\n",
       "      <td>203 day</td>\n",
       "      <td>51.521009</td>\n",
       "      <td>-0.123097</td>\n",
       "    </tr>\n",
       "  </tbody>\n",
       "</table>\n",
       "</div>"
      ],
      "text/plain": [
       "                                       hotel_address  \\\n",
       "0  Stratton Street Mayfair Westminster Borough Lo...   \n",
       "1  130 134 Southampton Row Camden London WC1B 5AF...   \n",
       "\n",
       "   additional_number_of_scoring review_date  average_score  \\\n",
       "0                           581   2/19/2016            8.4   \n",
       "1                           299   1/12/2017            8.3   \n",
       "\n",
       "                        hotel_name reviewer_nationality  negative_review  \\\n",
       "0               The May Fair Hotel      United Kingdom          Leaving    \n",
       "1  Mercure London Bloomsbury Hotel      United Kingdom    poor breakfast   \n",
       "\n",
       "   review_total_negative_word_counts  total_number_of_reviews  \\\n",
       "0                                  3                     1994   \n",
       "1                                  3                     1361   \n",
       "\n",
       "      positive_review  review_total_positive_word_counts  \\\n",
       "0  staff were amazing                                  4   \n",
       "1            location                                  2   \n",
       "\n",
       "   total_number_of_reviews_reviewer_has_given  reviewer_score  \\\n",
       "0                                           7            10.0   \n",
       "1                                          14             6.3   \n",
       "\n",
       "                                                tags days_since_review  \\\n",
       "0  [' Leisure trip ', ' Couple ', ' Studio Suite ...           531 day   \n",
       "1  [' Business trip ', ' Couple ', ' Standard Dou...           203 day   \n",
       "\n",
       "         lat       lng  \n",
       "0  51.507894 -0.143671  \n",
       "1  51.521009 -0.123097  "
      ]
     },
     "execution_count": 101,
     "metadata": {},
     "output_type": "execute_result"
    }
   ],
   "source": [
    "df_train.head(2)"
   ]
  },
  {
   "cell_type": "code",
   "execution_count": 102,
   "id": "f2a61b14",
   "metadata": {
    "execution": {
     "iopub.execute_input": "2022-02-08T19:14:34.129923Z",
     "iopub.status.busy": "2022-02-08T19:14:34.129023Z",
     "iopub.status.idle": "2022-02-08T19:14:34.201112Z",
     "shell.execute_reply": "2022-02-08T19:14:34.201672Z",
     "shell.execute_reply.started": "2022-02-08T18:44:33.315329Z"
    },
    "papermill": {
     "duration": 0.104528,
     "end_time": "2022-02-08T19:14:34.201919",
     "exception": false,
     "start_time": "2022-02-08T19:14:34.097391",
     "status": "completed"
    },
    "tags": []
   },
   "outputs": [
    {
     "name": "stdout",
     "output_type": "stream",
     "text": [
      "<class 'pandas.core.frame.DataFrame'>\n",
      "RangeIndex: 128935 entries, 0 to 128934\n",
      "Data columns (total 16 columns):\n",
      " #   Column                                      Non-Null Count   Dtype  \n",
      "---  ------                                      --------------   -----  \n",
      " 0   hotel_address                               128935 non-null  object \n",
      " 1   additional_number_of_scoring                128935 non-null  int64  \n",
      " 2   review_date                                 128935 non-null  object \n",
      " 3   average_score                               128935 non-null  float64\n",
      " 4   hotel_name                                  128935 non-null  object \n",
      " 5   reviewer_nationality                        128935 non-null  object \n",
      " 6   negative_review                             128935 non-null  object \n",
      " 7   review_total_negative_word_counts           128935 non-null  int64  \n",
      " 8   total_number_of_reviews                     128935 non-null  int64  \n",
      " 9   positive_review                             128935 non-null  object \n",
      " 10  review_total_positive_word_counts           128935 non-null  int64  \n",
      " 11  total_number_of_reviews_reviewer_has_given  128935 non-null  int64  \n",
      " 12  tags                                        128935 non-null  object \n",
      " 13  days_since_review                           128935 non-null  object \n",
      " 14  lat                                         128115 non-null  float64\n",
      " 15  lng                                         128115 non-null  float64\n",
      "dtypes: float64(3), int64(5), object(8)\n",
      "memory usage: 15.7+ MB\n"
     ]
    }
   ],
   "source": [
    "df_test.info()"
   ]
  },
  {
   "cell_type": "code",
   "execution_count": 103,
   "id": "ff071ddd",
   "metadata": {
    "execution": {
     "iopub.execute_input": "2022-02-08T19:14:34.253561Z",
     "iopub.status.busy": "2022-02-08T19:14:34.252940Z",
     "iopub.status.idle": "2022-02-08T19:14:34.267949Z",
     "shell.execute_reply": "2022-02-08T19:14:34.268388Z",
     "shell.execute_reply.started": "2022-02-08T18:44:33.439055Z"
    },
    "papermill": {
     "duration": 0.041895,
     "end_time": "2022-02-08T19:14:34.268570",
     "exception": false,
     "start_time": "2022-02-08T19:14:34.226675",
     "status": "completed"
    },
    "tags": []
   },
   "outputs": [
    {
     "data": {
      "text/html": [
       "<div>\n",
       "<style scoped>\n",
       "    .dataframe tbody tr th:only-of-type {\n",
       "        vertical-align: middle;\n",
       "    }\n",
       "\n",
       "    .dataframe tbody tr th {\n",
       "        vertical-align: top;\n",
       "    }\n",
       "\n",
       "    .dataframe thead th {\n",
       "        text-align: right;\n",
       "    }\n",
       "</style>\n",
       "<table border=\"1\" class=\"dataframe\">\n",
       "  <thead>\n",
       "    <tr style=\"text-align: right;\">\n",
       "      <th></th>\n",
       "      <th>hotel_address</th>\n",
       "      <th>additional_number_of_scoring</th>\n",
       "      <th>review_date</th>\n",
       "      <th>average_score</th>\n",
       "      <th>hotel_name</th>\n",
       "      <th>reviewer_nationality</th>\n",
       "      <th>negative_review</th>\n",
       "      <th>review_total_negative_word_counts</th>\n",
       "      <th>total_number_of_reviews</th>\n",
       "      <th>positive_review</th>\n",
       "      <th>review_total_positive_word_counts</th>\n",
       "      <th>total_number_of_reviews_reviewer_has_given</th>\n",
       "      <th>tags</th>\n",
       "      <th>days_since_review</th>\n",
       "      <th>lat</th>\n",
       "      <th>lng</th>\n",
       "    </tr>\n",
       "  </thead>\n",
       "  <tbody>\n",
       "    <tr>\n",
       "      <th>0</th>\n",
       "      <td>Via Senigallia 6 20161 Milan Italy</td>\n",
       "      <td>904</td>\n",
       "      <td>7/21/2017</td>\n",
       "      <td>8.1</td>\n",
       "      <td>Hotel Da Vinci</td>\n",
       "      <td>United Kingdom</td>\n",
       "      <td>Would have appreciated a shop in the hotel th...</td>\n",
       "      <td>52</td>\n",
       "      <td>16670</td>\n",
       "      <td>Hotel was great clean friendly staff free bre...</td>\n",
       "      <td>62</td>\n",
       "      <td>1</td>\n",
       "      <td>[' Leisure trip ', ' Couple ', ' Double Room '...</td>\n",
       "      <td>13 days</td>\n",
       "      <td>45.533137</td>\n",
       "      <td>9.171102</td>\n",
       "    </tr>\n",
       "    <tr>\n",
       "      <th>1</th>\n",
       "      <td>Arlandaweg 10 Westpoort 1043 EW Amsterdam Neth...</td>\n",
       "      <td>612</td>\n",
       "      <td>12/12/2016</td>\n",
       "      <td>8.6</td>\n",
       "      <td>Urban Lodge Hotel</td>\n",
       "      <td>Belgium</td>\n",
       "      <td>No tissue paper box was present at the room</td>\n",
       "      <td>10</td>\n",
       "      <td>5018</td>\n",
       "      <td>No Positive</td>\n",
       "      <td>0</td>\n",
       "      <td>7</td>\n",
       "      <td>[' Leisure trip ', ' Group ', ' Triple Room ',...</td>\n",
       "      <td>234 day</td>\n",
       "      <td>52.385649</td>\n",
       "      <td>4.834443</td>\n",
       "    </tr>\n",
       "  </tbody>\n",
       "</table>\n",
       "</div>"
      ],
      "text/plain": [
       "                                       hotel_address  \\\n",
       "0                 Via Senigallia 6 20161 Milan Italy   \n",
       "1  Arlandaweg 10 Westpoort 1043 EW Amsterdam Neth...   \n",
       "\n",
       "   additional_number_of_scoring review_date  average_score         hotel_name  \\\n",
       "0                           904   7/21/2017            8.1     Hotel Da Vinci   \n",
       "1                           612  12/12/2016            8.6  Urban Lodge Hotel   \n",
       "\n",
       "  reviewer_nationality                                    negative_review  \\\n",
       "0      United Kingdom    Would have appreciated a shop in the hotel th...   \n",
       "1             Belgium         No tissue paper box was present at the room   \n",
       "\n",
       "   review_total_negative_word_counts  total_number_of_reviews  \\\n",
       "0                                 52                    16670   \n",
       "1                                 10                     5018   \n",
       "\n",
       "                                     positive_review  \\\n",
       "0   Hotel was great clean friendly staff free bre...   \n",
       "1                                        No Positive   \n",
       "\n",
       "   review_total_positive_word_counts  \\\n",
       "0                                 62   \n",
       "1                                  0   \n",
       "\n",
       "   total_number_of_reviews_reviewer_has_given  \\\n",
       "0                                           1   \n",
       "1                                           7   \n",
       "\n",
       "                                                tags days_since_review  \\\n",
       "0  [' Leisure trip ', ' Couple ', ' Double Room '...           13 days   \n",
       "1  [' Leisure trip ', ' Group ', ' Triple Room ',...           234 day   \n",
       "\n",
       "         lat       lng  \n",
       "0  45.533137  9.171102  \n",
       "1  52.385649  4.834443  "
      ]
     },
     "execution_count": 103,
     "metadata": {},
     "output_type": "execute_result"
    }
   ],
   "source": [
    "df_test.head(2)"
   ]
  },
  {
   "cell_type": "code",
   "execution_count": 104,
   "id": "a42b8ffe",
   "metadata": {
    "execution": {
     "iopub.execute_input": "2022-02-08T19:14:34.316935Z",
     "iopub.status.busy": "2022-02-08T19:14:34.316327Z",
     "iopub.status.idle": "2022-02-08T19:14:34.323236Z",
     "shell.execute_reply": "2022-02-08T19:14:34.323678Z",
     "shell.execute_reply.started": "2022-02-08T18:44:33.456558Z"
    },
    "papermill": {
     "duration": 0.032568,
     "end_time": "2022-02-08T19:14:34.323861",
     "exception": false,
     "start_time": "2022-02-08T19:14:34.291293",
     "status": "completed"
    },
    "tags": []
   },
   "outputs": [
    {
     "data": {
      "text/html": [
       "<div>\n",
       "<style scoped>\n",
       "    .dataframe tbody tr th:only-of-type {\n",
       "        vertical-align: middle;\n",
       "    }\n",
       "\n",
       "    .dataframe tbody tr th {\n",
       "        vertical-align: top;\n",
       "    }\n",
       "\n",
       "    .dataframe thead th {\n",
       "        text-align: right;\n",
       "    }\n",
       "</style>\n",
       "<table border=\"1\" class=\"dataframe\">\n",
       "  <thead>\n",
       "    <tr style=\"text-align: right;\">\n",
       "      <th></th>\n",
       "      <th>reviewer_score</th>\n",
       "      <th>id</th>\n",
       "    </tr>\n",
       "  </thead>\n",
       "  <tbody>\n",
       "    <tr>\n",
       "      <th>0</th>\n",
       "      <td>1</td>\n",
       "      <td>488440</td>\n",
       "    </tr>\n",
       "    <tr>\n",
       "      <th>1</th>\n",
       "      <td>10</td>\n",
       "      <td>274649</td>\n",
       "    </tr>\n",
       "  </tbody>\n",
       "</table>\n",
       "</div>"
      ],
      "text/plain": [
       "   reviewer_score      id\n",
       "0               1  488440\n",
       "1              10  274649"
      ]
     },
     "execution_count": 104,
     "metadata": {},
     "output_type": "execute_result"
    }
   ],
   "source": [
    "sample_submission.head(2)"
   ]
  },
  {
   "cell_type": "code",
   "execution_count": 105,
   "id": "f00eb590",
   "metadata": {
    "execution": {
     "iopub.execute_input": "2022-02-08T19:14:34.372564Z",
     "iopub.status.busy": "2022-02-08T19:14:34.371990Z",
     "iopub.status.idle": "2022-02-08T19:14:34.382350Z",
     "shell.execute_reply": "2022-02-08T19:14:34.382803Z",
     "shell.execute_reply.started": "2022-02-08T18:44:33.464464Z"
    },
    "papermill": {
     "duration": 0.036517,
     "end_time": "2022-02-08T19:14:34.382984",
     "exception": false,
     "start_time": "2022-02-08T19:14:34.346467",
     "status": "completed"
    },
    "tags": []
   },
   "outputs": [
    {
     "name": "stdout",
     "output_type": "stream",
     "text": [
      "<class 'pandas.core.frame.DataFrame'>\n",
      "RangeIndex: 128935 entries, 0 to 128934\n",
      "Data columns (total 2 columns):\n",
      " #   Column          Non-Null Count   Dtype\n",
      "---  ------          --------------   -----\n",
      " 0   reviewer_score  128935 non-null  int64\n",
      " 1   id              128935 non-null  int64\n",
      "dtypes: int64(2)\n",
      "memory usage: 2.0 MB\n"
     ]
    }
   ],
   "source": [
    "sample_submission.info()"
   ]
  },
  {
   "cell_type": "code",
   "execution_count": 106,
   "id": "82718822",
   "metadata": {
    "execution": {
     "iopub.execute_input": "2022-02-08T19:14:34.432723Z",
     "iopub.status.busy": "2022-02-08T19:14:34.432113Z",
     "iopub.status.idle": "2022-02-08T19:14:34.920690Z",
     "shell.execute_reply": "2022-02-08T19:14:34.920082Z",
     "shell.execute_reply.started": "2022-02-08T18:44:33.480147Z"
    },
    "papermill": {
     "duration": 0.514636,
     "end_time": "2022-02-08T19:14:34.920844",
     "exception": false,
     "start_time": "2022-02-08T19:14:34.406208",
     "status": "completed"
    },
    "tags": []
   },
   "outputs": [
    {
     "name": "stderr",
     "output_type": "stream",
     "text": [
      "C:\\Users\\admin\\AppData\\Local\\Temp\\ipykernel_10340\\447817491.py:6: FutureWarning: The frame.append method is deprecated and will be removed from pandas in a future version. Use pandas.concat instead.\n",
      "  data = df_test.append(df_train, sort=False).reset_index(drop=True) # объединяем\n"
     ]
    }
   ],
   "source": [
    "# ВАЖНО! дря корректной обработки признаков объединяем трейн и тест в один датасет\n",
    "df_train['sample'] = 1 # помечаем где у нас трейн\n",
    "df_test['sample'] = 0 # помечаем где у нас тест\n",
    "df_test['reviewer_score'] = 0 # в тесте у нас нет значения reviewer_score, мы его должны предсказать, по этому пока просто заполняем нулями\n",
    "\n",
    "data = df_test.append(df_train, sort=False).reset_index(drop=True) # объединяем"
   ]
  },
  {
   "cell_type": "code",
   "execution_count": 107,
   "id": "9c492391",
   "metadata": {
    "execution": {
     "iopub.execute_input": "2022-02-08T19:14:34.973792Z",
     "iopub.status.busy": "2022-02-08T19:14:34.973193Z",
     "iopub.status.idle": "2022-02-08T19:14:35.186288Z",
     "shell.execute_reply": "2022-02-08T19:14:35.185728Z",
     "shell.execute_reply.started": "2022-02-08T18:44:34.015455Z"
    },
    "papermill": {
     "duration": 0.242101,
     "end_time": "2022-02-08T19:14:35.186448",
     "exception": false,
     "start_time": "2022-02-08T19:14:34.944347",
     "status": "completed"
    },
    "tags": []
   },
   "outputs": [
    {
     "name": "stderr",
     "output_type": "stream",
     "text": [
      "C:\\Users\\admin\\AppData\\Local\\Temp\\ipykernel_10340\\905238569.py:2: FutureWarning: The default value of numeric_only in DataFrame.corr is deprecated. In a future version, it will default to False. Select only valid columns or specify the value of numeric_only to silence this warning.\n",
      "  sns.heatmap(data.corr(), annot=True)\n"
     ]
    },
    {
     "data": {
      "text/plain": [
       "<AxesSubplot: >"
      ]
     },
     "execution_count": 107,
     "metadata": {},
     "output_type": "execute_result"
    },
    {
     "data": {
      "image/png": "[encoded data removed]",
      "text/plain": [
       "<Figure size 1000x1000 with 2 Axes>"
      ]
     },
     "metadata": {},
     "output_type": "display_data"
    }
   ],
   "source": [
    "# data.info()\n",
    "sns.heatmap(data.corr(), annot=True)"
   ]
  },
  {
   "cell_type": "code",
   "execution_count": 108,
   "id": "88394ff1",
   "metadata": {},
   "outputs": [
    {
     "name": "stdout",
     "output_type": "stream",
     "text": [
      "(3268, 18) (3268, 18) (3268, 18) (3268, 2)\n",
      "(17,)\n",
      "                                    hotel_name  \\\n",
      "35                               Hotel Atlanta   \n",
      "293                              Hotel Atlanta   \n",
      "476                  City Hotel Deutschmeister   \n",
      "526               Holiday Inn Paris Montmartre   \n",
      "569        Fleming s Selection Hotel Wien City   \n",
      "...                                        ...   \n",
      "515027                      Hotel City Central   \n",
      "515400                      Hotel City Central   \n",
      "515439  Maison Albar Hotel Paris Op ra Diamond   \n",
      "515637                      Hotel City Central   \n",
      "515699                           Hotel Atlanta   \n",
      "\n",
      "                                            hotel_address  \n",
      "35      W hringer Stra e 33 35 09 Alsergrund 1090 Vien...  \n",
      "293     W hringer Stra e 33 35 09 Alsergrund 1090 Vien...  \n",
      "476     Gr nentorgasse 30 09 Alsergrund 1090 Vienna Au...  \n",
      "526          23 Rue Damr mont 18th arr 75018 Paris France  \n",
      "569     Josefst dter Stra e 10 12 08 Josefstadt 1080 V...  \n",
      "...                                                   ...  \n",
      "515027  Taborstra e 8 A 02 Leopoldstadt 1020 Vienna Au...  \n",
      "515400  Taborstra e 8 A 02 Leopoldstadt 1020 Vienna Au...  \n",
      "515439   4 rue de la P pini re 8th arr 75008 Paris France  \n",
      "515637  Taborstra e 8 A 02 Leopoldstadt 1020 Vienna Au...  \n",
      "515699  W hringer Stra e 33 35 09 Alsergrund 1090 Vien...  \n",
      "\n",
      "[3268 rows x 2 columns]\n"
     ]
    }
   ],
   "source": [
    "where1 = data['lat'].isnull()\n",
    "where2 = data.lat \n",
    "\n",
    "data21 = data[data.lat.isnull() & data.lng.isnull()]\n",
    "data22 = data[data.lat.isnull()]\n",
    "data23 = data[data.lng.isnull()]\n",
    "data24 = data[data.lat.isnull() & data.lng.isnull()][['hotel_name', 'hotel_address']]\n",
    "print(data21.shape, data22.shape, data23.shape, data24.shape)\n",
    "print(data24['hotel_name'].unique().shape)\n",
    "\n",
    "# filter_name = ['hotel_address'].iloc[0]\n",
    "# print(filter_name)\n",
    "print(data24)\n",
    "\n",
    "# where3 = (data['hotel_address'] == filter_name)\n",
    "# data2 = data[where3]\n",
    "# data.shape, data2.shape"
   ]
  },
  {
   "cell_type": "code",
   "execution_count": 109,
   "id": "95751530",
   "metadata": {},
   "outputs": [
    {
     "data": {
      "text/plain": [
       "0    [leisure trip, couple, double room, stayed 2 n...\n",
       "1    [leisure trip, group, triple room, stayed 1 ni...\n",
       "2    [business trip, solo traveler, twin room, stay...\n",
       "3    [leisure trip, couple, ambassador junior suite...\n",
       "4    [business trip, solo traveler, classic double ...\n",
       "Name: tags2, dtype: object"
      ]
     },
     "execution_count": 109,
     "metadata": {},
     "output_type": "execute_result"
    }
   ],
   "source": [
    "# data['tags2'] = data['tags'].apply(lambda ii : [\"'\" + i.strip().lower() + \"'\" for i in eval(ii)])\n",
    "data['tags2'] = data['tags'].apply(lambda ii : [i.strip().lower() for i in eval(ii)])\n",
    "data['tags2'].head()"
   ]
  },
  {
   "cell_type": "code",
   "execution_count": 110,
   "id": "02cbd342",
   "metadata": {},
   "outputs": [
    {
     "name": "stdout",
     "output_type": "stream",
     "text": [
      "2421\n"
     ]
    }
   ],
   "source": [
    "dict_count_tags = {}\n",
    "\n",
    "def count_tags(tags_string):\n",
    "    # print(tags_string)\n",
    "    # tags = eval(tags_string)\n",
    "    for tag in tags_string:\n",
    "        if tag not in dict_count_tags:\n",
    "            dict_count_tags[tag] = 0\n",
    "        dict_count_tags[tag] += 1\n",
    "\n",
    "data['tags2'].apply(count_tags)\n",
    "print(len(dict_count_tags))"
   ]
  },
  {
   "cell_type": "code",
   "execution_count": 111,
   "id": "0c1e2a86",
   "metadata": {},
   "outputs": [],
   "source": [
    "list_count_tags = []\n",
    "\n",
    "for k, v in dict_count_tags.items():\n",
    "    list_count_tags.append((k,v,))\n",
    "\n",
    "list_count_tags.sort(key=lambda i:i[1])\n",
    "list_count_tags = list_count_tags[::-1]\n",
    "\n",
    "def is_include(value):\n",
    "    pass\n",
    "# 500 - 54m\n",
    "for i in list_count_tags[:500]:\n",
    "    data[i[0]] = data.apply(lambda row: 1 if i[0] in row['tags2'] else 0, axis=1)"
   ]
  },
  {
   "cell_type": "code",
   "execution_count": 112,
   "id": "fd3a634c",
   "metadata": {},
   "outputs": [
    {
     "data": {
      "text/plain": [
       "((515738, 519), ('privilege room with a double bed upper floors', 142))"
      ]
     },
     "execution_count": 112,
     "metadata": {},
     "output_type": "execute_result"
    }
   ],
   "source": [
    "# data[data['deluxe room'] == 1].head()\n",
    "data.shape, list_count_tags[300]"
   ]
  },
  {
   "cell_type": "code",
   "execution_count": 113,
   "id": "f611b9ea",
   "metadata": {},
   "outputs": [],
   "source": [
    "import category_encoders as ce # импорт для работы с кодировщиком\n",
    "bin_encoder = ce.BinaryEncoder(cols=['reviewer_nationality']) # указываем столбец для кодирования\n",
    "reviewer_nationality = bin_encoder.fit_transform(data['reviewer_nationality'])\n",
    "data = pd.concat([data, reviewer_nationality], axis=1)"
   ]
  },
  {
   "cell_type": "code",
   "execution_count": 114,
   "id": "551d5eec",
   "metadata": {},
   "outputs": [],
   "source": [
    "bin_encoder = ce.BinaryEncoder(cols=['days_since_review']) # указываем столбец для кодирования\n",
    "days_since_review = bin_encoder.fit_transform(data['days_since_review'])\n",
    "data = pd.concat([data, days_since_review], axis=1)"
   ]
  },
  {
   "cell_type": "code",
   "execution_count": 115,
   "id": "11e9f5e7",
   "metadata": {},
   "outputs": [],
   "source": [
    "# bin_encoder = ce.BinaryEncoder(cols=['hotel_name']) # указываем столбец для кодирования\n",
    "# hotel_name = bin_encoder.fit_transform(data['hotel_name'])\n",
    "# data = pd.concat([data, hotel_name], axis=1)\n",
    "\n",
    "# bin_encoder = ce.BinaryEncoder(cols=['hotel_address']) # указываем столбец для кодирования\n",
    "# hotel_address = bin_encoder.fit_transform(data['hotel_address'])\n",
    "# data = pd.concat([data, hotel_address], axis=1)"
   ]
  },
  {
   "cell_type": "code",
   "execution_count": 116,
   "id": "15b9af25",
   "metadata": {
    "execution": {
     "iopub.execute_input": "2022-02-08T19:14:35.237845Z",
     "iopub.status.busy": "2022-02-08T19:14:35.236834Z",
     "iopub.status.idle": "2022-02-08T19:14:35.259821Z",
     "shell.execute_reply": "2022-02-08T19:14:35.259247Z",
     "shell.execute_reply.started": "2022-02-08T18:44:34.479202Z"
    },
    "papermill": {
     "duration": 0.04969,
     "end_time": "2022-02-08T19:14:35.259972",
     "exception": false,
     "start_time": "2022-02-08T19:14:35.210282",
     "status": "completed"
    },
    "tags": []
   },
   "outputs": [],
   "source": [
    "data['lat'] = data['lat'].fillna(0, inplace=True)\n",
    "data['lng'] = data['lng'].fillna(0, inplace=True)"
   ]
  },
  {
   "cell_type": "code",
   "execution_count": 117,
   "id": "76d2d83c",
   "metadata": {},
   "outputs": [],
   "source": [
    "data['review_date'] = pd.to_datetime(data['review_date'])\n",
    "# data['review_date'] = data['review_date'].dt.date"
   ]
  },
  {
   "cell_type": "code",
   "execution_count": 118,
   "id": "8e21bb17",
   "metadata": {},
   "outputs": [
    {
     "name": "stdout",
     "output_type": "stream",
     "text": [
      "2015-08-04 00:00:00 2017-08-03 00:00:00\n",
      "<class 'pandas.core.frame.DataFrame'>\n",
      "RangeIndex: 515738 entries, 0 to 515737\n",
      "Columns: 539 entries, hotel_address to review_date_quarter\n",
      "dtypes: datetime64[ns](1), float64(2), int64(526), object(10)\n",
      "memory usage: 2.1+ GB\n"
     ]
    },
    {
     "name": "stderr",
     "output_type": "stream",
     "text": [
      "C:\\Users\\admin\\AppData\\Local\\Temp\\ipykernel_10340\\18529396.py:2: FutureWarning: Treating datetime data as categorical rather than numeric in `.describe` is deprecated and will be removed in a future version of pandas. Specify `datetime_is_numeric=True` to silence this warning and adopt the future behavior now.\n",
      "  data['review_date'].describe()\n"
     ]
    }
   ],
   "source": [
    "print(data['review_date'].min(), data['review_date'].max())\n",
    "data['review_date'].describe()\n",
    "# data['review_date_day'] = data['review_date'].dt.day\n",
    "data['review_date_day_of_week'] = data['review_date'].dt.day_of_week\n",
    "data['review_date_quarter'] = data['review_date'].dt.quarter\n",
    "data.info()"
   ]
  },
  {
   "cell_type": "code",
   "execution_count": 119,
   "id": "92f777da",
   "metadata": {
    "execution": {
     "iopub.execute_input": "2022-02-08T19:14:35.319524Z",
     "iopub.status.busy": "2022-02-08T19:14:35.318915Z",
     "iopub.status.idle": "2022-02-08T19:14:36.185657Z",
     "shell.execute_reply": "2022-02-08T19:14:36.186104Z",
     "shell.execute_reply.started": "2022-02-08T18:44:34.500478Z"
    },
    "papermill": {
     "duration": 0.902939,
     "end_time": "2022-02-08T19:14:36.186284",
     "exception": false,
     "start_time": "2022-02-08T19:14:35.283345",
     "status": "completed"
    },
    "tags": []
   },
   "outputs": [
    {
     "data": {
      "text/plain": [
       "hotel_address                   1493\n",
       "additional_number_of_scoring     480\n",
       "review_date                      731\n",
       "average_score                     34\n",
       "hotel_name                      1492\n",
       "                                ... \n",
       "days_since_review_7                2\n",
       "days_since_review_8                2\n",
       "days_since_review_9                2\n",
       "review_date_day_of_week            7\n",
       "review_date_quarter                4\n",
       "Length: 538, dtype: int64"
      ]
     },
     "execution_count": 119,
     "metadata": {},
     "output_type": "execute_result"
    }
   ],
   "source": [
    "data.drop(columns=['tags2'], axis=1, inplace=True)\n",
    "data.nunique(dropna=False)"
   ]
  },
  {
   "cell_type": "code",
   "execution_count": 120,
   "id": "ac614095",
   "metadata": {
    "execution": {
     "iopub.execute_input": "2022-02-08T19:14:36.237918Z",
     "iopub.status.busy": "2022-02-08T19:14:36.237252Z",
     "iopub.status.idle": "2022-02-08T19:14:37.275035Z",
     "shell.execute_reply": "2022-02-08T19:14:37.275534Z",
     "shell.execute_reply.started": "2022-02-08T18:44:35.438981Z"
    },
    "papermill": {
     "duration": 1.065096,
     "end_time": "2022-02-08T19:14:37.275706",
     "exception": false,
     "start_time": "2022-02-08T19:14:36.210610",
     "status": "completed"
    },
    "tags": []
   },
   "outputs": [],
   "source": [
    "# plt.rcParams['figure.figsize'] = (15,10)\n",
    "# sns.heatmap(data.drop(['sample'], axis=1).corr(), annot=True)"
   ]
  },
  {
   "cell_type": "code",
   "execution_count": 121,
   "id": "8e845f5c",
   "metadata": {
    "execution": {
     "iopub.execute_input": "2022-02-08T19:14:37.365016Z",
     "iopub.status.busy": "2022-02-08T19:14:37.364338Z",
     "iopub.status.idle": "2022-02-08T19:14:37.367440Z",
     "shell.execute_reply": "2022-02-08T19:14:37.366949Z",
     "shell.execute_reply.started": "2022-02-08T18:44:36.454378Z"
    },
    "papermill": {
     "duration": 0.064293,
     "end_time": "2022-02-08T19:14:37.367575",
     "exception": false,
     "start_time": "2022-02-08T19:14:37.303282",
     "status": "completed"
    },
    "tags": []
   },
   "outputs": [],
   "source": [
    "# убираем признаки которые еще не успели обработать, \n",
    "# модель на признаках с dtypes \"object\" обучаться не будет, просто выберим их и удалим\n",
    "object_columns = [s for s in data.columns if data[s].dtypes == 'object' or s in ['review_date', 'additional_number_of_scoring']]\n",
    "#print(object_columns)\n",
    "data.drop(object_columns, axis = 1, inplace=True)\n",
    "#data.info()"
   ]
  },
  {
   "cell_type": "code",
   "execution_count": 122,
   "id": "e396cfc5",
   "metadata": {
    "execution": {
     "iopub.execute_input": "2022-02-08T19:14:37.429548Z",
     "iopub.status.busy": "2022-02-08T19:14:37.428899Z",
     "iopub.status.idle": "2022-02-08T19:14:37.446518Z",
     "shell.execute_reply": "2022-02-08T19:14:37.445920Z",
     "shell.execute_reply.started": "2022-02-08T18:44:36.492165Z"
    },
    "papermill": {
     "duration": 0.050346,
     "end_time": "2022-02-08T19:14:37.446656",
     "exception": false,
     "start_time": "2022-02-08T19:14:37.396310",
     "status": "completed"
    },
    "tags": []
   },
   "outputs": [
    {
     "name": "stdout",
     "output_type": "stream",
     "text": [
      "<class 'pandas.core.frame.DataFrame'>\n",
      "RangeIndex: 515738 entries, 0 to 515737\n",
      "Columns: 527 entries, average_score to review_date_quarter\n",
      "dtypes: float64(2), int64(525)\n",
      "memory usage: 2.0 GB\n"
     ]
    }
   ],
   "source": [
    "data.info()"
   ]
  },
  {
   "cell_type": "code",
   "execution_count": 123,
   "id": "12888fe2",
   "metadata": {},
   "outputs": [
    {
     "name": "stdout",
     "output_type": "stream",
     "text": [
      "515738 128935 386803 True\n"
     ]
    }
   ],
   "source": [
    "print(data.shape[0], data.query('sample == 0').shape[0], data.query('sample == 1').shape[0], data.shape[0] == data.query('sample == 0').shape[0] + data.query('sample == 1').shape[0])"
   ]
  },
  {
   "cell_type": "code",
   "execution_count": 124,
   "id": "69e46903",
   "metadata": {
    "execution": {
     "iopub.execute_input": "2022-02-08T19:14:37.505890Z",
     "iopub.status.busy": "2022-02-08T19:14:37.505020Z",
     "iopub.status.idle": "2022-02-08T19:14:37.548588Z",
     "shell.execute_reply": "2022-02-08T19:14:37.549135Z",
     "shell.execute_reply.started": "2022-02-08T18:44:36.519234Z"
    },
    "papermill": {
     "duration": 0.076208,
     "end_time": "2022-02-08T19:14:37.549330",
     "exception": false,
     "start_time": "2022-02-08T19:14:37.473122",
     "status": "completed"
    },
    "tags": []
   },
   "outputs": [],
   "source": [
    "# Теперь выделим тестовую часть\n",
    "train_data = data.query('sample == 1').drop(['sample'], axis=1)\n",
    "test_data = data.query('sample == 0').drop(['sample'], axis=1)\n",
    "\n",
    "y = train_data.reviewer_score.values            # наш таргет\n",
    "X = train_data.drop(['reviewer_score'], axis=1)"
   ]
  },
  {
   "cell_type": "code",
   "execution_count": 125,
   "id": "5045cc9a",
   "metadata": {
    "execution": {
     "iopub.execute_input": "2022-02-08T19:14:37.610632Z",
     "iopub.status.busy": "2022-02-08T19:14:37.607245Z",
     "iopub.status.idle": "2022-02-08T19:14:37.664876Z",
     "shell.execute_reply": "2022-02-08T19:14:37.664240Z",
     "shell.execute_reply.started": "2022-02-08T18:44:36.564379Z"
    },
    "papermill": {
     "duration": 0.089229,
     "end_time": "2022-02-08T19:14:37.665021",
     "exception": false,
     "start_time": "2022-02-08T19:14:37.575792",
     "status": "completed"
    },
    "tags": []
   },
   "outputs": [],
   "source": [
    "# Воспользуемся специальной функцие train_test_split для разбивки тестовых данных\n",
    "# выделим 20% данных на валидацию (параметр test_size)\n",
    "X_train, X_test, y_train, y_test = train_test_split(X, y, test_size=0.2, random_state=RANDOM_SEED)"
   ]
  },
  {
   "cell_type": "code",
   "execution_count": 126,
   "id": "3da6a0b4",
   "metadata": {
    "execution": {
     "iopub.execute_input": "2022-02-08T19:14:37.724787Z",
     "iopub.status.busy": "2022-02-08T19:14:37.724146Z",
     "iopub.status.idle": "2022-02-08T19:14:37.726536Z",
     "shell.execute_reply": "2022-02-08T19:14:37.726982Z",
     "shell.execute_reply.started": "2022-02-08T18:44:36.614037Z"
    },
    "papermill": {
     "duration": 0.035799,
     "end_time": "2022-02-08T19:14:37.727149",
     "exception": false,
     "start_time": "2022-02-08T19:14:37.691350",
     "status": "completed"
    },
    "tags": []
   },
   "outputs": [
    {
     "data": {
      "text/plain": [
       "((128935, 526), (386803, 526), (386803, 525), (309442, 525), (77361, 525))"
      ]
     },
     "execution_count": 126,
     "metadata": {},
     "output_type": "execute_result"
    }
   ],
   "source": [
    "# проверяем\n",
    "test_data.shape, train_data.shape, X.shape, X_train.shape, X_test.shape"
   ]
  },
  {
   "cell_type": "code",
   "execution_count": 127,
   "id": "b56e5c7f",
   "metadata": {
    "execution": {
     "iopub.execute_input": "2022-02-08T19:14:37.784550Z",
     "iopub.status.busy": "2022-02-08T19:14:37.783925Z",
     "iopub.status.idle": "2022-02-08T19:14:37.975610Z",
     "shell.execute_reply": "2022-02-08T19:14:37.975066Z",
     "shell.execute_reply.started": "2022-02-08T18:44:36.620894Z"
    },
    "papermill": {
     "duration": 0.221772,
     "end_time": "2022-02-08T19:14:37.975773",
     "exception": false,
     "start_time": "2022-02-08T19:14:37.754001",
     "status": "completed"
    },
    "tags": []
   },
   "outputs": [],
   "source": [
    "# Импортируем необходимые библиотеки:\n",
    "from sklearn.ensemble import RandomForestRegressor # инструмент для создания и обучения модели\n",
    "from sklearn import metrics # инструменты для оценки точности модели"
   ]
  },
  {
   "cell_type": "code",
   "execution_count": 128,
   "id": "cc67dfef",
   "metadata": {
    "execution": {
     "iopub.execute_input": "2022-02-08T19:14:38.033380Z",
     "iopub.status.busy": "2022-02-08T19:14:38.032424Z",
     "iopub.status.idle": "2022-02-08T19:14:38.036262Z",
     "shell.execute_reply": "2022-02-08T19:14:38.036790Z",
     "shell.execute_reply.started": "2022-02-08T18:44:36.631597Z"
    },
    "papermill": {
     "duration": 0.034367,
     "end_time": "2022-02-08T19:14:38.036955",
     "exception": false,
     "start_time": "2022-02-08T19:14:38.002588",
     "status": "completed"
    },
    "tags": []
   },
   "outputs": [],
   "source": [
    "# Создаём модель (НАСТРОЙКИ НЕ ТРОГАЕМ)\n",
    "model = RandomForestRegressor(n_estimators=100, verbose=1, n_jobs=-1, random_state=RANDOM_SEED)"
   ]
  },
  {
   "cell_type": "code",
   "execution_count": 129,
   "id": "38c6100a",
   "metadata": {
    "execution": {
     "iopub.execute_input": "2022-02-08T19:14:38.100230Z",
     "iopub.status.busy": "2022-02-08T19:14:38.098907Z",
     "iopub.status.idle": "2022-02-08T19:15:29.981505Z",
     "shell.execute_reply": "2022-02-08T19:15:29.982012Z",
     "shell.execute_reply.started": "2022-02-08T18:44:36.685783Z"
    },
    "papermill": {
     "duration": 51.917696,
     "end_time": "2022-02-08T19:15:29.982201",
     "exception": false,
     "start_time": "2022-02-08T19:14:38.064505",
     "status": "completed"
    },
    "tags": []
   },
   "outputs": [
    {
     "name": "stderr",
     "output_type": "stream",
     "text": [
      "[Parallel(n_jobs=-1)]: Using backend ThreadingBackend with 20 concurrent workers.\n",
      "[Parallel(n_jobs=-1)]: Done  10 tasks      | elapsed:  1.2min\n",
      "[Parallel(n_jobs=-1)]: Done 100 out of 100 | elapsed:  5.4min finished\n",
      "[Parallel(n_jobs=20)]: Using backend ThreadingBackend with 20 concurrent workers.\n",
      "[Parallel(n_jobs=20)]: Done  10 tasks      | elapsed:    0.0s\n",
      "[Parallel(n_jobs=20)]: Done 100 out of 100 | elapsed:    0.5s finished\n"
     ]
    }
   ],
   "source": [
    "# Обучаем модель на тестовом наборе данных\n",
    "model.fit(X_train, y_train)\n",
    "\n",
    "# Используем обученную модель для предсказания рейтинга ресторанов в тестовой выборке.\n",
    "# Предсказанные значения записываем в переменную y_pred\n",
    "y_pred = model.predict(X_test)\n",
    "# 5m 23s"
   ]
  },
  {
   "cell_type": "code",
   "execution_count": 130,
   "id": "0bfbd9da",
   "metadata": {
    "execution": {
     "iopub.execute_input": "2022-02-08T19:15:30.047401Z",
     "iopub.status.busy": "2022-02-08T19:15:30.045169Z",
     "iopub.status.idle": "2022-02-08T19:15:30.054658Z",
     "shell.execute_reply": "2022-02-08T19:15:30.053627Z",
     "shell.execute_reply.started": "2022-02-08T18:45:41.407883Z"
    },
    "papermill": {
     "duration": 0.043029,
     "end_time": "2022-02-08T19:15:30.054903",
     "exception": false,
     "start_time": "2022-02-08T19:15:30.011874",
     "status": "completed"
    },
    "tags": []
   },
   "outputs": [
    {
     "name": "stdout",
     "output_type": "stream",
     "text": [
      "MAPE: 0.9284403507119681\n"
     ]
    }
   ],
   "source": [
    "# Сравниваем предсказанные значения (y_pred) с реальными (y_test), и смотрим насколько они в среднем отличаются\n",
    "# Метрика называется Mean Absolute Error (MAE) и показывает среднее отклонение предсказанных значений от фактических.\n",
    "# 0.9375288038577327\n",
    "# 0.9367014408638286 13.57772\n",
    "# 0.9341466645245755 13.57713\n",
    "# 0.9319801179504126 13.56713\n",
    "# 0.9357929727726715\n",
    "# 0.9308493926741724 13.57073\n",
    "0.9284403507119681 13.56394\n",
    "print('MAPE:', metrics.mean_absolute_error(y_test, y_pred))"
   ]
  },
  {
   "cell_type": "code",
   "execution_count": 131,
   "id": "db88cbfc",
   "metadata": {
    "execution": {
     "iopub.execute_input": "2022-02-08T19:15:30.118909Z",
     "iopub.status.busy": "2022-02-08T19:15:30.118206Z",
     "iopub.status.idle": "2022-02-08T19:15:30.566895Z",
     "shell.execute_reply": "2022-02-08T19:15:30.567333Z",
     "shell.execute_reply.started": "2022-02-08T18:45:41.416087Z"
    },
    "papermill": {
     "duration": 0.483326,
     "end_time": "2022-02-08T19:15:30.567502",
     "exception": false,
     "start_time": "2022-02-08T19:15:30.084176",
     "status": "completed"
    },
    "tags": []
   },
   "outputs": [
    {
     "data": {
      "text/plain": [
       "<AxesSubplot: >"
      ]
     },
     "execution_count": 131,
     "metadata": {},
     "output_type": "execute_result"
    },
    {
     "data": {
      "image/png": "[encoded data removed]",
      "text/plain": [
       "<Figure size 1000x1000 with 1 Axes>"
      ]
     },
     "metadata": {},
     "output_type": "display_data"
    }
   ],
   "source": [
    "# в RandomForestRegressor есть возможность вывести самые важные признаки для модели\n",
    "plt.rcParams['figure.figsize'] = (10,10)\n",
    "feat_importances = pd.Series(model.feature_importances_, index=X.columns)\n",
    "feat_importances.nlargest(15).plot(kind='barh')"
   ]
  },
  {
   "cell_type": "code",
   "execution_count": 132,
   "id": "bd9c9908",
   "metadata": {
    "execution": {
     "iopub.execute_input": "2022-02-08T19:15:30.625115Z",
     "iopub.status.busy": "2022-02-08T19:15:30.624515Z",
     "iopub.status.idle": "2022-02-08T19:15:30.639827Z",
     "shell.execute_reply": "2022-02-08T19:15:30.640317Z",
     "shell.execute_reply.started": "2022-02-08T18:45:41.866035Z"
    },
    "papermill": {
     "duration": 0.045936,
     "end_time": "2022-02-08T19:15:30.640491",
     "exception": false,
     "start_time": "2022-02-08T19:15:30.594555",
     "status": "completed"
    },
    "tags": []
   },
   "outputs": [
    {
     "data": {
      "text/html": [
       "<div>\n",
       "<style scoped>\n",
       "    .dataframe tbody tr th:only-of-type {\n",
       "        vertical-align: middle;\n",
       "    }\n",
       "\n",
       "    .dataframe tbody tr th {\n",
       "        vertical-align: top;\n",
       "    }\n",
       "\n",
       "    .dataframe thead th {\n",
       "        text-align: right;\n",
       "    }\n",
       "</style>\n",
       "<table border=\"1\" class=\"dataframe\">\n",
       "  <thead>\n",
       "    <tr style=\"text-align: right;\">\n",
       "      <th></th>\n",
       "      <th>average_score</th>\n",
       "      <th>review_total_negative_word_counts</th>\n",
       "      <th>total_number_of_reviews</th>\n",
       "      <th>review_total_positive_word_counts</th>\n",
       "      <th>total_number_of_reviews_reviewer_has_given</th>\n",
       "      <th>reviewer_score</th>\n",
       "      <th>leisure trip</th>\n",
       "      <th>submitted from a mobile device</th>\n",
       "      <th>couple</th>\n",
       "      <th>stayed 1 night</th>\n",
       "      <th>...</th>\n",
       "      <th>days_since_review_2</th>\n",
       "      <th>days_since_review_3</th>\n",
       "      <th>days_since_review_4</th>\n",
       "      <th>days_since_review_5</th>\n",
       "      <th>days_since_review_6</th>\n",
       "      <th>days_since_review_7</th>\n",
       "      <th>days_since_review_8</th>\n",
       "      <th>days_since_review_9</th>\n",
       "      <th>review_date_day_of_week</th>\n",
       "      <th>review_date_quarter</th>\n",
       "    </tr>\n",
       "  </thead>\n",
       "  <tbody>\n",
       "    <tr>\n",
       "      <th>48502</th>\n",
       "      <td>7.5</td>\n",
       "      <td>7</td>\n",
       "      <td>1016</td>\n",
       "      <td>6</td>\n",
       "      <td>6</td>\n",
       "      <td>0.0</td>\n",
       "      <td>0</td>\n",
       "      <td>0</td>\n",
       "      <td>0</td>\n",
       "      <td>1</td>\n",
       "      <td>...</td>\n",
       "      <td>0</td>\n",
       "      <td>0</td>\n",
       "      <td>1</td>\n",
       "      <td>0</td>\n",
       "      <td>0</td>\n",
       "      <td>0</td>\n",
       "      <td>1</td>\n",
       "      <td>1</td>\n",
       "      <td>6</td>\n",
       "      <td>1</td>\n",
       "    </tr>\n",
       "    <tr>\n",
       "      <th>93674</th>\n",
       "      <td>8.6</td>\n",
       "      <td>13</td>\n",
       "      <td>3823</td>\n",
       "      <td>7</td>\n",
       "      <td>1</td>\n",
       "      <td>0.0</td>\n",
       "      <td>1</td>\n",
       "      <td>1</td>\n",
       "      <td>1</td>\n",
       "      <td>0</td>\n",
       "      <td>...</td>\n",
       "      <td>1</td>\n",
       "      <td>1</td>\n",
       "      <td>1</td>\n",
       "      <td>0</td>\n",
       "      <td>1</td>\n",
       "      <td>1</td>\n",
       "      <td>1</td>\n",
       "      <td>1</td>\n",
       "      <td>0</td>\n",
       "      <td>3</td>\n",
       "    </tr>\n",
       "    <tr>\n",
       "      <th>71787</th>\n",
       "      <td>9.2</td>\n",
       "      <td>0</td>\n",
       "      <td>870</td>\n",
       "      <td>7</td>\n",
       "      <td>7</td>\n",
       "      <td>0.0</td>\n",
       "      <td>1</td>\n",
       "      <td>1</td>\n",
       "      <td>0</td>\n",
       "      <td>0</td>\n",
       "      <td>...</td>\n",
       "      <td>0</td>\n",
       "      <td>1</td>\n",
       "      <td>0</td>\n",
       "      <td>1</td>\n",
       "      <td>0</td>\n",
       "      <td>1</td>\n",
       "      <td>1</td>\n",
       "      <td>1</td>\n",
       "      <td>1</td>\n",
       "      <td>4</td>\n",
       "    </tr>\n",
       "    <tr>\n",
       "      <th>39555</th>\n",
       "      <td>9.1</td>\n",
       "      <td>16</td>\n",
       "      <td>2113</td>\n",
       "      <td>7</td>\n",
       "      <td>48</td>\n",
       "      <td>0.0</td>\n",
       "      <td>1</td>\n",
       "      <td>0</td>\n",
       "      <td>1</td>\n",
       "      <td>1</td>\n",
       "      <td>...</td>\n",
       "      <td>1</td>\n",
       "      <td>1</td>\n",
       "      <td>0</td>\n",
       "      <td>1</td>\n",
       "      <td>0</td>\n",
       "      <td>0</td>\n",
       "      <td>0</td>\n",
       "      <td>0</td>\n",
       "      <td>1</td>\n",
       "      <td>2</td>\n",
       "    </tr>\n",
       "    <tr>\n",
       "      <th>36539</th>\n",
       "      <td>8.2</td>\n",
       "      <td>2</td>\n",
       "      <td>2995</td>\n",
       "      <td>3</td>\n",
       "      <td>1</td>\n",
       "      <td>0.0</td>\n",
       "      <td>0</td>\n",
       "      <td>1</td>\n",
       "      <td>0</td>\n",
       "      <td>0</td>\n",
       "      <td>...</td>\n",
       "      <td>0</td>\n",
       "      <td>1</td>\n",
       "      <td>0</td>\n",
       "      <td>0</td>\n",
       "      <td>0</td>\n",
       "      <td>0</td>\n",
       "      <td>1</td>\n",
       "      <td>0</td>\n",
       "      <td>0</td>\n",
       "      <td>2</td>\n",
       "    </tr>\n",
       "    <tr>\n",
       "      <th>20705</th>\n",
       "      <td>7.7</td>\n",
       "      <td>0</td>\n",
       "      <td>2867</td>\n",
       "      <td>33</td>\n",
       "      <td>60</td>\n",
       "      <td>0.0</td>\n",
       "      <td>0</td>\n",
       "      <td>0</td>\n",
       "      <td>0</td>\n",
       "      <td>1</td>\n",
       "      <td>...</td>\n",
       "      <td>0</td>\n",
       "      <td>0</td>\n",
       "      <td>0</td>\n",
       "      <td>0</td>\n",
       "      <td>1</td>\n",
       "      <td>1</td>\n",
       "      <td>1</td>\n",
       "      <td>1</td>\n",
       "      <td>0</td>\n",
       "      <td>1</td>\n",
       "    </tr>\n",
       "    <tr>\n",
       "      <th>61583</th>\n",
       "      <td>8.6</td>\n",
       "      <td>13</td>\n",
       "      <td>2764</td>\n",
       "      <td>15</td>\n",
       "      <td>1</td>\n",
       "      <td>0.0</td>\n",
       "      <td>1</td>\n",
       "      <td>1</td>\n",
       "      <td>1</td>\n",
       "      <td>0</td>\n",
       "      <td>...</td>\n",
       "      <td>0</td>\n",
       "      <td>0</td>\n",
       "      <td>1</td>\n",
       "      <td>0</td>\n",
       "      <td>0</td>\n",
       "      <td>1</td>\n",
       "      <td>1</td>\n",
       "      <td>0</td>\n",
       "      <td>5</td>\n",
       "      <td>1</td>\n",
       "    </tr>\n",
       "    <tr>\n",
       "      <th>15324</th>\n",
       "      <td>8.0</td>\n",
       "      <td>11</td>\n",
       "      <td>4015</td>\n",
       "      <td>14</td>\n",
       "      <td>19</td>\n",
       "      <td>0.0</td>\n",
       "      <td>1</td>\n",
       "      <td>0</td>\n",
       "      <td>0</td>\n",
       "      <td>1</td>\n",
       "      <td>...</td>\n",
       "      <td>1</td>\n",
       "      <td>1</td>\n",
       "      <td>0</td>\n",
       "      <td>0</td>\n",
       "      <td>1</td>\n",
       "      <td>1</td>\n",
       "      <td>1</td>\n",
       "      <td>1</td>\n",
       "      <td>0</td>\n",
       "      <td>3</td>\n",
       "    </tr>\n",
       "    <tr>\n",
       "      <th>34718</th>\n",
       "      <td>9.2</td>\n",
       "      <td>61</td>\n",
       "      <td>2619</td>\n",
       "      <td>10</td>\n",
       "      <td>25</td>\n",
       "      <td>0.0</td>\n",
       "      <td>1</td>\n",
       "      <td>0</td>\n",
       "      <td>1</td>\n",
       "      <td>0</td>\n",
       "      <td>...</td>\n",
       "      <td>1</td>\n",
       "      <td>1</td>\n",
       "      <td>0</td>\n",
       "      <td>1</td>\n",
       "      <td>1</td>\n",
       "      <td>1</td>\n",
       "      <td>0</td>\n",
       "      <td>1</td>\n",
       "      <td>0</td>\n",
       "      <td>3</td>\n",
       "    </tr>\n",
       "    <tr>\n",
       "      <th>92720</th>\n",
       "      <td>7.7</td>\n",
       "      <td>8</td>\n",
       "      <td>3097</td>\n",
       "      <td>18</td>\n",
       "      <td>1</td>\n",
       "      <td>0.0</td>\n",
       "      <td>1</td>\n",
       "      <td>0</td>\n",
       "      <td>0</td>\n",
       "      <td>0</td>\n",
       "      <td>...</td>\n",
       "      <td>0</td>\n",
       "      <td>0</td>\n",
       "      <td>0</td>\n",
       "      <td>0</td>\n",
       "      <td>1</td>\n",
       "      <td>1</td>\n",
       "      <td>1</td>\n",
       "      <td>0</td>\n",
       "      <td>6</td>\n",
       "      <td>1</td>\n",
       "    </tr>\n",
       "  </tbody>\n",
       "</table>\n",
       "<p>10 rows × 526 columns</p>\n",
       "</div>"
      ],
      "text/plain": [
       "       average_score  review_total_negative_word_counts  \\\n",
       "48502            7.5                                  7   \n",
       "93674            8.6                                 13   \n",
       "71787            9.2                                  0   \n",
       "39555            9.1                                 16   \n",
       "36539            8.2                                  2   \n",
       "20705            7.7                                  0   \n",
       "61583            8.6                                 13   \n",
       "15324            8.0                                 11   \n",
       "34718            9.2                                 61   \n",
       "92720            7.7                                  8   \n",
       "\n",
       "       total_number_of_reviews  review_total_positive_word_counts  \\\n",
       "48502                     1016                                  6   \n",
       "93674                     3823                                  7   \n",
       "71787                      870                                  7   \n",
       "39555                     2113                                  7   \n",
       "36539                     2995                                  3   \n",
       "20705                     2867                                 33   \n",
       "61583                     2764                                 15   \n",
       "15324                     4015                                 14   \n",
       "34718                     2619                                 10   \n",
       "92720                     3097                                 18   \n",
       "\n",
       "       total_number_of_reviews_reviewer_has_given  reviewer_score  \\\n",
       "48502                                           6             0.0   \n",
       "93674                                           1             0.0   \n",
       "71787                                           7             0.0   \n",
       "39555                                          48             0.0   \n",
       "36539                                           1             0.0   \n",
       "20705                                          60             0.0   \n",
       "61583                                           1             0.0   \n",
       "15324                                          19             0.0   \n",
       "34718                                          25             0.0   \n",
       "92720                                           1             0.0   \n",
       "\n",
       "       leisure trip  submitted from a mobile device  couple  stayed 1 night  \\\n",
       "48502             0                               0       0               1   \n",
       "93674             1                               1       1               0   \n",
       "71787             1                               1       0               0   \n",
       "39555             1                               0       1               1   \n",
       "36539             0                               1       0               0   \n",
       "20705             0                               0       0               1   \n",
       "61583             1                               1       1               0   \n",
       "15324             1                               0       0               1   \n",
       "34718             1                               0       1               0   \n",
       "92720             1                               0       0               0   \n",
       "\n",
       "       ...  days_since_review_2  days_since_review_3  days_since_review_4  \\\n",
       "48502  ...                    0                    0                    1   \n",
       "93674  ...                    1                    1                    1   \n",
       "71787  ...                    0                    1                    0   \n",
       "39555  ...                    1                    1                    0   \n",
       "36539  ...                    0                    1                    0   \n",
       "20705  ...                    0                    0                    0   \n",
       "61583  ...                    0                    0                    1   \n",
       "15324  ...                    1                    1                    0   \n",
       "34718  ...                    1                    1                    0   \n",
       "92720  ...                    0                    0                    0   \n",
       "\n",
       "       days_since_review_5  days_since_review_6  days_since_review_7  \\\n",
       "48502                    0                    0                    0   \n",
       "93674                    0                    1                    1   \n",
       "71787                    1                    0                    1   \n",
       "39555                    1                    0                    0   \n",
       "36539                    0                    0                    0   \n",
       "20705                    0                    1                    1   \n",
       "61583                    0                    0                    1   \n",
       "15324                    0                    1                    1   \n",
       "34718                    1                    1                    1   \n",
       "92720                    0                    1                    1   \n",
       "\n",
       "       days_since_review_8  days_since_review_9  review_date_day_of_week  \\\n",
       "48502                    1                    1                        6   \n",
       "93674                    1                    1                        0   \n",
       "71787                    1                    1                        1   \n",
       "39555                    0                    0                        1   \n",
       "36539                    1                    0                        0   \n",
       "20705                    1                    1                        0   \n",
       "61583                    1                    0                        5   \n",
       "15324                    1                    1                        0   \n",
       "34718                    0                    1                        0   \n",
       "92720                    1                    0                        6   \n",
       "\n",
       "       review_date_quarter  \n",
       "48502                    1  \n",
       "93674                    3  \n",
       "71787                    4  \n",
       "39555                    2  \n",
       "36539                    2  \n",
       "20705                    1  \n",
       "61583                    1  \n",
       "15324                    3  \n",
       "34718                    3  \n",
       "92720                    1  \n",
       "\n",
       "[10 rows x 526 columns]"
      ]
     },
     "execution_count": 132,
     "metadata": {},
     "output_type": "execute_result"
    }
   ],
   "source": [
    "test_data.sample(10)"
   ]
  },
  {
   "cell_type": "code",
   "execution_count": 133,
   "id": "a9a6da4d",
   "metadata": {
    "execution": {
     "iopub.execute_input": "2022-02-08T19:15:30.705058Z",
     "iopub.status.busy": "2022-02-08T19:15:30.704107Z",
     "iopub.status.idle": "2022-02-08T19:15:30.711398Z",
     "shell.execute_reply": "2022-02-08T19:15:30.711831Z",
     "shell.execute_reply.started": "2022-02-08T18:45:41.885567Z"
    },
    "papermill": {
     "duration": 0.041402,
     "end_time": "2022-02-08T19:15:30.712005",
     "exception": false,
     "start_time": "2022-02-08T19:15:30.670603",
     "status": "completed"
    },
    "tags": []
   },
   "outputs": [],
   "source": [
    "test_data = test_data.drop(['reviewer_score'], axis=1)"
   ]
  },
  {
   "cell_type": "code",
   "execution_count": 134,
   "id": "82996041",
   "metadata": {
    "execution": {
     "iopub.execute_input": "2022-02-08T19:15:30.776119Z",
     "iopub.status.busy": "2022-02-08T19:15:30.775182Z",
     "iopub.status.idle": "2022-02-08T19:15:30.784841Z",
     "shell.execute_reply": "2022-02-08T19:15:30.785251Z",
     "shell.execute_reply.started": "2022-02-08T18:45:41.893309Z"
    },
    "papermill": {
     "duration": 0.043997,
     "end_time": "2022-02-08T19:15:30.785439",
     "exception": false,
     "start_time": "2022-02-08T19:15:30.741442",
     "status": "completed"
    },
    "tags": []
   },
   "outputs": [
    {
     "data": {
      "text/html": [
       "<div>\n",
       "<style scoped>\n",
       "    .dataframe tbody tr th:only-of-type {\n",
       "        vertical-align: middle;\n",
       "    }\n",
       "\n",
       "    .dataframe tbody tr th {\n",
       "        vertical-align: top;\n",
       "    }\n",
       "\n",
       "    .dataframe thead th {\n",
       "        text-align: right;\n",
       "    }\n",
       "</style>\n",
       "<table border=\"1\" class=\"dataframe\">\n",
       "  <thead>\n",
       "    <tr style=\"text-align: right;\">\n",
       "      <th></th>\n",
       "      <th>reviewer_score</th>\n",
       "      <th>id</th>\n",
       "    </tr>\n",
       "  </thead>\n",
       "  <tbody>\n",
       "    <tr>\n",
       "      <th>0</th>\n",
       "      <td>1</td>\n",
       "      <td>488440</td>\n",
       "    </tr>\n",
       "    <tr>\n",
       "      <th>1</th>\n",
       "      <td>10</td>\n",
       "      <td>274649</td>\n",
       "    </tr>\n",
       "    <tr>\n",
       "      <th>2</th>\n",
       "      <td>3</td>\n",
       "      <td>374688</td>\n",
       "    </tr>\n",
       "    <tr>\n",
       "      <th>3</th>\n",
       "      <td>10</td>\n",
       "      <td>404352</td>\n",
       "    </tr>\n",
       "    <tr>\n",
       "      <th>4</th>\n",
       "      <td>9</td>\n",
       "      <td>451596</td>\n",
       "    </tr>\n",
       "    <tr>\n",
       "      <th>...</th>\n",
       "      <td>...</td>\n",
       "      <td>...</td>\n",
       "    </tr>\n",
       "    <tr>\n",
       "      <th>128930</th>\n",
       "      <td>7</td>\n",
       "      <td>495812</td>\n",
       "    </tr>\n",
       "    <tr>\n",
       "      <th>128931</th>\n",
       "      <td>1</td>\n",
       "      <td>315577</td>\n",
       "    </tr>\n",
       "    <tr>\n",
       "      <th>128932</th>\n",
       "      <td>3</td>\n",
       "      <td>511968</td>\n",
       "    </tr>\n",
       "    <tr>\n",
       "      <th>128933</th>\n",
       "      <td>6</td>\n",
       "      <td>303386</td>\n",
       "    </tr>\n",
       "    <tr>\n",
       "      <th>128934</th>\n",
       "      <td>5</td>\n",
       "      <td>103157</td>\n",
       "    </tr>\n",
       "  </tbody>\n",
       "</table>\n",
       "<p>128935 rows × 2 columns</p>\n",
       "</div>"
      ],
      "text/plain": [
       "        reviewer_score      id\n",
       "0                    1  488440\n",
       "1                   10  274649\n",
       "2                    3  374688\n",
       "3                   10  404352\n",
       "4                    9  451596\n",
       "...                ...     ...\n",
       "128930               7  495812\n",
       "128931               1  315577\n",
       "128932               3  511968\n",
       "128933               6  303386\n",
       "128934               5  103157\n",
       "\n",
       "[128935 rows x 2 columns]"
      ]
     },
     "execution_count": 134,
     "metadata": {},
     "output_type": "execute_result"
    }
   ],
   "source": [
    "sample_submission"
   ]
  },
  {
   "cell_type": "code",
   "execution_count": 135,
   "id": "17e3b4fd",
   "metadata": {
    "execution": {
     "iopub.execute_input": "2022-02-08T19:15:30.850529Z",
     "iopub.status.busy": "2022-02-08T19:15:30.849583Z",
     "iopub.status.idle": "2022-02-08T19:15:33.976874Z",
     "shell.execute_reply": "2022-02-08T19:15:33.976213Z",
     "shell.execute_reply.started": "2022-02-08T18:45:41.912914Z"
    },
    "papermill": {
     "duration": 3.16064,
     "end_time": "2022-02-08T19:15:33.977025",
     "exception": false,
     "start_time": "2022-02-08T19:15:30.816385",
     "status": "completed"
    },
    "tags": []
   },
   "outputs": [
    {
     "name": "stderr",
     "output_type": "stream",
     "text": [
      "[Parallel(n_jobs=20)]: Using backend ThreadingBackend with 20 concurrent workers.\n",
      "[Parallel(n_jobs=20)]: Done  10 tasks      | elapsed:    0.1s\n",
      "[Parallel(n_jobs=20)]: Done 100 out of 100 | elapsed:    0.8s finished\n"
     ]
    }
   ],
   "source": [
    "predict_submission = model.predict(test_data)"
   ]
  },
  {
   "cell_type": "code",
   "execution_count": 136,
   "id": "f8143893",
   "metadata": {
    "execution": {
     "iopub.execute_input": "2022-02-08T19:15:34.049725Z",
     "iopub.status.busy": "2022-02-08T19:15:34.048890Z",
     "iopub.status.idle": "2022-02-08T19:15:34.052717Z",
     "shell.execute_reply": "2022-02-08T19:15:34.053456Z",
     "shell.execute_reply.started": "2022-02-08T18:45:44.231424Z"
    },
    "papermill": {
     "duration": 0.043612,
     "end_time": "2022-02-08T19:15:34.053708",
     "exception": false,
     "start_time": "2022-02-08T19:15:34.010096",
     "status": "completed"
    },
    "tags": []
   },
   "outputs": [
    {
     "data": {
      "text/plain": [
       "array([8.672, 7.574, 7.406, ..., 8.211, 9.568, 6.99 ])"
      ]
     },
     "execution_count": 136,
     "metadata": {},
     "output_type": "execute_result"
    }
   ],
   "source": [
    "predict_submission"
   ]
  },
  {
   "cell_type": "code",
   "execution_count": 137,
   "id": "acc71a3c",
   "metadata": {
    "execution": {
     "iopub.execute_input": "2022-02-08T19:15:34.130523Z",
     "iopub.status.busy": "2022-02-08T19:15:34.129920Z",
     "iopub.status.idle": "2022-02-08T19:15:34.132622Z",
     "shell.execute_reply": "2022-02-08T19:15:34.133260Z",
     "shell.execute_reply.started": "2022-02-08T18:45:44.239621Z"
    },
    "papermill": {
     "duration": 0.044364,
     "end_time": "2022-02-08T19:15:34.133444",
     "exception": false,
     "start_time": "2022-02-08T19:15:34.089080",
     "status": "completed"
    },
    "tags": []
   },
   "outputs": [
    {
     "data": {
      "text/plain": [
       "['reviewer_score', 'id']"
      ]
     },
     "execution_count": 137,
     "metadata": {},
     "output_type": "execute_result"
    }
   ],
   "source": [
    "list(sample_submission)"
   ]
  },
  {
   "cell_type": "code",
   "execution_count": 138,
   "id": "9c5daa79",
   "metadata": {
    "execution": {
     "iopub.execute_input": "2022-02-08T19:15:34.202732Z",
     "iopub.status.busy": "2022-02-08T19:15:34.202121Z",
     "iopub.status.idle": "2022-02-08T19:15:34.484062Z",
     "shell.execute_reply": "2022-02-08T19:15:34.484469Z",
     "shell.execute_reply.started": "2022-02-08T18:45:44.250765Z"
    },
    "papermill": {
     "duration": 0.318018,
     "end_time": "2022-02-08T19:15:34.484637",
     "exception": false,
     "start_time": "2022-02-08T19:15:34.166619",
     "status": "completed"
    },
    "tags": []
   },
   "outputs": [
    {
     "data": {
      "text/html": [
       "<div>\n",
       "<style scoped>\n",
       "    .dataframe tbody tr th:only-of-type {\n",
       "        vertical-align: middle;\n",
       "    }\n",
       "\n",
       "    .dataframe tbody tr th {\n",
       "        vertical-align: top;\n",
       "    }\n",
       "\n",
       "    .dataframe thead th {\n",
       "        text-align: right;\n",
       "    }\n",
       "</style>\n",
       "<table border=\"1\" class=\"dataframe\">\n",
       "  <thead>\n",
       "    <tr style=\"text-align: right;\">\n",
       "      <th></th>\n",
       "      <th>reviewer_score</th>\n",
       "      <th>id</th>\n",
       "    </tr>\n",
       "  </thead>\n",
       "  <tbody>\n",
       "    <tr>\n",
       "      <th>0</th>\n",
       "      <td>8.672</td>\n",
       "      <td>488440</td>\n",
       "    </tr>\n",
       "    <tr>\n",
       "      <th>1</th>\n",
       "      <td>7.574</td>\n",
       "      <td>274649</td>\n",
       "    </tr>\n",
       "    <tr>\n",
       "      <th>2</th>\n",
       "      <td>7.406</td>\n",
       "      <td>374688</td>\n",
       "    </tr>\n",
       "    <tr>\n",
       "      <th>3</th>\n",
       "      <td>9.700</td>\n",
       "      <td>404352</td>\n",
       "    </tr>\n",
       "    <tr>\n",
       "      <th>4</th>\n",
       "      <td>9.485</td>\n",
       "      <td>451596</td>\n",
       "    </tr>\n",
       "    <tr>\n",
       "      <th>5</th>\n",
       "      <td>8.719</td>\n",
       "      <td>302161</td>\n",
       "    </tr>\n",
       "    <tr>\n",
       "      <th>6</th>\n",
       "      <td>6.096</td>\n",
       "      <td>317079</td>\n",
       "    </tr>\n",
       "    <tr>\n",
       "      <th>7</th>\n",
       "      <td>7.825</td>\n",
       "      <td>13963</td>\n",
       "    </tr>\n",
       "    <tr>\n",
       "      <th>8</th>\n",
       "      <td>8.825</td>\n",
       "      <td>159785</td>\n",
       "    </tr>\n",
       "    <tr>\n",
       "      <th>9</th>\n",
       "      <td>7.980</td>\n",
       "      <td>195089</td>\n",
       "    </tr>\n",
       "  </tbody>\n",
       "</table>\n",
       "</div>"
      ],
      "text/plain": [
       "   reviewer_score      id\n",
       "0           8.672  488440\n",
       "1           7.574  274649\n",
       "2           7.406  374688\n",
       "3           9.700  404352\n",
       "4           9.485  451596\n",
       "5           8.719  302161\n",
       "6           6.096  317079\n",
       "7           7.825   13963\n",
       "8           8.825  159785\n",
       "9           7.980  195089"
      ]
     },
     "execution_count": 138,
     "metadata": {},
     "output_type": "execute_result"
    }
   ],
   "source": [
    "sample_submission['reviewer_score'] = predict_submission\n",
    "sample_submission.to_csv('submission.csv', index=False)\n",
    "sample_submission.head(10)"
   ]
  }
 ],
 "metadata": {
  "kernelspec": {
   "display_name": "Python 3",
   "language": "python",
   "name": "python3"
  },
  "language_info": {
   "codemirror_mode": {
    "name": "ipython",
    "version": 3
   },
   "file_extension": ".py",
   "mimetype": "text/x-python",
   "name": "python",
   "nbconvert_exporter": "python",
   "pygments_lexer": "ipython3",
   "version": "3.11.0"
  },
  "papermill": {
   "default_parameters": {},
   "duration": 82.712304,
   "end_time": "2022-02-08T19:15:35.720354",
   "environment_variables": {},
   "exception": null,
   "input_path": "__notebook__.ipynb",
   "output_path": "__notebook__.ipynb",
   "parameters": {},
   "start_time": "2022-02-08T19:14:13.008050",
   "version": "2.3.3"
  }
 },
 "nbformat": 4,
 "nbformat_minor": 5
}
