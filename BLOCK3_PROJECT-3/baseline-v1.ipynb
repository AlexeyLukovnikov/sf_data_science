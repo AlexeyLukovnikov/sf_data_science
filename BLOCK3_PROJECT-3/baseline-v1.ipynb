{
 "cells": [
  {
   "cell_type": "code",
   "execution_count": null,
   "id": "81a20841",
   "metadata": {
    "_cell_guid": "b1076dfc-b9ad-4769-8c92-a6c4dae69d19",
    "_uuid": "8f2839f25d086af736a60e9eeb907d3b93b6e0e5",
    "execution": {
     "iopub.execute_input": "2022-02-08T19:14:22.339329Z",
     "iopub.status.busy": "2022-02-08T19:14:22.338238Z",
     "iopub.status.idle": "2022-02-08T19:14:23.673423Z",
     "shell.execute_reply": "2022-02-08T19:14:23.673936Z",
     "shell.execute_reply.started": "2022-02-08T18:44:26.624161Z"
    },
    "papermill": {
     "duration": 1.363434,
     "end_time": "2022-02-08T19:14:23.674225",
     "exception": false,
     "start_time": "2022-02-08T19:14:22.310791",
     "status": "completed"
    },
    "tags": []
   },
   "outputs": [],
   "source": [
    "# This Python 3 environment comes with many helpful analytics libraries installed\n",
    "# It is defined by the kaggle/python Docker image: https://github.com/kaggle/docker-python\n",
    "# For example, here's several helpful packages to load\n",
    "\n",
    "import numpy as np # linear algebra\n",
    "import pandas as pd # data processing, CSV file I/O (e.g. pd.read_csv)\n",
    "\n",
    "# импортируем библиотеки для визуализации\n",
    "import matplotlib.pyplot as plt\n",
    "import seaborn as sns \n",
    "%matplotlib inline\n",
    "\n",
    "# Загружаем специальный удобный инструмент для разделения датасета:\n",
    "from sklearn.model_selection import train_test_split\n",
    "\n",
    "# Input data files are available in the read-only \"../input/\" directory\n",
    "# For example, running this (by clicking run or pressing Shift+Enter) will list all files under the input directory\n",
    "\n",
    "import os\n",
    "for dirname, _, filenames in os.walk('/kaggle/input'):\n",
    "    for filename in filenames:\n",
    "        print(os.path.join(dirname, filename))\n",
    "\n",
    "# You can write up to 20GB to the current directory (/kaggle/working/) that gets preserved as output when you create a version using \"Save & Run All\" \n",
    "# You can also write temporary files to /kaggle/temp/, but they won't be saved outside of the current session"
   ]
  },
  {
   "cell_type": "code",
   "execution_count": null,
   "id": "8bd9892a",
   "metadata": {
    "execution": {
     "iopub.execute_input": "2022-02-08T19:14:23.722495Z",
     "iopub.status.busy": "2022-02-08T19:14:23.721381Z",
     "iopub.status.idle": "2022-02-08T19:14:23.725121Z",
     "shell.execute_reply": "2022-02-08T19:14:23.725576Z",
     "shell.execute_reply.started": "2022-02-08T18:44:26.641433Z"
    },
    "papermill": {
     "duration": 0.028937,
     "end_time": "2022-02-08T19:14:23.725766",
     "exception": false,
     "start_time": "2022-02-08T19:14:23.696829",
     "status": "completed"
    },
    "tags": []
   },
   "outputs": [],
   "source": [
    "# всегда фиксируйте RANDOM_SEED, чтобы ваши эксперименты были воспроизводимы!\n",
    "RANDOM_SEED = 42"
   ]
  },
  {
   "cell_type": "code",
   "execution_count": null,
   "id": "814dbb0b",
   "metadata": {
    "execution": {
     "iopub.execute_input": "2022-02-08T19:14:23.771180Z",
     "iopub.status.busy": "2022-02-08T19:14:23.770572Z",
     "iopub.status.idle": "2022-02-08T19:14:28.207550Z",
     "shell.execute_reply": "2022-02-08T19:14:28.206673Z",
     "shell.execute_reply.started": "2022-02-08T18:44:26.648843Z"
    },
    "papermill": {
     "duration": 4.460662,
     "end_time": "2022-02-08T19:14:28.207868",
     "exception": false,
     "start_time": "2022-02-08T19:14:23.747206",
     "status": "completed"
    },
    "tags": []
   },
   "outputs": [],
   "source": [
    "# зафиксируем версию пакетов, чтобы эксперименты были воспроизводимы:\n",
    "#!pip freeze > requirements.txt"
   ]
  },
  {
   "cell_type": "code",
   "execution_count": null,
   "id": "71cc11f1",
   "metadata": {},
   "outputs": [],
   "source": [
    "# Подгрузим наши данные из соревнования\n",
    "\n",
    "DATA_DIR = 'data'\n",
    "df_train = pd.read_csv(DATA_DIR+'/hotels_train.zip') # датасет для обучения\n",
    "df_test = pd.read_csv(DATA_DIR+'/hotels_test.zip') # датасет для предсказания\n",
    "sample_submission = pd.read_csv(DATA_DIR+'/submission.csv') # самбмишн"
   ]
  },
  {
   "cell_type": "code",
   "execution_count": null,
   "id": "e5af1bc4",
   "metadata": {},
   "outputs": [],
   "source": [
    "print(df_train.shape[0], df_test.shape[0] == sample_submission.shape[0])\n",
    "for i, v in enumerate(df_train.columns):\n",
    "    if df_train[v].dtype == 'object':\n",
    "        print(i, v, df_train[v].nunique(), round(df_train[v].nunique() / df_train.shape[0] * 100, 2))"
   ]
  },
  {
   "cell_type": "code",
   "execution_count": null,
   "id": "5f138d8d",
   "metadata": {},
   "outputs": [],
   "source": [
    "1\n",
    "# from ydata_profiling import ProfileReport\n",
    "# profile = ProfileReport(df_train, title=\"Pandas Profiling Report\")\n",
    "# profile\n",
    "# profile.to_file(\"your_report.html\")"
   ]
  },
  {
   "cell_type": "code",
   "execution_count": null,
   "id": "e816699e",
   "metadata": {},
   "outputs": [],
   "source": [
    "print(df_train.shape)\n",
    "#df_train.groupby(by='negative_review', as_index=False)['hotel_address'].count().sort_values(by='hotel_address', ascending=False).head(50)\n",
    "df_train['positive_review'] = df_train['positive_review'].str.strip().str.lower()\n",
    "df_train.groupby(by='positive_review', as_index=False)['hotel_address'].count().sort_values(by='hotel_address', ascending=False).head(50)"
   ]
  },
  {
   "cell_type": "code",
   "execution_count": null,
   "id": "36bdfa48",
   "metadata": {},
   "outputs": [],
   "source": []
  },
  {
   "cell_type": "code",
   "execution_count": null,
   "id": "5aadcce6",
   "metadata": {
    "execution": {
     "iopub.execute_input": "2022-02-08T19:14:33.814184Z",
     "iopub.status.busy": "2022-02-08T19:14:33.813500Z",
     "iopub.status.idle": "2022-02-08T19:14:33.985724Z",
     "shell.execute_reply": "2022-02-08T19:14:33.986240Z",
     "shell.execute_reply.started": "2022-02-08T18:44:32.949435Z"
    },
    "papermill": {
     "duration": 0.201246,
     "end_time": "2022-02-08T19:14:33.986418",
     "exception": false,
     "start_time": "2022-02-08T19:14:33.785172",
     "status": "completed"
    },
    "tags": []
   },
   "outputs": [],
   "source": [
    "df_train.info()"
   ]
  },
  {
   "cell_type": "code",
   "execution_count": null,
   "id": "eff9e899",
   "metadata": {
    "execution": {
     "iopub.execute_input": "2022-02-08T19:14:34.040534Z",
     "iopub.status.busy": "2022-02-08T19:14:34.039607Z",
     "iopub.status.idle": "2022-02-08T19:14:34.067200Z",
     "shell.execute_reply": "2022-02-08T19:14:34.067646Z",
     "shell.execute_reply.started": "2022-02-08T18:44:33.295852Z"
    },
    "papermill": {
     "duration": 0.060301,
     "end_time": "2022-02-08T19:14:34.067848",
     "exception": false,
     "start_time": "2022-02-08T19:14:34.007547",
     "status": "completed"
    },
    "tags": []
   },
   "outputs": [],
   "source": [
    "df_train.head(2)"
   ]
  },
  {
   "cell_type": "code",
   "execution_count": null,
   "id": "f2a61b14",
   "metadata": {
    "execution": {
     "iopub.execute_input": "2022-02-08T19:14:34.129923Z",
     "iopub.status.busy": "2022-02-08T19:14:34.129023Z",
     "iopub.status.idle": "2022-02-08T19:14:34.201112Z",
     "shell.execute_reply": "2022-02-08T19:14:34.201672Z",
     "shell.execute_reply.started": "2022-02-08T18:44:33.315329Z"
    },
    "papermill": {
     "duration": 0.104528,
     "end_time": "2022-02-08T19:14:34.201919",
     "exception": false,
     "start_time": "2022-02-08T19:14:34.097391",
     "status": "completed"
    },
    "tags": []
   },
   "outputs": [],
   "source": [
    "df_test.info()"
   ]
  },
  {
   "cell_type": "code",
   "execution_count": null,
   "id": "ff071ddd",
   "metadata": {
    "execution": {
     "iopub.execute_input": "2022-02-08T19:14:34.253561Z",
     "iopub.status.busy": "2022-02-08T19:14:34.252940Z",
     "iopub.status.idle": "2022-02-08T19:14:34.267949Z",
     "shell.execute_reply": "2022-02-08T19:14:34.268388Z",
     "shell.execute_reply.started": "2022-02-08T18:44:33.439055Z"
    },
    "papermill": {
     "duration": 0.041895,
     "end_time": "2022-02-08T19:14:34.268570",
     "exception": false,
     "start_time": "2022-02-08T19:14:34.226675",
     "status": "completed"
    },
    "tags": []
   },
   "outputs": [],
   "source": [
    "df_test.head(2)"
   ]
  },
  {
   "cell_type": "code",
   "execution_count": null,
   "id": "a42b8ffe",
   "metadata": {
    "execution": {
     "iopub.execute_input": "2022-02-08T19:14:34.316935Z",
     "iopub.status.busy": "2022-02-08T19:14:34.316327Z",
     "iopub.status.idle": "2022-02-08T19:14:34.323236Z",
     "shell.execute_reply": "2022-02-08T19:14:34.323678Z",
     "shell.execute_reply.started": "2022-02-08T18:44:33.456558Z"
    },
    "papermill": {
     "duration": 0.032568,
     "end_time": "2022-02-08T19:14:34.323861",
     "exception": false,
     "start_time": "2022-02-08T19:14:34.291293",
     "status": "completed"
    },
    "tags": []
   },
   "outputs": [],
   "source": [
    "sample_submission.head(2)"
   ]
  },
  {
   "cell_type": "code",
   "execution_count": null,
   "id": "f00eb590",
   "metadata": {
    "execution": {
     "iopub.execute_input": "2022-02-08T19:14:34.372564Z",
     "iopub.status.busy": "2022-02-08T19:14:34.371990Z",
     "iopub.status.idle": "2022-02-08T19:14:34.382350Z",
     "shell.execute_reply": "2022-02-08T19:14:34.382803Z",
     "shell.execute_reply.started": "2022-02-08T18:44:33.464464Z"
    },
    "papermill": {
     "duration": 0.036517,
     "end_time": "2022-02-08T19:14:34.382984",
     "exception": false,
     "start_time": "2022-02-08T19:14:34.346467",
     "status": "completed"
    },
    "tags": []
   },
   "outputs": [],
   "source": [
    "sample_submission.info()"
   ]
  },
  {
   "cell_type": "code",
   "execution_count": null,
   "id": "82718822",
   "metadata": {
    "execution": {
     "iopub.execute_input": "2022-02-08T19:14:34.432723Z",
     "iopub.status.busy": "2022-02-08T19:14:34.432113Z",
     "iopub.status.idle": "2022-02-08T19:14:34.920690Z",
     "shell.execute_reply": "2022-02-08T19:14:34.920082Z",
     "shell.execute_reply.started": "2022-02-08T18:44:33.480147Z"
    },
    "papermill": {
     "duration": 0.514636,
     "end_time": "2022-02-08T19:14:34.920844",
     "exception": false,
     "start_time": "2022-02-08T19:14:34.406208",
     "status": "completed"
    },
    "tags": []
   },
   "outputs": [],
   "source": [
    "# ВАЖНО! дря корректной обработки признаков объединяем трейн и тест в один датасет\n",
    "df_train['sample'] = 1 # помечаем где у нас трейн\n",
    "df_test['sample'] = 0 # помечаем где у нас тест\n",
    "df_test['reviewer_score'] = 0 # в тесте у нас нет значения reviewer_score, мы его должны предсказать, по этому пока просто заполняем нулями\n",
    "\n",
    "data = df_test.append(df_train, sort=False).reset_index(drop=True) # объединяем"
   ]
  },
  {
   "cell_type": "code",
   "execution_count": null,
   "id": "9c492391",
   "metadata": {
    "execution": {
     "iopub.execute_input": "2022-02-08T19:14:34.973792Z",
     "iopub.status.busy": "2022-02-08T19:14:34.973193Z",
     "iopub.status.idle": "2022-02-08T19:14:35.186288Z",
     "shell.execute_reply": "2022-02-08T19:14:35.185728Z",
     "shell.execute_reply.started": "2022-02-08T18:44:34.015455Z"
    },
    "papermill": {
     "duration": 0.242101,
     "end_time": "2022-02-08T19:14:35.186448",
     "exception": false,
     "start_time": "2022-02-08T19:14:34.944347",
     "status": "completed"
    },
    "tags": []
   },
   "outputs": [],
   "source": [
    "# data.info()\n",
    "sns.heatmap(data.corr(), annot=True)"
   ]
  },
  {
   "cell_type": "code",
   "execution_count": null,
   "id": "88394ff1",
   "metadata": {},
   "outputs": [],
   "source": [
    "where1 = data['lat'].isnull()\n",
    "where2 = data.lat \n",
    "\n",
    "data21 = data[data.lat.isnull() & data.lng.isnull()]\n",
    "data22 = data[data.lat.isnull()]\n",
    "data23 = data[data.lng.isnull()]\n",
    "data24 = data[data.lat.isnull() & data.lng.isnull()][['hotel_name', 'hotel_address']]\n",
    "print(data21.shape, data22.shape, data23.shape, data24.shape)\n",
    "print(data24['hotel_name'].unique().shape)\n",
    "\n",
    "# filter_name = ['hotel_address'].iloc[0]\n",
    "# print(filter_name)\n",
    "print(data24)\n",
    "\n",
    "# where3 = (data['hotel_address'] == filter_name)\n",
    "# data2 = data[where3]\n",
    "# data.shape, data2.shape"
   ]
  },
  {
   "cell_type": "code",
   "execution_count": null,
   "id": "95751530",
   "metadata": {},
   "outputs": [],
   "source": [
    "# data['tags2'] = data['tags'].apply(lambda ii : [\"'\" + i.strip().lower() + \"'\" for i in eval(ii)])\n",
    "data['tags2'] = data['tags'].apply(lambda ii : [i.strip().lower() for i in eval(ii)])\n",
    "data['tags2'].head()"
   ]
  },
  {
   "cell_type": "code",
   "execution_count": null,
   "id": "02cbd342",
   "metadata": {},
   "outputs": [],
   "source": [
    "dict_count_tags = {}\n",
    "\n",
    "def count_tags(tags_string):\n",
    "    # print(tags_string)\n",
    "    # tags = eval(tags_string)\n",
    "    for tag in tags_string:\n",
    "        if tag not in dict_count_tags:\n",
    "            dict_count_tags[tag] = 0\n",
    "        dict_count_tags[tag] += 1\n",
    "\n",
    "data['tags2'].apply(count_tags)\n",
    "print(len(dict_count_tags))"
   ]
  },
  {
   "cell_type": "code",
   "execution_count": null,
   "id": "0c1e2a86",
   "metadata": {},
   "outputs": [],
   "source": [
    "list_count_tags = []\n",
    "\n",
    "for k, v in dict_count_tags.items():\n",
    "    list_count_tags.append((k,v,))\n",
    "\n",
    "list_count_tags.sort(key=lambda i:i[1])\n",
    "list_count_tags = list_count_tags[::-1]\n",
    "\n",
    "def is_include(value):\n",
    "    pass\n",
    "# 500 - 54m, 5m28s, 0.9284403507119681 13.56394\n",
    "# 50 - 1m16s, 48s, 0.9357929727726715 13.5839\n",
    "for i in list_count_tags[:50]:\n",
    "    # data[i[0]] = data.apply(lambda row: 1 if i[0] in row['tags2'] else 0, axis=1)\n",
    "    pass"
   ]
  },
  {
   "cell_type": "code",
   "execution_count": null,
   "id": "fd3a634c",
   "metadata": {},
   "outputs": [],
   "source": [
    "# data[data['deluxe room'] == 1].head()\n",
    "data.shape, list_count_tags[300]"
   ]
  },
  {
   "cell_type": "code",
   "execution_count": null,
   "id": "f611b9ea",
   "metadata": {},
   "outputs": [],
   "source": [
    "import category_encoders as ce # импорт для работы с кодировщиком\n",
    "bin_encoder = ce.BinaryEncoder(cols=['reviewer_nationality']) # указываем столбец для кодирования\n",
    "reviewer_nationality = bin_encoder.fit_transform(data['reviewer_nationality'])\n",
    "data = pd.concat([data, reviewer_nationality], axis=1)"
   ]
  },
  {
   "cell_type": "code",
   "execution_count": null,
   "id": "551d5eec",
   "metadata": {},
   "outputs": [],
   "source": [
    "bin_encoder = ce.BinaryEncoder(cols=['days_since_review']) # указываем столбец для кодирования\n",
    "days_since_review = bin_encoder.fit_transform(data['days_since_review'])\n",
    "data = pd.concat([data, days_since_review], axis=1)"
   ]
  },
  {
   "cell_type": "code",
   "execution_count": null,
   "id": "11e9f5e7",
   "metadata": {},
   "outputs": [],
   "source": [
    "# bin_encoder = ce.BinaryEncoder(cols=['hotel_name']) # указываем столбец для кодирования\n",
    "# hotel_name = bin_encoder.fit_transform(data['hotel_name'])\n",
    "# data = pd.concat([data, hotel_name], axis=1)\n",
    "\n",
    "# bin_encoder = ce.BinaryEncoder(cols=['hotel_address']) # указываем столбец для кодирования\n",
    "# hotel_address = bin_encoder.fit_transform(data['hotel_address'])\n",
    "# data = pd.concat([data, hotel_address], axis=1)"
   ]
  },
  {
   "cell_type": "code",
   "execution_count": null,
   "id": "15b9af25",
   "metadata": {
    "execution": {
     "iopub.execute_input": "2022-02-08T19:14:35.237845Z",
     "iopub.status.busy": "2022-02-08T19:14:35.236834Z",
     "iopub.status.idle": "2022-02-08T19:14:35.259821Z",
     "shell.execute_reply": "2022-02-08T19:14:35.259247Z",
     "shell.execute_reply.started": "2022-02-08T18:44:34.479202Z"
    },
    "papermill": {
     "duration": 0.04969,
     "end_time": "2022-02-08T19:14:35.259972",
     "exception": false,
     "start_time": "2022-02-08T19:14:35.210282",
     "status": "completed"
    },
    "tags": []
   },
   "outputs": [],
   "source": [
    "data['lat'] = data['lat'].fillna(0, inplace=True)\n",
    "data['lng'] = data['lng'].fillna(0, inplace=True)"
   ]
  },
  {
   "cell_type": "code",
   "execution_count": null,
   "id": "76d2d83c",
   "metadata": {},
   "outputs": [],
   "source": [
    "data['review_date'] = pd.to_datetime(data['review_date'])\n",
    "# data['review_date'] = data['review_date'].dt.date"
   ]
  },
  {
   "cell_type": "code",
   "execution_count": null,
   "id": "8e21bb17",
   "metadata": {},
   "outputs": [],
   "source": [
    "print(data['review_date'].min(), data['review_date'].max())\n",
    "data['review_date'].describe()\n",
    "# data['review_date_day'] = data['review_date'].dt.day\n",
    "data['review_date_day_of_week'] = data['review_date'].dt.day_of_week\n",
    "data['review_date_quarter'] = data['review_date'].dt.quarter\n",
    "data.info()"
   ]
  },
  {
   "cell_type": "code",
   "execution_count": null,
   "id": "92f777da",
   "metadata": {
    "execution": {
     "iopub.execute_input": "2022-02-08T19:14:35.319524Z",
     "iopub.status.busy": "2022-02-08T19:14:35.318915Z",
     "iopub.status.idle": "2022-02-08T19:14:36.185657Z",
     "shell.execute_reply": "2022-02-08T19:14:36.186104Z",
     "shell.execute_reply.started": "2022-02-08T18:44:34.500478Z"
    },
    "papermill": {
     "duration": 0.902939,
     "end_time": "2022-02-08T19:14:36.186284",
     "exception": false,
     "start_time": "2022-02-08T19:14:35.283345",
     "status": "completed"
    },
    "tags": []
   },
   "outputs": [],
   "source": [
    "data.drop(columns=['tags2'], axis=1, inplace=True)\n",
    "data.nunique(dropna=False)"
   ]
  },
  {
   "cell_type": "code",
   "execution_count": null,
   "id": "ac614095",
   "metadata": {
    "execution": {
     "iopub.execute_input": "2022-02-08T19:14:36.237918Z",
     "iopub.status.busy": "2022-02-08T19:14:36.237252Z",
     "iopub.status.idle": "2022-02-08T19:14:37.275035Z",
     "shell.execute_reply": "2022-02-08T19:14:37.275534Z",
     "shell.execute_reply.started": "2022-02-08T18:44:35.438981Z"
    },
    "papermill": {
     "duration": 1.065096,
     "end_time": "2022-02-08T19:14:37.275706",
     "exception": false,
     "start_time": "2022-02-08T19:14:36.210610",
     "status": "completed"
    },
    "tags": []
   },
   "outputs": [],
   "source": [
    "# plt.rcParams['figure.figsize'] = (15,10)\n",
    "# sns.heatmap(data.drop(['sample'], axis=1).corr(), annot=True)"
   ]
  },
  {
   "cell_type": "code",
   "execution_count": null,
   "id": "8e845f5c",
   "metadata": {
    "execution": {
     "iopub.execute_input": "2022-02-08T19:14:37.365016Z",
     "iopub.status.busy": "2022-02-08T19:14:37.364338Z",
     "iopub.status.idle": "2022-02-08T19:14:37.367440Z",
     "shell.execute_reply": "2022-02-08T19:14:37.366949Z",
     "shell.execute_reply.started": "2022-02-08T18:44:36.454378Z"
    },
    "papermill": {
     "duration": 0.064293,
     "end_time": "2022-02-08T19:14:37.367575",
     "exception": false,
     "start_time": "2022-02-08T19:14:37.303282",
     "status": "completed"
    },
    "tags": []
   },
   "outputs": [],
   "source": [
    "# убираем признаки которые еще не успели обработать, \n",
    "# модель на признаках с dtypes \"object\" обучаться не будет, просто выберим их и удалим\n",
    "object_columns = [s for s in data.columns if data[s].dtypes == 'object' or s in ['review_date', 'additional_number_of_scoring']]\n",
    "#print(object_columns)\n",
    "data.drop(object_columns, axis = 1, inplace=True)\n",
    "#data.info()"
   ]
  },
  {
   "cell_type": "code",
   "execution_count": null,
   "id": "e396cfc5",
   "metadata": {
    "execution": {
     "iopub.execute_input": "2022-02-08T19:14:37.429548Z",
     "iopub.status.busy": "2022-02-08T19:14:37.428899Z",
     "iopub.status.idle": "2022-02-08T19:14:37.446518Z",
     "shell.execute_reply": "2022-02-08T19:14:37.445920Z",
     "shell.execute_reply.started": "2022-02-08T18:44:36.492165Z"
    },
    "papermill": {
     "duration": 0.050346,
     "end_time": "2022-02-08T19:14:37.446656",
     "exception": false,
     "start_time": "2022-02-08T19:14:37.396310",
     "status": "completed"
    },
    "tags": []
   },
   "outputs": [],
   "source": [
    "data.info()"
   ]
  },
  {
   "cell_type": "code",
   "execution_count": null,
   "id": "12888fe2",
   "metadata": {},
   "outputs": [],
   "source": [
    "print(data.shape[0], data.query('sample == 0').shape[0], data.query('sample == 1').shape[0], data.shape[0] == data.query('sample == 0').shape[0] + data.query('sample == 1').shape[0])"
   ]
  },
  {
   "cell_type": "code",
   "execution_count": null,
   "id": "69e46903",
   "metadata": {
    "execution": {
     "iopub.execute_input": "2022-02-08T19:14:37.505890Z",
     "iopub.status.busy": "2022-02-08T19:14:37.505020Z",
     "iopub.status.idle": "2022-02-08T19:14:37.548588Z",
     "shell.execute_reply": "2022-02-08T19:14:37.549135Z",
     "shell.execute_reply.started": "2022-02-08T18:44:36.519234Z"
    },
    "papermill": {
     "duration": 0.076208,
     "end_time": "2022-02-08T19:14:37.549330",
     "exception": false,
     "start_time": "2022-02-08T19:14:37.473122",
     "status": "completed"
    },
    "tags": []
   },
   "outputs": [],
   "source": [
    "# Теперь выделим тестовую часть\n",
    "train_data = data.query('sample == 1').drop(['sample'], axis=1)\n",
    "test_data = data.query('sample == 0').drop(['sample'], axis=1)\n",
    "\n",
    "y = train_data.reviewer_score.values            # наш таргет\n",
    "X = train_data.drop(['reviewer_score'], axis=1)"
   ]
  },
  {
   "cell_type": "code",
   "execution_count": null,
   "id": "5045cc9a",
   "metadata": {
    "execution": {
     "iopub.execute_input": "2022-02-08T19:14:37.610632Z",
     "iopub.status.busy": "2022-02-08T19:14:37.607245Z",
     "iopub.status.idle": "2022-02-08T19:14:37.664876Z",
     "shell.execute_reply": "2022-02-08T19:14:37.664240Z",
     "shell.execute_reply.started": "2022-02-08T18:44:36.564379Z"
    },
    "papermill": {
     "duration": 0.089229,
     "end_time": "2022-02-08T19:14:37.665021",
     "exception": false,
     "start_time": "2022-02-08T19:14:37.575792",
     "status": "completed"
    },
    "tags": []
   },
   "outputs": [],
   "source": [
    "# Воспользуемся специальной функцие train_test_split для разбивки тестовых данных\n",
    "# выделим 20% данных на валидацию (параметр test_size)\n",
    "X_train, X_test, y_train, y_test = train_test_split(X, y, test_size=0.2, random_state=RANDOM_SEED)"
   ]
  },
  {
   "cell_type": "code",
   "execution_count": null,
   "id": "3da6a0b4",
   "metadata": {
    "execution": {
     "iopub.execute_input": "2022-02-08T19:14:37.724787Z",
     "iopub.status.busy": "2022-02-08T19:14:37.724146Z",
     "iopub.status.idle": "2022-02-08T19:14:37.726536Z",
     "shell.execute_reply": "2022-02-08T19:14:37.726982Z",
     "shell.execute_reply.started": "2022-02-08T18:44:36.614037Z"
    },
    "papermill": {
     "duration": 0.035799,
     "end_time": "2022-02-08T19:14:37.727149",
     "exception": false,
     "start_time": "2022-02-08T19:14:37.691350",
     "status": "completed"
    },
    "tags": []
   },
   "outputs": [],
   "source": [
    "# проверяем\n",
    "test_data.shape, train_data.shape, X.shape, X_train.shape, X_test.shape"
   ]
  },
  {
   "cell_type": "code",
   "execution_count": null,
   "id": "b56e5c7f",
   "metadata": {
    "execution": {
     "iopub.execute_input": "2022-02-08T19:14:37.784550Z",
     "iopub.status.busy": "2022-02-08T19:14:37.783925Z",
     "iopub.status.idle": "2022-02-08T19:14:37.975610Z",
     "shell.execute_reply": "2022-02-08T19:14:37.975066Z",
     "shell.execute_reply.started": "2022-02-08T18:44:36.620894Z"
    },
    "papermill": {
     "duration": 0.221772,
     "end_time": "2022-02-08T19:14:37.975773",
     "exception": false,
     "start_time": "2022-02-08T19:14:37.754001",
     "status": "completed"
    },
    "tags": []
   },
   "outputs": [],
   "source": [
    "# Импортируем необходимые библиотеки:\n",
    "from sklearn.ensemble import RandomForestRegressor # инструмент для создания и обучения модели\n",
    "from sklearn import metrics # инструменты для оценки точности модели"
   ]
  },
  {
   "cell_type": "code",
   "execution_count": null,
   "id": "cc67dfef",
   "metadata": {
    "execution": {
     "iopub.execute_input": "2022-02-08T19:14:38.033380Z",
     "iopub.status.busy": "2022-02-08T19:14:38.032424Z",
     "iopub.status.idle": "2022-02-08T19:14:38.036262Z",
     "shell.execute_reply": "2022-02-08T19:14:38.036790Z",
     "shell.execute_reply.started": "2022-02-08T18:44:36.631597Z"
    },
    "papermill": {
     "duration": 0.034367,
     "end_time": "2022-02-08T19:14:38.036955",
     "exception": false,
     "start_time": "2022-02-08T19:14:38.002588",
     "status": "completed"
    },
    "tags": []
   },
   "outputs": [],
   "source": [
    "# Создаём модель (НАСТРОЙКИ НЕ ТРОГАЕМ)\n",
    "model = RandomForestRegressor(n_estimators=100, verbose=1, n_jobs=-1, random_state=RANDOM_SEED)"
   ]
  },
  {
   "cell_type": "code",
   "execution_count": null,
   "id": "38c6100a",
   "metadata": {
    "execution": {
     "iopub.execute_input": "2022-02-08T19:14:38.100230Z",
     "iopub.status.busy": "2022-02-08T19:14:38.098907Z",
     "iopub.status.idle": "2022-02-08T19:15:29.981505Z",
     "shell.execute_reply": "2022-02-08T19:15:29.982012Z",
     "shell.execute_reply.started": "2022-02-08T18:44:36.685783Z"
    },
    "papermill": {
     "duration": 51.917696,
     "end_time": "2022-02-08T19:15:29.982201",
     "exception": false,
     "start_time": "2022-02-08T19:14:38.064505",
     "status": "completed"
    },
    "tags": []
   },
   "outputs": [],
   "source": [
    "# Обучаем модель на тестовом наборе данных\n",
    "model.fit(X_train, y_train)\n",
    "\n",
    "# Используем обученную модель для предсказания рейтинга ресторанов в тестовой выборке.\n",
    "# Предсказанные значения записываем в переменную y_pred\n",
    "y_pred = model.predict(X_test)"
   ]
  },
  {
   "cell_type": "code",
   "execution_count": null,
   "id": "0bfbd9da",
   "metadata": {
    "execution": {
     "iopub.execute_input": "2022-02-08T19:15:30.047401Z",
     "iopub.status.busy": "2022-02-08T19:15:30.045169Z",
     "iopub.status.idle": "2022-02-08T19:15:30.054658Z",
     "shell.execute_reply": "2022-02-08T19:15:30.053627Z",
     "shell.execute_reply.started": "2022-02-08T18:45:41.407883Z"
    },
    "papermill": {
     "duration": 0.043029,
     "end_time": "2022-02-08T19:15:30.054903",
     "exception": false,
     "start_time": "2022-02-08T19:15:30.011874",
     "status": "completed"
    },
    "tags": []
   },
   "outputs": [],
   "source": [
    "# Сравниваем предсказанные значения (y_pred) с реальными (y_test), и смотрим насколько они в среднем отличаются\n",
    "# Метрика называется Mean Absolute Error (MAE) и показывает среднее отклонение предсказанных значений от фактических.\n",
    "# 0.9375288038577327\n",
    "# 0.9367014408638286 13.57772\n",
    "# 0.9341466645245755 13.57713\n",
    "# 0.9319801179504126 13.56713\n",
    "# 0.9357929727726715\n",
    "# 0.9308493926741724 13.57073\n",
    "# 0.9284403507119681 13.56394\n",
    "print('MAPE:', metrics.mean_absolute_error(y_test, y_pred))"
   ]
  },
  {
   "cell_type": "code",
   "execution_count": null,
   "id": "db88cbfc",
   "metadata": {
    "execution": {
     "iopub.execute_input": "2022-02-08T19:15:30.118909Z",
     "iopub.status.busy": "2022-02-08T19:15:30.118206Z",
     "iopub.status.idle": "2022-02-08T19:15:30.566895Z",
     "shell.execute_reply": "2022-02-08T19:15:30.567333Z",
     "shell.execute_reply.started": "2022-02-08T18:45:41.416087Z"
    },
    "papermill": {
     "duration": 0.483326,
     "end_time": "2022-02-08T19:15:30.567502",
     "exception": false,
     "start_time": "2022-02-08T19:15:30.084176",
     "status": "completed"
    },
    "tags": []
   },
   "outputs": [],
   "source": [
    "# в RandomForestRegressor есть возможность вывести самые важные признаки для модели\n",
    "plt.rcParams['figure.figsize'] = (10,10)\n",
    "feat_importances = pd.Series(model.feature_importances_, index=X.columns)\n",
    "feat_importances.nlargest(15).plot(kind='barh')"
   ]
  },
  {
   "cell_type": "code",
   "execution_count": null,
   "id": "bd9c9908",
   "metadata": {
    "execution": {
     "iopub.execute_input": "2022-02-08T19:15:30.625115Z",
     "iopub.status.busy": "2022-02-08T19:15:30.624515Z",
     "iopub.status.idle": "2022-02-08T19:15:30.639827Z",
     "shell.execute_reply": "2022-02-08T19:15:30.640317Z",
     "shell.execute_reply.started": "2022-02-08T18:45:41.866035Z"
    },
    "papermill": {
     "duration": 0.045936,
     "end_time": "2022-02-08T19:15:30.640491",
     "exception": false,
     "start_time": "2022-02-08T19:15:30.594555",
     "status": "completed"
    },
    "tags": []
   },
   "outputs": [],
   "source": [
    "test_data.sample(10)"
   ]
  },
  {
   "cell_type": "code",
   "execution_count": null,
   "id": "a9a6da4d",
   "metadata": {
    "execution": {
     "iopub.execute_input": "2022-02-08T19:15:30.705058Z",
     "iopub.status.busy": "2022-02-08T19:15:30.704107Z",
     "iopub.status.idle": "2022-02-08T19:15:30.711398Z",
     "shell.execute_reply": "2022-02-08T19:15:30.711831Z",
     "shell.execute_reply.started": "2022-02-08T18:45:41.885567Z"
    },
    "papermill": {
     "duration": 0.041402,
     "end_time": "2022-02-08T19:15:30.712005",
     "exception": false,
     "start_time": "2022-02-08T19:15:30.670603",
     "status": "completed"
    },
    "tags": []
   },
   "outputs": [],
   "source": [
    "test_data = test_data.drop(['reviewer_score'], axis=1)"
   ]
  },
  {
   "cell_type": "code",
   "execution_count": null,
   "id": "82996041",
   "metadata": {
    "execution": {
     "iopub.execute_input": "2022-02-08T19:15:30.776119Z",
     "iopub.status.busy": "2022-02-08T19:15:30.775182Z",
     "iopub.status.idle": "2022-02-08T19:15:30.784841Z",
     "shell.execute_reply": "2022-02-08T19:15:30.785251Z",
     "shell.execute_reply.started": "2022-02-08T18:45:41.893309Z"
    },
    "papermill": {
     "duration": 0.043997,
     "end_time": "2022-02-08T19:15:30.785439",
     "exception": false,
     "start_time": "2022-02-08T19:15:30.741442",
     "status": "completed"
    },
    "tags": []
   },
   "outputs": [],
   "source": [
    "sample_submission"
   ]
  },
  {
   "cell_type": "code",
   "execution_count": null,
   "id": "17e3b4fd",
   "metadata": {
    "execution": {
     "iopub.execute_input": "2022-02-08T19:15:30.850529Z",
     "iopub.status.busy": "2022-02-08T19:15:30.849583Z",
     "iopub.status.idle": "2022-02-08T19:15:33.976874Z",
     "shell.execute_reply": "2022-02-08T19:15:33.976213Z",
     "shell.execute_reply.started": "2022-02-08T18:45:41.912914Z"
    },
    "papermill": {
     "duration": 3.16064,
     "end_time": "2022-02-08T19:15:33.977025",
     "exception": false,
     "start_time": "2022-02-08T19:15:30.816385",
     "status": "completed"
    },
    "tags": []
   },
   "outputs": [],
   "source": [
    "predict_submission = model.predict(test_data)"
   ]
  },
  {
   "cell_type": "code",
   "execution_count": null,
   "id": "f8143893",
   "metadata": {
    "execution": {
     "iopub.execute_input": "2022-02-08T19:15:34.049725Z",
     "iopub.status.busy": "2022-02-08T19:15:34.048890Z",
     "iopub.status.idle": "2022-02-08T19:15:34.052717Z",
     "shell.execute_reply": "2022-02-08T19:15:34.053456Z",
     "shell.execute_reply.started": "2022-02-08T18:45:44.231424Z"
    },
    "papermill": {
     "duration": 0.043612,
     "end_time": "2022-02-08T19:15:34.053708",
     "exception": false,
     "start_time": "2022-02-08T19:15:34.010096",
     "status": "completed"
    },
    "tags": []
   },
   "outputs": [],
   "source": [
    "predict_submission"
   ]
  },
  {
   "cell_type": "code",
   "execution_count": null,
   "id": "acc71a3c",
   "metadata": {
    "execution": {
     "iopub.execute_input": "2022-02-08T19:15:34.130523Z",
     "iopub.status.busy": "2022-02-08T19:15:34.129920Z",
     "iopub.status.idle": "2022-02-08T19:15:34.132622Z",
     "shell.execute_reply": "2022-02-08T19:15:34.133260Z",
     "shell.execute_reply.started": "2022-02-08T18:45:44.239621Z"
    },
    "papermill": {
     "duration": 0.044364,
     "end_time": "2022-02-08T19:15:34.133444",
     "exception": false,
     "start_time": "2022-02-08T19:15:34.089080",
     "status": "completed"
    },
    "tags": []
   },
   "outputs": [],
   "source": [
    "list(sample_submission)"
   ]
  },
  {
   "cell_type": "code",
   "execution_count": null,
   "id": "9c5daa79",
   "metadata": {
    "execution": {
     "iopub.execute_input": "2022-02-08T19:15:34.202732Z",
     "iopub.status.busy": "2022-02-08T19:15:34.202121Z",
     "iopub.status.idle": "2022-02-08T19:15:34.484062Z",
     "shell.execute_reply": "2022-02-08T19:15:34.484469Z",
     "shell.execute_reply.started": "2022-02-08T18:45:44.250765Z"
    },
    "papermill": {
     "duration": 0.318018,
     "end_time": "2022-02-08T19:15:34.484637",
     "exception": false,
     "start_time": "2022-02-08T19:15:34.166619",
     "status": "completed"
    },
    "tags": []
   },
   "outputs": [],
   "source": [
    "sample_submission['reviewer_score'] = predict_submission\n",
    "sample_submission.to_csv('submission.csv', index=False)\n",
    "sample_submission.head(10)"
   ]
  }
 ],
 "metadata": {
  "kernelspec": {
   "display_name": "Python 3",
   "language": "python",
   "name": "python3"
  },
  "language_info": {
   "codemirror_mode": {
    "name": "ipython",
    "version": 3
   },
   "file_extension": ".py",
   "mimetype": "text/x-python",
   "name": "python",
   "nbconvert_exporter": "python",
   "pygments_lexer": "ipython3",
   "version": "3.11.0"
  },
  "papermill": {
   "default_parameters": {},
   "duration": 82.712304,
   "end_time": "2022-02-08T19:15:35.720354",
   "environment_variables": {},
   "exception": null,
   "input_path": "__notebook__.ipynb",
   "output_path": "__notebook__.ipynb",
   "parameters": {},
   "start_time": "2022-02-08T19:14:13.008050",
   "version": "2.3.3"
  }
 },
 "nbformat": 4,
 "nbformat_minor": 5
}
