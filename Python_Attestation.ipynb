{
 "cells": [
  {
   "cell_type": "code",
   "execution_count": 14,
   "metadata": {},
   "outputs": [
    {
     "data": {
      "text/plain": [
       "20.0    6940\n",
       "15.0    6066\n",
       "25.0    5805\n",
       "30.0    4951\n",
       "18.0    4883\n",
       "12.0    3934\n",
       "40.0    3872\n",
       "35.0    3801\n",
       "13.0    3549\n",
       "16.0    3547\n",
       "Name: price, dtype: int64"
      ]
     },
     "execution_count": 14,
     "metadata": {},
     "output_type": "execute_result"
    }
   ],
   "source": [
    "import pandas as pd\n",
    "\n",
    "df = pd.read_csv('EDA-1/data/wine.csv')\n",
    "\n",
    "for i in range(10):\n",
    "    # print(df.iloc[i, 3])   \n",
    "    pass\n",
    "\n",
    "df['price'].value_counts(ascending=False).nlargest(10)\n"
   ]
  },
  {
   "cell_type": "code",
   "execution_count": 15,
   "metadata": {},
   "outputs": [
    {
     "name": "stdout",
     "output_type": "stream",
     "text": [
      "Index(['UK', 'CA', 'US', 'RU', 'UA', 'BY', 'KZ'], dtype='object') <class 'pandas.core.indexes.base.Index'>\n",
      "(0, 'UK')\n",
      "(1, 'CA')\n",
      "(2, 'US')\n",
      "(3, 'RU')\n",
      "(4, 'UA')\n",
      "(5, 'BY')\n",
      "(6, 'KZ')\n",
      "Канада <class 'str'>\n",
      "None <class 'NoneType'>\n",
      "Англия <class 'str'>\n"
     ]
    }
   ],
   "source": [
    "def check(what):\n",
    "    print(what, type(what))\n",
    "\n",
    "s = pd.Series({\n",
    "'UK': 'Англия',\n",
    "'CA': 'Канада',\n",
    "'US' : 'США',\n",
    "'RU': 'Россия',\n",
    "'UA': 'Украина',\n",
    "'BY': 'Беларусь',\n",
    "'KZ': 'Казахстан'},\n",
    "name = 'countries'\n",
    ")\n",
    "check(s.keys())\n",
    "for i in enumerate(s.keys()):\n",
    "    print(i)\n",
    "\n",
    "check(s.iloc[1])\n",
    "\n",
    "check(s.get('uk'))\n",
    "check(s.get('UK'))"
   ]
  },
  {
   "cell_type": "code",
   "execution_count": 16,
   "metadata": {},
   "outputs": [
    {
     "name": "stdout",
     "output_type": "stream",
     "text": [
      "     country  population     square\n",
      "0     Англия       56.29        NaN\n",
      "1     Канада       38.05  9984670.0\n",
      "2        США      322.28  9826630.0\n",
      "3     Россия      146.24        NaN\n",
      "4    Украина       45.50   603628.0\n",
      "5   Беларусь        9.50   207600.0\n",
      "6  Казахстан       17.04        NaN\n"
     ]
    }
   ],
   "source": [
    "df = pd.DataFrame(\n",
    "    data=[\n",
    "        ['Англия', 56.29, None],\n",
    "        ['Канада', 38.05, 9984670],\n",
    "        ['США', 322.28, 9826630],\n",
    "        ['Россия', 146.24, None],\n",
    "        ['Украина', 45.5, 603628],\n",
    "        ['Беларусь', 9.5, 207600],\n",
    "        ['Казахстан', 17.04, None]\n",
    "    ],\n",
    "    columns=['country', 'population', 'square']#,\n",
    "    #index=['UK', 'CA', 'US', 'RU', 'UA', 'BY', 'KZ']\n",
    ")\n",
    "print(df)"
   ]
  },
  {
   "cell_type": "code",
   "execution_count": 17,
   "metadata": {},
   "outputs": [
    {
     "data": {
      "text/plain": [
       "9984670.0    1\n",
       "9826630.0    1\n",
       "603628.0     1\n",
       "207600.0     1\n",
       "Name: square, dtype: int64"
      ]
     },
     "execution_count": 17,
     "metadata": {},
     "output_type": "execute_result"
    }
   ],
   "source": [
    "# print(df.iloc[1,1])\n",
    "# df.iloc[1,1] = 39\n",
    "# print(df.iloc[1,1])\n",
    "# for i in df:\n",
    "#     # print(df.loc[0, i])\n",
    "#     pass\n",
    "for i in df.index:\n",
    "    if pd.isna(df.loc[i, 'square']):\n",
    "        # print(i, df.loc[i, 'square'])\n",
    "        pass\n",
    "\n",
    "df['square'].value_counts()"
   ]
  },
  {
   "cell_type": "code",
   "execution_count": 18,
   "metadata": {},
   "outputs": [],
   "source": [
    "#import pandas as pd\n",
    "#df = pd.read_html('_date/report.htm')\n",
    "#print(df)"
   ]
  },
  {
   "cell_type": "code",
   "execution_count": 21,
   "metadata": {},
   "outputs": [
    {
     "name": "stdout",
     "output_type": "stream",
     "text": [
      "{'o', 'h', 'e', 'l'}\n",
      "{'o', 'h', 'e', 'l'}\n",
      "{'o', 'h', 'e'}\n",
      "{'h', 'e'}\n",
      "frozenset({'h', 'e'})\n",
      "{frozenset({'h', 'e'}): 1}\n"
     ]
    }
   ],
   "source": [
    "s = set('hello')\n",
    "print(s)\n",
    "s.discard('a')\n",
    "print(s)\n",
    "s.remove('l')\n",
    "print(s)\n",
    "s.pop()\n",
    "print(s)\n",
    "fs = frozenset(s)\n",
    "print(fs)\n",
    "dict = {fs:1}\n",
    "print(dict)"
   ]
  },
  {
   "cell_type": "code",
   "execution_count": 22,
   "metadata": {},
   "outputs": [
    {
     "name": "stdout",
     "output_type": "stream",
     "text": [
      "(1, 2, 3, 4)\n",
      "1,2,3,4\n",
      "{'param': 'One', 'param2': 'Two', 'd3': 'Three'}\n",
      "6\n"
     ]
    }
   ],
   "source": [
    "what = (1,2,3,4)\n",
    "print(what)\n",
    "print(*what, **{'sep':','})\n",
    "def sum1(*args, **params):\n",
    "    print(params)\n",
    "    result = 0\n",
    "    for i in args:\n",
    "        result += i\n",
    "    return result\n",
    "\n",
    "print(sum1(1,2,3, param='One', param2='Two', d3='Three'))"
   ]
  },
  {
   "cell_type": "code",
   "execution_count": 23,
   "metadata": {},
   "outputs": [
    {
     "name": "stdout",
     "output_type": "stream",
     "text": [
      "['one', 'One', 'ONE', 'Three', 'Two']\n"
     ]
    }
   ],
   "source": [
    "words = ['one', 'One', 'Two', 'Three', 'ONE']\n",
    "words.sort(key  =lambda word: word.upper())\n",
    "print(words)"
   ]
  },
  {
   "cell_type": "code",
   "execution_count": 26,
   "metadata": {},
   "outputs": [
    {
     "name": "stdout",
     "output_type": "stream",
     "text": [
      "[(1,), (1, 2), (3, 4), (10, 10), (1, 100), (1000000,)]\n",
      "[1, 5, 25, 200, 10001, 1000000000000]\n"
     ]
    }
   ],
   "source": [
    "def sort_sides(args):\n",
    "    args.sort(key=lambda x : sum([i**2 for i in x]))\n",
    "    return args\n",
    "\n",
    "list1 = [(1,), (1_000_000,),(3,4), (1,2), (10,10), (1, 100)]\n",
    "print(sort_sides(list1))\n",
    "# print(sum((1,2,3)))\n",
    "print([sum([i**2 for i in x]) for x in list1])"
   ]
  },
  {
   "cell_type": "code",
   "execution_count": 33,
   "metadata": {},
   "outputs": [
    {
     "name": "stdout",
     "output_type": "stream",
     "text": [
      "one\n",
      "onetwo\n"
     ]
    }
   ],
   "source": [
    "key = 'one'\n",
    "def test(n):\n",
    "    test_var = 0\n",
    "    \n",
    "    global key\n",
    "    key = key + 'two'\n",
    "\n",
    "print(key)\n",
    "test(1)\n",
    "print(key)"
   ]
  },
  {
   "cell_type": "code",
   "execution_count": 34,
   "metadata": {},
   "outputs": [
    {
     "name": "stdout",
     "output_type": "stream",
     "text": [
      "Input:\n",
      "Positional: (16, 4)\n",
      "Named: {}\n",
      "Result: 2.0\n",
      "2.0\n"
     ]
    }
   ],
   "source": [
    "# Декорирующая функция принимает в качестве\n",
    "# аргумента название функции\n",
    "def simple_decorator(func):\n",
    " \n",
    "    # Функция, в которой происходит модификация поведения\n",
    "    # функции func. Она будет принимать те же аргументы,\n",
    "    # что и функция func, которую декорирует decorated_function.\n",
    "    # Чтобы принять все возможные аргументы, используем сочетание\n",
    "    # *args и *kwargs.\n",
    "    def decorated_function(*args, **kwargs):\n",
    "        # Печатаем принятые аргументы\n",
    "        print(\"Input:\")\n",
    "        print(\"Positional:\", args)\n",
    "        print(\"Named:\", kwargs)\n",
    "        # С помощью конструкции *args/**kwargs\n",
    "        # считаем результат выполнения функции func\n",
    "        result = func(*args, **kwargs)\n",
    "        # Печатаем результат выполнения функции\n",
    "        print(\"Result:\", result)\n",
    "        # Не забываем вернуть результат, чтобы\n",
    "        # не повлиять на поведение декорируемой функции!\n",
    "        return result\n",
    "    # Внешняя функция возвращает функцию\n",
    "    # decorated_function\n",
    "    return decorated_function\n",
    "\n",
    "@simple_decorator\n",
    "def root(value, n=2):\n",
    "    result = value ** (1/n)\n",
    "    return result\n",
    "\n",
    "\n",
    "print(root(16, 4))\n"
   ]
  },
  {
   "cell_type": "code",
   "execution_count": 35,
   "metadata": {},
   "outputs": [
    {
     "name": "stdout",
     "output_type": "stream",
     "text": [
      "{0: 's', 1: 'a', 2: 'm', 3: 'p', 4: 'l', 5: 'e'} <class 'dict'>\n",
      "[0, 1, 2, 3, 4] <class 'list'>\n"
     ]
    }
   ],
   "source": [
    "dict_comprehension = {key:val for key, val in enumerate('sample')}\n",
    "print(dict_comprehension, type(dict_comprehension))\n",
    "\n",
    "list_comprehension = [i for i in range(5)]\n",
    "print(list_comprehension, type(list_comprehension))"
   ]
  },
  {
   "cell_type": "code",
   "execution_count": 36,
   "metadata": {},
   "outputs": [
    {
     "name": "stdout",
     "output_type": "stream",
     "text": [
      "[1]\n"
     ]
    }
   ],
   "source": [
    "abc = list()\n",
    "abc.append(1)\n",
    "print(abc)"
   ]
  }
 ],
 "metadata": {
  "kernelspec": {
   "display_name": "Python 3",
   "language": "python",
   "name": "python3"
  },
  "language_info": {
   "codemirror_mode": {
    "name": "ipython",
    "version": 3
   },
   "file_extension": ".py",
   "mimetype": "text/x-python",
   "name": "python",
   "nbconvert_exporter": "python",
   "pygments_lexer": "ipython3",
   "version": "3.10.0"
  },
  "orig_nbformat": 4,
  "vscode": {
   "interpreter": {
    "hash": "369f2c481f4da34e4445cda3fffd2e751bd1c4d706f27375911949ba6bb62e1c"
   }
  }
 },
 "nbformat": 4,
 "nbformat_minor": 2
}
