{
 "cells": [
  {
   "cell_type": "code",
   "execution_count": 4,
   "metadata": {},
   "outputs": [
    {
     "name": "stdout",
     "output_type": "stream",
     "text": [
      "10 7.466\n"
     ]
    }
   ],
   "source": [
    "data = '''\n",
    "7.84\n",
    "\n",
    "Дания\n",
    "\n",
    "7.62\n",
    "\n",
    "Швейцария\n",
    "\n",
    "7.57\n",
    "\n",
    "Исландия\n",
    "\n",
    "7.55\n",
    "\n",
    "Нидерланды\n",
    "\n",
    "7.46\n",
    "\n",
    "Норвегия\n",
    "\n",
    "7.39\n",
    "\n",
    "Швеция\n",
    "\n",
    "7.36\n",
    "\n",
    "Люксембург\n",
    "\n",
    "7.32\n",
    "\n",
    "Новая Зеландия\n",
    "\n",
    "7.28\n",
    "\n",
    "Австрия\n",
    "\n",
    "7.27\n",
    "'''\n",
    "data = data.split('\\n')\n",
    "#print(data)\n",
    "count, sum = 0, 0\n",
    "for line in data:\n",
    "    try:\n",
    "        sum += float(line.strip())\n",
    "        count += 1\n",
    "    except:\n",
    "        continue\n",
    "print(count, round(sum/count, 3))"
   ]
  }
 ],
 "metadata": {
  "kernelspec": {
   "display_name": "Python 3",
   "language": "python",
   "name": "python3"
  },
  "language_info": {
   "codemirror_mode": {
    "name": "ipython",
    "version": 3
   },
   "file_extension": ".py",
   "mimetype": "text/x-python",
   "name": "python",
   "nbconvert_exporter": "python",
   "pygments_lexer": "ipython3",
   "version": "3.10.0"
  },
  "orig_nbformat": 4,
  "vscode": {
   "interpreter": {
    "hash": "369f2c481f4da34e4445cda3fffd2e751bd1c4d706f27375911949ba6bb62e1c"
   }
  }
 },
 "nbformat": 4,
 "nbformat_minor": 2
}
