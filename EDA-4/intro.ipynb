{
 "cells": [
  {
   "cell_type": "code",
   "execution_count": 18,
   "metadata": {},
   "outputs": [
    {
     "name": "stdout",
     "output_type": "stream",
     "text": [
      "10 7.466\n"
     ]
    }
   ],
   "source": [
    "data = '''\n",
    "7.84\n",
    "\n",
    "Дания\n",
    "\n",
    "7.62\n",
    "\n",
    "Швейцария\n",
    "\n",
    "7.57\n",
    "\n",
    "Исландия\n",
    "\n",
    "7.55\n",
    "\n",
    "Нидерланды\n",
    "\n",
    "7.46\n",
    "\n",
    "Норвегия\n",
    "\n",
    "7.39\n",
    "\n",
    "Швеция\n",
    "\n",
    "7.36\n",
    "\n",
    "Люксембург\n",
    "\n",
    "7.32\n",
    "\n",
    "Новая Зеландия\n",
    "\n",
    "7.28\n",
    "\n",
    "Австрия\n",
    "\n",
    "7.27\n",
    "'''\n",
    "data = data.split('\\n')\n",
    "ik, total = 0, 0\n",
    "for line in data:\n",
    "    try:\n",
    "        total += float(line.strip())\n",
    "        ik += 1\n",
    "    except:\n",
    "        continue\n",
    "print(ik, round(total/ik, 3))"
   ]
  },
  {
   "cell_type": "code",
   "execution_count": 19,
   "metadata": {},
   "outputs": [
    {
     "name": "stdout",
     "output_type": "stream",
     "text": [
      "{1: 2, 3: 4}\n",
      "{1: 4, 3: 2}\n"
     ]
    },
    {
     "data": {
      "text/plain": [
       "<function dict.copy>"
      ]
     },
     "execution_count": 19,
     "metadata": {},
     "output_type": "execute_result"
    }
   ],
   "source": [
    "d = dict({1:2, 3:4})\n",
    "print(d)\n",
    "d[1], d[3] = d[3], d[1]\n",
    "print(d)\n",
    "d.copy"
   ]
  },
  {
   "cell_type": "code",
   "execution_count": 20,
   "metadata": {},
   "outputs": [
    {
     "name": "stdout",
     "output_type": "stream",
     "text": [
      "98443\n"
     ]
    }
   ],
   "source": [
    "def descending_order(num):\n",
    "    # Bust a move right here\n",
    "    lst = list(str(num))\n",
    "    lst.sort()\n",
    "    lst.reverse()\n",
    "    return int(''.join(lst))\n",
    "\n",
    "print(descending_order(48394))"
   ]
  },
  {
   "cell_type": "code",
   "execution_count": 21,
   "metadata": {},
   "outputs": [],
   "source": [
    "def duplicate_count(text):\n",
    "    keys = set()\n",
    "    count = 0\n",
    "    for c in text.lower():\n",
    "        if c not in keys:\n",
    "            keys.add(c)\n",
    "        else:\n",
    "            count += 1\n",
    "    return count\n",
    "\n",
    "\n",
    "# abcde\" -> 0 # no characters repeats more than once\n",
    "# \"aabbcde\" -> 2 # 'a' and 'b'\n",
    "# \"aabBcde\" -> 2 # 'a' occurs twice and 'b' twice (`b` and `B`)\n",
    "# \"indivisibility\" -> 1 # 'i' occurs six times\n",
    "# \"Indivisibilities\" -> 2 # 'i' occurs seven times and 's' occurs twice\n",
    "# \"aA11\" -> 2 # 'a' and '1'\n",
    "# \"ABBA\" -> 2 # 'A' and 'B' each occ"
   ]
  },
  {
   "cell_type": "code",
   "execution_count": 22,
   "metadata": {},
   "outputs": [
    {
     "data": {
      "text/plain": [
       "2"
      ]
     },
     "execution_count": 22,
     "metadata": {},
     "output_type": "execute_result"
    }
   ],
   "source": [
    "def get_count(sentence):\n",
    "    x = [x in 'aeiouAEIOU' for x in sentence]\n",
    "    return sum(x)\n",
    "\n",
    "get_count('abcde')"
   ]
  },
  {
   "cell_type": "code",
   "execution_count": 23,
   "metadata": {},
   "outputs": [
    {
     "name": "stdout",
     "output_type": "stream",
     "text": [
      "True\n",
      "True\n",
      "True\n"
     ]
    }
   ],
   "source": [
    "def find_outlier(integers):\n",
    "    for i in integers:\n",
    "        if sum(x % 2 for x in integers[:3]) > 1:\n",
    "            if i % 2 == 0:\n",
    "                return i\n",
    "        else:\n",
    "            if i % 2 == 1:\n",
    "                return i\n",
    "    raise Exception('Not Found')\n",
    "\n",
    "print(find_outlier([2, 4, 6, 8, 10, 3]) == 3)\n",
    "print(find_outlier([2, 4, 0, 100, 4, 11, 2602, 36]) == 11)\n",
    "print(find_outlier([160, 3, 1719, 19, 11, 13, -21]) == 160)\n",
    "\n"
   ]
  },
  {
   "cell_type": "code",
   "execution_count": 24,
   "metadata": {},
   "outputs": [
    {
     "name": "stdout",
     "output_type": "stream",
     "text": [
      "True\n",
      "True\n"
     ]
    }
   ],
   "source": [
    "import re\n",
    "def order1(sentence):\n",
    "  if len(sentence) == 0:\n",
    "    return ''  \n",
    "  worlds = sentence.split()\n",
    "  result = [''] * len(worlds)\n",
    "  for world in worlds:\n",
    "        result[int(re.findall(r'\\d', world)[0]) - 1] = world\n",
    "  return ' '.join(result)\n",
    "\n",
    "def order2(words):\n",
    "  return ' '.join(sorted(words.split(), key=lambda w:sorted(w)))\n",
    "\n",
    "def order(sentence):\n",
    "  return \" \".join(sorted(sentence.split(), key=min))\n",
    "  \n",
    "print(order(\"\") == \"\")\n",
    "print(order(\"is2 Thi1s T4est 3a\") == \"Thi1s is2 3a T4est\")"
   ]
  },
  {
   "cell_type": "code",
   "execution_count": 25,
   "metadata": {},
   "outputs": [],
   "source": [
    "def assert_equals(v1, v2, error_msg=None):\n",
    "    if v1 != v2:\n",
    "        raise Exception('\"{}\" not equals \"{}\"'.format(v1, v2) if error_msg == None else error_msg)\n",
    "\n",
    "def get_middle(s):\n",
    "    start = int(len(s) / 2) - (1 if len(s) % 2 == 0 else 0)\n",
    "    end = start + (2 if len(s) % 2 == 0 else 1)\n",
    "    return s[start: end]\n",
    "\n",
    "assert_equals(get_middle(\"test\"),\"es\")\n",
    "assert_equals(get_middle(\"testing\"),\"t\")\n",
    "assert_equals(get_middle(\"middle\"),\"dd\")\n",
    "assert_equals(get_middle(\"A\"),\"A\")\n",
    "assert_equals(get_middle(\"of\"),\"of\")"
   ]
  },
  {
   "cell_type": "code",
   "execution_count": 26,
   "metadata": {},
   "outputs": [
    {
     "data": {
      "text/plain": [
       "1"
      ]
     },
     "execution_count": 26,
     "metadata": {},
     "output_type": "execute_result"
    }
   ],
   "source": [
    "def count_bits(n):\n",
    "    return format(n, 'b').count('1')\n",
    "\n",
    "count_bits(4)"
   ]
  },
  {
   "cell_type": "code",
   "execution_count": 27,
   "metadata": {},
   "outputs": [],
   "source": [
    "def find_it(seq):\n",
    "    d = dict()\n",
    "    for i in seq:\n",
    "        if i not in d:\n",
    "            d[i] = 0\n",
    "        d[i] += 1\n",
    "    for k,v in d.items():\n",
    "        if v % 2 != 0:\n",
    "            return k\n",
    "\n",
    "assert_equals(find_it([20,1,-1,2,-2,3,3,5,5,1,2,4,20,4,-1,-2,5]), 5)"
   ]
  },
  {
   "cell_type": "code",
   "execution_count": 28,
   "metadata": {},
   "outputs": [],
   "source": [
    "countxx = lambda string : {ch: string.count(ch) for ch in string}\n",
    "def count2(string):\n",
    "    result = {}\n",
    "    for ch in string:\n",
    "        result[ch] = string.count(ch)\n",
    "    return result\n",
    "\n",
    "assert_equals(countxx('aba'), {'a': 2, 'b': 1})\n",
    "assert_equals(countxx(''), {})"
   ]
  },
  {
   "cell_type": "code",
   "execution_count": 29,
   "metadata": {},
   "outputs": [],
   "source": [
    "def sum_dig_pow2(a, b): # range(a, b + 1) will be studied by the function\n",
    "    return sorted( \n",
    "                map(\n",
    "                    lambda y : y[0],\n",
    "                    filter(lambda x : x[0] == x[1],\n",
    "                            [[sum([int(v) ** (i+1) for i,v in enumerate(str(c))]), c] for c in range(a, b + 1)]\n",
    "                )\n",
    "            )\n",
    "        )\n",
    "\n",
    "sum_dig_pow = lambda a, b: sorted(map(lambda y : y[0], filter(lambda x : x[0] == x[1],[[sum([int(v) ** (i+1) for i,v in enumerate(str(c))]), c] for c in range(a, b + 1)])))\n",
    "\n",
    "sum_dig_pow = lambda a, b: [c for c in range(a, b + 1) if c == sum([int(v) ** (i + 1) for i, v in enumerate(str(c))])]\n",
    "\n",
    "\n",
    "# assert_equals(sum_dig_pow(1, 10), [1, 2, 3, 4, 5, 6, 7, 8, 9])\n",
    "assert_equals(sum_dig_pow(1, 100), [1, 2, 3, 4, 5, 6, 7, 8, 9, 89])\n",
    "assert_equals(sum_dig_pow(10, 89),  [89])\n",
    "assert_equals(sum_dig_pow(10, 100),  [89])\n",
    "assert_equals(sum_dig_pow(90, 100), [])\n",
    "assert_equals(sum_dig_pow(89, 135), [89, 135])"
   ]
  },
  {
   "cell_type": "code",
   "execution_count": 30,
   "metadata": {},
   "outputs": [],
   "source": [
    "def is_prime2(num):\n",
    "  return num == 2 or num > 2 and len([i for i in range(2, int(num ** 0.5) + 1) if num % i == 0]) == 0\n",
    "\n",
    "is_prime = lambda num: num == 2 or num > 2 and len([i for i in range(2, int(num ** 0.5) + 1) if num % i == 0]) == 0  \n",
    "\n",
    "assert_equals(is_prime(0),  False, \"0  is not prime\")\n",
    "assert_equals(is_prime(1),  False, \"1  is not prime\")\n",
    "assert_equals(is_prime(2),  True, \"2  is prime\")\n",
    "assert_equals(is_prime(73), True, \"73 is prime\")\n",
    "assert_equals(is_prime(75), False, \"75 is not prime\")\n",
    "assert_equals(is_prime(-1), False, \"-1 is not prime\")"
   ]
  },
  {
   "cell_type": "code",
   "execution_count": 31,
   "metadata": {},
   "outputs": [],
   "source": [
    "\n",
    "def digital_root(n):\n",
    "    n = sum([int(v) for v in str(n)])\n",
    "    if n > 9:\n",
    "        return digital_root(n)\n",
    "    return n\n",
    "\n",
    "sum_digits = lambda n : sum([int(v) for v in str(n)])\n",
    "digital_root = lambda n : digital_root(sum_digits(n)) if sum_digits(n) > 9 else sum_digits(n)\n",
    "# digital_root = lambda n : n = sum_digits(n):  digital_root(n) if s > 9 else n\n",
    "\n",
    "assert_equals(digital_root(16), 7)\n",
    "assert_equals(digital_root(942), 6)\n",
    "assert_equals(digital_root(132189), 6)\n",
    "assert_equals(digital_root(493193), 2)"
   ]
  },
  {
   "cell_type": "code",
   "execution_count": 32,
   "metadata": {},
   "outputs": [],
   "source": [
    "def duplicate_encode(word):\n",
    "    #your code here\n",
    "    return ''.join(['(' if word.upper().count(c) == 1 else ')' for c in word.upper()])\n",
    "\n",
    "duplicate_encode = lambda w : ''.join(['(' if w.upper().count(c) == 1 else ')' for c in w.upper()])\n",
    "\n",
    "assert_equals(duplicate_encode(\"din\"),\"(((\")\n",
    "assert_equals(duplicate_encode(\"recede\"),\"()()()\")\n",
    "assert_equals(duplicate_encode(\"Success\"),\")())())\",\"should ignore case\")\n",
    "assert_equals(duplicate_encode(\"(( @\"),\"))((\")"
   ]
  },
  {
   "cell_type": "code",
   "execution_count": 37,
   "metadata": {},
   "outputs": [],
   "source": [
    "def delete_nth(order,max_e):\n",
    "    result = []\n",
    "    for v in order:\n",
    "        if result.count(v) < max_e:\n",
    "            result.append(v)\n",
    "    return result\n",
    "\n",
    "\n",
    "def delete_nthx(order,max_e):\n",
    "    result = [v for v in order if result.count(v) < max_e]\n",
    "    return result\n",
    "\n",
    "\n",
    "delete_nthx = lambda o, m: [v for v in o if count(v) < m]\n",
    "\n",
    "assert_equals(delete_nth([20,37,20,21], 1), [20,37,21])\n",
    "assert_equals(delete_nth([1,1,3,3,7,2,2,2,2], 3), [1, 1, 3, 3, 7, 2, 2, 2])"
   ]
  },
  {
   "cell_type": "code",
   "execution_count": 70,
   "metadata": {},
   "outputs": [
    {
     "ename": "Exception",
     "evalue": "\"True\" not equals \"False\"",
     "output_type": "error",
     "traceback": [
      "\u001b[1;31m---------------------------------------------------------------------------\u001b[0m",
      "\u001b[1;31mException\u001b[0m                                 Traceback (most recent call last)",
      "Cell \u001b[1;32mIn[70], line 16\u001b[0m\n\u001b[0;32m     14\u001b[0m assert_equals(scramble(\u001b[39m'\u001b[39m\u001b[39mscriptjava\u001b[39m\u001b[39m'\u001b[39m, \u001b[39m'\u001b[39m\u001b[39mjavascript\u001b[39m\u001b[39m'\u001b[39m), \u001b[39mTrue\u001b[39;00m)\n\u001b[0;32m     15\u001b[0m assert_equals(scramble(\u001b[39m'\u001b[39m\u001b[39mscriptingjava\u001b[39m\u001b[39m'\u001b[39m, \u001b[39m'\u001b[39m\u001b[39mjavascript\u001b[39m\u001b[39m'\u001b[39m), \u001b[39mTrue\u001b[39;00m)\n\u001b[1;32m---> 16\u001b[0m assert_equals(scramble(\u001b[39m'\u001b[39;49m\u001b[39mgjpxvqphszxnebedf\u001b[39;49m\u001b[39m'\u001b[39;49m, \u001b[39m'\u001b[39;49m\u001b[39mdsdevqgj\u001b[39;49m\u001b[39m'\u001b[39;49m), \u001b[39mFalse\u001b[39;49;00m)\n",
      "Cell \u001b[1;32mIn[25], line 3\u001b[0m, in \u001b[0;36massert_equals\u001b[1;34m(v1, v2, error_msg)\u001b[0m\n\u001b[0;32m      1\u001b[0m \u001b[39mdef\u001b[39;00m \u001b[39massert_equals\u001b[39m(v1, v2, error_msg\u001b[39m=\u001b[39m\u001b[39mNone\u001b[39;00m):\n\u001b[0;32m      2\u001b[0m     \u001b[39mif\u001b[39;00m v1 \u001b[39m!=\u001b[39m v2:\n\u001b[1;32m----> 3\u001b[0m         \u001b[39mraise\u001b[39;00m \u001b[39mException\u001b[39;00m(\u001b[39m'\u001b[39m\u001b[39m\"\u001b[39m\u001b[39m{}\u001b[39;00m\u001b[39m\"\u001b[39m\u001b[39m not equals \u001b[39m\u001b[39m\"\u001b[39m\u001b[39m{}\u001b[39;00m\u001b[39m\"\u001b[39m\u001b[39m'\u001b[39m\u001b[39m.\u001b[39mformat(v1, v2) \u001b[39mif\u001b[39;00m error_msg \u001b[39m==\u001b[39m \u001b[39mNone\u001b[39;00m \u001b[39melse\u001b[39;00m error_msg)\n",
      "\u001b[1;31mException\u001b[0m: \"True\" not equals \"False\""
     ]
    }
   ],
   "source": [
    "def scramble(s1, s2):\n",
    "    print(set(s1))\n",
    "    print(set(s2))\n",
    "    print(set(s1).intersection(set(s2)) == set(s2))\n",
    "\n",
    "    return set(s1) & set(s2) == set(s2)\n",
    "\n",
    "scramble = lambda s1, s2: set(s1) & set(s2) == set(s2)\n",
    "\n",
    "assert_equals(scramble('rkqodlw', 'world'), True)\n",
    "assert_equals(scramble('rkqodlw', 'world'), True)\n",
    "assert_equals(scramble('cedewaraaossoqqyt', 'codewars'), True)\n",
    "assert_equals(scramble('katas', 'steak'), False)\n",
    "assert_equals(scramble('scriptjava', 'javascript'), True)\n",
    "assert_equals(scramble('scriptingjava', 'javascript'), True)\n",
    "assert_equals(scramble('gjpxvqphszxnebedf', 'dsdevqgj'), False)"
   ]
  },
  {
   "cell_type": "code",
   "execution_count": 111,
   "metadata": {},
   "outputs": [
    {
     "ename": "SyntaxError",
     "evalue": "invalid syntax (2363781802.py, line 9)",
     "output_type": "error",
     "traceback": [
      "\u001b[1;36m  Cell \u001b[1;32mIn[111], line 9\u001b[1;36m\u001b[0m\n\u001b[1;33m    sel_reverse = lambda arr,l: i for k in [arr[i:i+l][::-1] for i in range(0, len(arr), l)]\u001b[0m\n\u001b[1;37m                                  ^\u001b[0m\n\u001b[1;31mSyntaxError\u001b[0m\u001b[1;31m:\u001b[0m invalid syntax\n"
     ]
    }
   ],
   "source": [
    "def assert_equals(v1, v2, error_msg=None):\n",
    "    if v1 != v2:\n",
    "        raise Exception('\"{}\" not equals \"{}\"'.format(v1, v2) if error_msg == None else error_msg)\n",
    "\n",
    "def sel_reverse(arr,l):\n",
    "    if l < 1:\n",
    "        return arr\n",
    "    for i in range(0, len(arr), l):\n",
    "        arr[i:i+l] = arr[i:i+l][::-1]\n",
    "    return arr\n",
    "\n",
    "sel_reverse = lambda arr,l: arr if l == 0 else [arr[i:i+l][::-1] for i in range(0, len(arr), l)]\n",
    "sel_reverse = lambda arr,l: [ arr[i:i+l][::-1] for i in range(0, len(arr), l)]\n",
    " [ elt for i in range(0, len(arr), l) for elt in arr[i:i+l][::-1] ] \n",
    "#elt for i in range(0, len(arr), l) for elt in arr[i:i+l][::-1] ] if l != 0 else arr\n",
    "\n",
    "assert_equals(sel_reverse([2,4,6,8,10,12,14,16], 3), [6,4,2, 12,10,8, 16,14])\n",
    "assert_equals(sel_reverse([2,4,6,8,10,12,14,16], 2), [4,2, 8,6, 12,10, 16,14])\n",
    "assert_equals(sel_reverse([1,2,3,4,5,6], 2), [2,1, 4,3, 6,5])\n",
    "assert_equals(sel_reverse([1,2,3,4,5,6], 0), [1,2,3,4,5,6])\n",
    "assert_equals(sel_reverse([1,2,3,4,5,6], 10), [6,5,4,3,2,1])\n",
    "assert_equals(sel_reverse([1,2,3,4,5,6], 6), [6,5,4,3,2,1])\n",
    "assert_equals(sel_reverse([1,2,3,4,5,6], 7), [6,5,4,3,2,1])"
   ]
  }
 ],
 "metadata": {
  "kernelspec": {
   "display_name": "Python 3",
   "language": "python",
   "name": "python3"
  },
  "language_info": {
   "codemirror_mode": {
    "name": "ipython",
    "version": 3
   },
   "file_extension": ".py",
   "mimetype": "text/x-python",
   "name": "python",
   "nbconvert_exporter": "python",
   "pygments_lexer": "ipython3",
   "version": "3.11.0"
  },
  "orig_nbformat": 4,
  "vscode": {
   "interpreter": {
    "hash": "c261aea317cc0286b3b3261fbba9abdec21eaa57589985bb7a274bf54d6cc0a7"
   }
  }
 },
 "nbformat": 4,
 "nbformat_minor": 2
}
