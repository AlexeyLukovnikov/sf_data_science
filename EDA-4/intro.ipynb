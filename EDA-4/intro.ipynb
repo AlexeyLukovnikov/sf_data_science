{
 "cells": [
  {
   "cell_type": "code",
   "execution_count": 4,
   "metadata": {},
   "outputs": [
    {
     "name": "stdout",
     "output_type": "stream",
     "text": [
      "10 7.466\n"
     ]
    }
   ],
   "source": [
    "data = '''\n",
    "7.84\n",
    "\n",
    "Дания\n",
    "\n",
    "7.62\n",
    "\n",
    "Швейцария\n",
    "\n",
    "7.57\n",
    "\n",
    "Исландия\n",
    "\n",
    "7.55\n",
    "\n",
    "Нидерланды\n",
    "\n",
    "7.46\n",
    "\n",
    "Норвегия\n",
    "\n",
    "7.39\n",
    "\n",
    "Швеция\n",
    "\n",
    "7.36\n",
    "\n",
    "Люксембург\n",
    "\n",
    "7.32\n",
    "\n",
    "Новая Зеландия\n",
    "\n",
    "7.28\n",
    "\n",
    "Австрия\n",
    "\n",
    "7.27\n",
    "'''\n",
    "data = data.split('\\n')\n",
    "#print(data)\n",
    "count, sum = 0, 0\n",
    "for line in data:\n",
    "    try:\n",
    "        sum += float(line.strip())\n",
    "        count += 1\n",
    "    except:\n",
    "        continue\n",
    "print(count, round(sum/count, 3))"
   ]
  },
  {
   "cell_type": "code",
   "execution_count": 1,
   "metadata": {},
   "outputs": [
    {
     "data": {
      "text/plain": [
       "0.010240000000000003"
      ]
     },
     "execution_count": 1,
     "metadata": {},
     "output_type": "execute_result"
    }
   ],
   "source": [
    "0.4 ** 5"
   ]
  },
  {
   "cell_type": "code",
   "execution_count": 5,
   "metadata": {},
   "outputs": [
    {
     "data": {
      "text/plain": [
       "0.0625"
      ]
     },
     "execution_count": 5,
     "metadata": {},
     "output_type": "execute_result"
    }
   ],
   "source": [
    "0.33 ** 12\n",
    "0.66 ** 12\n",
    "0.25 ** 4\n",
    "0.5 ** 4"
   ]
  }
 ],
 "metadata": {
  "kernelspec": {
   "display_name": "Python 3",
   "language": "python",
   "name": "python3"
  },
  "language_info": {
   "codemirror_mode": {
    "name": "ipython",
    "version": 3
   },
   "file_extension": ".py",
   "mimetype": "text/x-python",
   "name": "python",
   "nbconvert_exporter": "python",
   "pygments_lexer": "ipython3",
   "version": "3.11.0"
  },
  "orig_nbformat": 4,
  "vscode": {
   "interpreter": {
    "hash": "c261aea317cc0286b3b3261fbba9abdec21eaa57589985bb7a274bf54d6cc0a7"
   }
  }
 },
 "nbformat": 4,
 "nbformat_minor": 2
}
