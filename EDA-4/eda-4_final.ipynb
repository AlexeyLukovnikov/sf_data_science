{
 "cells": [
  {
   "cell_type": "code",
   "execution_count": 36,
   "metadata": {},
   "outputs": [],
   "source": [
    "# импорт пандас\n",
    "import pandas as pd\n",
    "\n",
    "# исходные данные\n",
    "data_petersburg = [0.0974, 0.1352, 0.0817, 0.1016, 0.0968, 0.1064, 0.105]\n",
    "data_magadan = [0.1033, 0.0915, 0.0781, 0.0685, 0.0677, 0.0697, 0.0764, 0.0689]"
   ]
  },
  {
   "cell_type": "code",
   "execution_count": 37,
   "metadata": {},
   "outputs": [],
   "source": [
    "# выравниваем размерность\n",
    "data_petersburg.append(None)"
   ]
  },
  {
   "attachments": {},
   "cell_type": "markdown",
   "metadata": {},
   "source": [
    "### Задание № 1: Объединение двух массивов в один + заполнение пропущенных данных"
   ]
  },
  {
   "cell_type": "code",
   "execution_count": 38,
   "metadata": {},
   "outputs": [],
   "source": [
    "data_all = pd.DataFrame({\n",
    "    'petersburg': data_petersburg,\n",
    "    'magadan': data_magadan\n",
    "})\n",
    "data_all.fillna(data_all['petersburg'].median(), inplace=True)"
   ]
  },
  {
   "attachments": {},
   "cell_type": "markdown",
   "metadata": {},
   "source": [
    "#### Задание № 2 Гипотеза на нормальность данных\n",
    "1) определяем нулевую и альтернативную гипотезы\n",
    "2) выбираем стандарнтный уровень значимости (5%)\n",
    "3) с помощью теста **Шапиро-Уилка** определяем распределение данных"
   ]
  },
  {
   "cell_type": "code",
   "execution_count": 39,
   "metadata": {},
   "outputs": [
    {
     "name": "stdout",
     "output_type": "stream",
     "text": [
      "p=0.101\n",
      "Данные распределены нормально\n"
     ]
    }
   ],
   "source": [
    "# Ставим условия (гипотезы) для проверки\n",
    "H0 = 'Данные распределены нормально'\n",
    "Ha = 'Данные не распределены нормально (мы отвергаем H0)'\n",
    "# Стандартный уровень значимости (5%)\n",
    "alpha = 0.05\n",
    "\n",
    "import scipy.stats as stat\n",
    "\n",
    "_, p = stat.shapiro(data_all)\n",
    "print('p=%.3f' % p)\n",
    "print(H0 if p > alpha else Ha)"
   ]
  },
  {
   "attachments": {},
   "cell_type": "markdown",
   "metadata": {},
   "source": [
    "#### Задание № 3: Обоснование выбора теста на корреляцию\n",
    "Так как данные распределены нормально, то для корреляционного теста выбираем **параметрический тест на корреляцию Пирсона**, который показывает (см. ниже), что данные слабо связаны, т.к. коэф.корреляции ~ 0.26 "
   ]
  },
  {
   "cell_type": "code",
   "execution_count": 43,
   "metadata": {},
   "outputs": [
    {
     "data": {
      "text/html": [
       "<div>\n",
       "<style scoped>\n",
       "    .dataframe tbody tr th:only-of-type {\n",
       "        vertical-align: middle;\n",
       "    }\n",
       "\n",
       "    .dataframe tbody tr th {\n",
       "        vertical-align: top;\n",
       "    }\n",
       "\n",
       "    .dataframe thead th {\n",
       "        text-align: right;\n",
       "    }\n",
       "</style>\n",
       "<table border=\"1\" class=\"dataframe\">\n",
       "  <thead>\n",
       "    <tr style=\"text-align: right;\">\n",
       "      <th></th>\n",
       "      <th>petersburg</th>\n",
       "      <th>magadan</th>\n",
       "    </tr>\n",
       "  </thead>\n",
       "  <tbody>\n",
       "    <tr>\n",
       "      <th>petersburg</th>\n",
       "      <td>1.000000</td>\n",
       "      <td>0.256665</td>\n",
       "    </tr>\n",
       "    <tr>\n",
       "      <th>magadan</th>\n",
       "      <td>0.256665</td>\n",
       "      <td>1.000000</td>\n",
       "    </tr>\n",
       "  </tbody>\n",
       "</table>\n",
       "</div>"
      ],
      "text/plain": [
       "            petersburg   magadan\n",
       "petersburg    1.000000  0.256665\n",
       "magadan       0.256665  1.000000"
      ]
     },
     "execution_count": 43,
     "metadata": {},
     "output_type": "execute_result"
    }
   ],
   "source": [
    "data_all.corr()"
   ]
  },
  {
   "attachments": {},
   "cell_type": "markdown",
   "metadata": {},
   "source": [
    "#### Задание № 4: Ответьте на вопрос: Какова разница в среднем размере мидии в зависимости от города-производителя\n",
    "Согласно вычислениям (см. код ниже), размер мидий из Санкт-Петербруга в среднем больше на 35%"
   ]
  },
  {
   "cell_type": "code",
   "execution_count": 49,
   "metadata": {},
   "outputs": [
    {
     "name": "stdout",
     "output_type": "stream",
     "text": [
      "Мидий из Санкт-Петербруга в среденм больше мидий из Магадана на 32 %\n"
     ]
    }
   ],
   "source": [
    "mean_spb = data_all['petersburg'].mean()\n",
    "mean_mag = data_all['magadan'].mean()\n",
    "if mean_spb > mean_mag:\n",
    "    print('Мидий из Санкт-Петербруга в среденм больше мидий из Магадана на {} %'.format(round((mean_spb / mean_mag - 1)*100)))\n",
    "else:\n",
    "    print('Мидий из Магадана в среденм больше мидий из Санкт-Петербруга на {} %'.format(round((mean_spb / mean_mag - 1)*100)))"
   ]
  },
  {
   "attachments": {},
   "cell_type": "markdown",
   "metadata": {},
   "source": [
    "#### Задание № 5: Обоснуйте выбор теста. \n",
    "насколько я понял, нужно обосновать выбор сравнительного теста\n",
    "Т.к.:\n",
    "1) данные распределены нормально (см. выше)\n",
    "2) *независимая* переменная (город) одна и категориальная\n",
    "3) *зависимая* переменная (размер пиццы) количественная и сравниваемые группы происходят из разных совокупностей, то\n",
    "выбираем **независимый t-test**"
   ]
  },
  {
   "attachments": {},
   "cell_type": "markdown",
   "metadata": {},
   "source": [
    "#### Задание № 6: Сделайте вывод по гипотезе. (о значимой разнице )"
   ]
  },
  {
   "cell_type": "code",
   "execution_count": 53,
   "metadata": {},
   "outputs": [
    {
     "name": "stdout",
     "output_type": "stream",
     "text": [
      "Ttest_indResult(statistic=3.5945040471515983, pvalue=0.0030234430585435574)\n",
      "Ttest_indResult(statistic=3.5945040471515983, pvalue=0.0029302645160802256)\n"
     ]
    }
   ],
   "source": [
    "from scipy.stats import ttest_ind\n",
    "\n",
    "H0 = 'Нет значимой разницы между размерами мидий в разных городах.'\n",
    "Ha = 'Есть значимая разница между размерами мидий в разных городах.'\n",
    "\n",
    "test_results1 = ttest_ind(data_all['petersburg'], data_all['magadan'], equal_var=False)\n",
    "test_results2 = ttest_ind(data_all['petersburg'], data_all['magadan'], equal_var=True)\n",
    "print(test_results1)\n",
    "print(test_results2)"
   ]
  }
 ],
 "metadata": {
  "kernelspec": {
   "display_name": "Python 3",
   "language": "python",
   "name": "python3"
  },
  "language_info": {
   "codemirror_mode": {
    "name": "ipython",
    "version": 3
   },
   "file_extension": ".py",
   "mimetype": "text/x-python",
   "name": "python",
   "nbconvert_exporter": "python",
   "pygments_lexer": "ipython3",
   "version": "3.11.0"
  },
  "orig_nbformat": 4,
  "vscode": {
   "interpreter": {
    "hash": "c261aea317cc0286b3b3261fbba9abdec21eaa57589985bb7a274bf54d6cc0a7"
   }
  }
 },
 "nbformat": 4,
 "nbformat_minor": 2
}
