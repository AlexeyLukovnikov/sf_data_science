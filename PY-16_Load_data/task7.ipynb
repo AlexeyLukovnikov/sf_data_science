{
 "cells": [
  {
   "cell_type": "code",
   "execution_count": 1,
   "metadata": {},
   "outputs": [
    {
     "name": "stdout",
     "output_type": "stream",
     "text": [
      "(500, 1321)\n"
     ]
    }
   ],
   "source": [
    "import pandas as pd\n",
    "df = pd.read_csv('data/recipes.csv')\n",
    "print(df.shape)"
   ]
  },
  {
   "cell_type": "code",
   "execution_count": 2,
   "metadata": {},
   "outputs": [
    {
     "name": "stdout",
     "output_type": "stream",
     "text": [
      "500\n"
     ]
    }
   ],
   "source": [
    "# Task 7.1\n",
    "ids = list()\n",
    "\n",
    "def fill_ids(id):\n",
    "    if id not in ids:\n",
    "        ids.append(id)\n",
    "    return id\n",
    "\n",
    "df['id'] = df['id'].apply(fill_ids)\n",
    "print(len(ids))"
   ]
  },
  {
   "cell_type": "code",
   "execution_count": 3,
   "metadata": {},
   "outputs": [
    {
     "name": "stdout",
     "output_type": "stream",
     "text": [
      "1318\n"
     ]
    }
   ],
   "source": [
    "# Task 7.2\n",
    "ingredients = list()\n",
    "for col in df.columns[3:]:\n",
    "    ingredients.append(col)\n",
    "print(len(ingredients))"
   ]
  },
  {
   "cell_type": "code",
   "execution_count": 5,
   "metadata": {},
   "outputs": [
    {
     "name": "stdout",
     "output_type": "stream",
     "text": [
      "500\n"
     ]
    }
   ],
   "source": [
    "# Task 7.3\n",
    "def make_list(row):\n",
    "    result = list()\n",
    "    for col in df.columns[3:]:\n",
    "        if row[col]:\n",
    "            result.append(col)\n",
    "    return result\n",
    "\n",
    "new_recipes = [] # Создаём пустой список для хранения итоговой структуры\n",
    "for id in ids: # Организуем цикл с параметром current_id\n",
    "    cuisine = df[df['id'] == id]['cuisine'].iloc[0] # Получаем значение соответствующей кухни, применив фильтр по текущему значению параметра цикла к DataFrame;\n",
    "    current_ingredients = make_list(df[df['id'] == id].iloc[0]) # Получаем перечень ингредиентов, входящих в состав текущего блюда\n",
    "    current_recipe = {'cuisine': cuisine, 'id': int(id), 'ingredients': current_ingredients} # Создаём текущий словарь\n",
    "    new_recipes.append(current_recipe) # Добавляем созданный словарь к списку\n",
    "print(len(new_recipes))\n"
   ]
  },
  {
   "cell_type": "code",
   "execution_count": 7,
   "metadata": {},
   "outputs": [],
   "source": [
    "import json # Импорт модуля json\n",
    "new_recipes = json.dumps(new_recipes) # Функция dumps() модуля json сериализирует объект Python в строку формата JSON. \n",
    "with open(\"data/new_recipes.json\", \"w\") as write_file: # Откроем файл new_recipes.json для записи\n",
    "    write_file.write(new_recipes) #"
   ]
  }
 ],
 "metadata": {
  "kernelspec": {
   "display_name": "Python 3",
   "language": "python",
   "name": "python3"
  },
  "language_info": {
   "codemirror_mode": {
    "name": "ipython",
    "version": 3
   },
   "file_extension": ".py",
   "mimetype": "text/x-python",
   "name": "python",
   "nbconvert_exporter": "python",
   "pygments_lexer": "ipython3",
   "version": "3.10.0"
  },
  "orig_nbformat": 4,
  "vscode": {
   "interpreter": {
    "hash": "369f2c481f4da34e4445cda3fffd2e751bd1c4d706f27375911949ba6bb62e1c"
   }
  }
 },
 "nbformat": 4,
 "nbformat_minor": 2
}
