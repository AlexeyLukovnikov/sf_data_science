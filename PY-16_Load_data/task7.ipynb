{
 "cells": [
  {
   "cell_type": "code",
   "execution_count": null,
   "metadata": {},
   "outputs": [],
   "source": [
    "import json \n",
    "from pprint import pprint\n",
    "import pandas as pd"
   ]
  },
  {
   "cell_type": "code",
   "execution_count": null,
   "metadata": {},
   "outputs": [],
   "source": [
    "df2 = pd.read_json('data/recipes.json')\n",
    "print(df.head())\n",
    "print(df.shape)"
   ]
  },
  {
   "cell_type": "code",
   "execution_count": null,
   "metadata": {},
   "outputs": [],
   "source": [
    "# Task 6.4\n",
    "all_ingredients = set()\n",
    "def searching_all_ingredients(value):\n",
    "    for item in value:\n",
    "        all_ingredients.add(item)\n",
    "    return value\n",
    "\n",
    "df2['ingredients'] = df2['ingredients'].apply(searching_all_ingredients)\n",
    "print(len(all_ingredients))\n",
    "# print(all_ingredients)"
   ]
  },
  {
   "cell_type": "code",
   "execution_count": null,
   "metadata": {},
   "outputs": [],
   "source": [
    "def contains(ingredient_list): # Определяем имя функции и передаваемые аргументы\n",
    "    if ingredient_name in ingredient_list: # Если ингредиент есть в текущем блюде,\n",
    "        return 1 # возвращаем значение 1\n",
    "    else: # Если ингредиента нет в текущем блюде,\n",
    "        return 0 # возвращаем значение 0\n",
    "\n",
    "for ingredient_name in all_ingredients:\n",
    "    df2[ingredient_name] = df2['ingredients'].apply(contains)\n",
    "print(df2.shape)"
   ]
  },
  {
   "cell_type": "code",
   "execution_count": null,
   "metadata": {},
   "outputs": [],
   "source": [
    "df2['ingredients'] = df2['ingredients'].apply(len) # Заменяем список ингредиентов в рецепте на их количество \n",
    "display(df2)"
   ]
  },
  {
   "cell_type": "code",
   "execution_count": null,
   "metadata": {},
   "outputs": [],
   "source": [
    "# Task 6.5\n",
    "import pandas as pd\n",
    "df = pd.read_json('data/recipes.json')\n",
    "ids = list()\n",
    "\n",
    "def fill_unique_ids(id):\n",
    "    if id not in ids:\n",
    "        ids.append(id)\n",
    "    return id\n",
    "\n",
    "df['id'] = df['id'].apply(fill_unique_ids)\n",
    "\n",
    "print(len(ids))\n",
    "print(ids)"
   ]
  },
  {
   "cell_type": "code",
   "execution_count": null,
   "metadata": {},
   "outputs": [],
   "source": [
    "df2.to_csv('recipes2.csv', index = False)"
   ]
  }
 ],
 "metadata": {
  "kernelspec": {
   "display_name": "Python 3",
   "language": "python",
   "name": "python3"
  },
  "language_info": {
   "codemirror_mode": {
    "name": "ipython",
    "version": 3
   },
   "file_extension": ".py",
   "mimetype": "text/x-python",
   "name": "python",
   "nbconvert_exporter": "python",
   "pygments_lexer": "ipython3",
   "version": "3.10.0 (tags/v3.10.0:b494f59, Oct  4 2021, 19:00:18) [MSC v.1929 64 bit (AMD64)]"
  },
  "orig_nbformat": 4,
  "vscode": {
   "interpreter": {
    "hash": "369f2c481f4da34e4445cda3fffd2e751bd1c4d706f27375911949ba6bb62e1c"
   }
  }
 },
 "nbformat": 4,
 "nbformat_minor": 2
}
