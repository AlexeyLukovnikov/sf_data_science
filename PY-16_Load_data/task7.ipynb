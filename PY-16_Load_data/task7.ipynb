{
 "cells": [
  {
   "cell_type": "code",
   "execution_count": 42,
   "metadata": {},
   "outputs": [
    {
     "name": "stdout",
     "output_type": "stream",
     "text": [
      "(500, 1321)\n"
     ]
    }
   ],
   "source": [
    "import pandas as pd\n",
    "df = pd.read_csv('data/recipes.csv')\n",
    "print(df.shape)"
   ]
  },
  {
   "cell_type": "code",
   "execution_count": 43,
   "metadata": {},
   "outputs": [
    {
     "name": "stdout",
     "output_type": "stream",
     "text": [
      "500\n"
     ]
    }
   ],
   "source": [
    "# Task 7.1\n",
    "ids = list()\n",
    "\n",
    "def fill_ids(id):\n",
    "    if id not in ids:\n",
    "        ids.append(id)\n",
    "    return id\n",
    "\n",
    "df['id'] = df['id'].apply(fill_ids)\n",
    "print(len(ids))"
   ]
  },
  {
   "cell_type": "code",
   "execution_count": 44,
   "metadata": {},
   "outputs": [
    {
     "name": "stdout",
     "output_type": "stream",
     "text": [
      "1318\n"
     ]
    }
   ],
   "source": [
    "# Task 7.2\n",
    "ingredients = list()\n",
    "for col in df.columns[3:]:\n",
    "    ingredients.append(col)\n",
    "print(len(ingredients))"
   ]
  },
  {
   "cell_type": "code",
   "execution_count": 45,
   "metadata": {},
   "outputs": [
    {
     "name": "stdout",
     "output_type": "stream",
     "text": [
      "['plain flour', 'yellow corn meal', 'green tomatoes', 'ground black pepper', 'vegetable oil', 'milk', 'salt', 'eggs', 'thyme', 'tomatoes', 'ground pepper']\n",
      "['sprinkles', 'whole milk', 'baking powder', 'ground nutmeg', 'grated lemon peel', 'salt', 'granulated sugar', 'berries', 'confectioners sugar', 'ground cinnamon', 'melted butter', 'all-purpose flour', 'large eggs', 'mint', 'heavy cream', 'graham cracker crumbs', 'figs']\n"
     ]
    }
   ],
   "source": [
    "# Task 7.3\n",
    "def make_list(row):\n",
    "    result = list()\n",
    "    for col in df.columns[3:]:\n",
    "        # print('>{}<, >{}<'.format(col, row[col].iloc[0]))\n",
    "        if row[col]:\n",
    "            result.append(col)\n",
    "    return result\n",
    "\n",
    "print(make_list(row = df.iloc[1]))\n",
    "print(make_list(row = df.iloc[-1]))\n",
    "\n",
    "# ['ground black pepper', 'yellow corn meal', 'ground pepper', 'tomatoes', 'eggs', 'vegetable oil', 'milk', 'plain flour', 'salt', 'thyme', 'green tomatoes']\n",
    "\n",
    "# ['ground cinnamon', 'mint', 'confectioners sugar', 'granulated sugar', 'whole milk', 'all-purpose flour', 'grated lemon peel', 'figs', 'melted butter', 'graham cracker crumbs', 'berries', 'sprinkles', 'large eggs', 'heavy cream', 'ground nutmeg', 'salt', 'baking powder']\n",
    "\n",
    "\n",
    "# new_recipes = [] # Создаём пустой список для хранения итоговой структуры\n",
    "# for id in ids: # Организуем цикл с параметром current_id\n",
    "#     cuisine = df[df['id'] == id]['cuisine'].iloc[0] # Получаем значение соответствующей кухни, применив фильтр по текущему значению параметра цикла к DataFrame;\n",
    "#     current_ingredients = make_list(df[df['id'] == id]) # Получаем перечень ингредиентов, входящих в состав текущего блюда\n",
    "#     current_recipe = {'cuisine': cuisine, 'id': int(id), 'ingredients': current_ingredients} # Создаём текущий словарь\n",
    "#     new_recipes.append(current_recipe) # Добавляем созданный словарь к списку\n",
    "# print(len(new_recipes))\n"
   ]
  },
  {
   "cell_type": "code",
   "execution_count": 46,
   "metadata": {},
   "outputs": [
    {
     "name": "stdout",
     "output_type": "stream",
     "text": [
      "id                 10259\n",
      "cuisine            greek\n",
      "ingredients            9\n",
      "light soy sauce        0\n",
      "coconut cream          0\n",
      "                   ...  \n",
      "baking potatoes        0\n",
      "fresh tomatoes         0\n",
      "bird chile             0\n",
      "coconut sugar          0\n",
      "tomato purГ©e          0\n",
      "Name: 0, Length: 1321, dtype: object\n",
      "['plain flour', 'yellow corn meal', 'green tomatoes', 'ground black pepper', 'vegetable oil', 'milk', 'salt', 'eggs', 'thyme', 'tomatoes', 'ground pepper']\n"
     ]
    }
   ],
   "source": [
    "import warnings\n",
    "\n",
    "warnings.filterwarnings('ignore')\n",
    "\n",
    "# Введите свое решение ниже\n",
    "import pandas as pd\n",
    "\n",
    "def make_list(row):\n",
    "    result = list()\n",
    "    for col in df.columns[3:]:\n",
    "        if row[col]:\n",
    "            result.append(col)\n",
    "    return result\n",
    "\n",
    "\n",
    "df = pd.read_csv('data/recipes.csv')\n",
    "# print(df.iloc[0])\n",
    " \n",
    "\n",
    "# print(make_list(row = df.iloc[1]))"
   ]
  }
 ],
 "metadata": {
  "kernelspec": {
   "display_name": "Python 3",
   "language": "python",
   "name": "python3"
  },
  "language_info": {
   "codemirror_mode": {
    "name": "ipython",
    "version": 3
   },
   "file_extension": ".py",
   "mimetype": "text/x-python",
   "name": "python",
   "nbconvert_exporter": "python",
   "pygments_lexer": "ipython3",
   "version": "3.10.0"
  },
  "orig_nbformat": 4,
  "vscode": {
   "interpreter": {
    "hash": "369f2c481f4da34e4445cda3fffd2e751bd1c4d706f27375911949ba6bb62e1c"
   }
  }
 },
 "nbformat": 4,
 "nbformat_minor": 2
}
