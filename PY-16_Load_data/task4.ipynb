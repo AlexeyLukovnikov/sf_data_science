{
 "cells": [
  {
   "cell_type": "code",
   "execution_count": 10,
   "metadata": {},
   "outputs": [
    {
     "name": "stdout",
     "output_type": "stream",
     "text": [
      "500\n",
      "{'cuisine': 'greek',\n",
      " 'id': 10259,\n",
      " 'ingredients': ['romaine lettuce',\n",
      "                 'black olives',\n",
      "                 'grape tomatoes',\n",
      "                 'garlic',\n",
      "                 'pepper',\n",
      "                 'purple onion',\n",
      "                 'seasoning',\n",
      "                 'garbanzo beans',\n",
      "                 'feta cheese crumbles']}\n"
     ]
    }
   ],
   "source": [
    "import json \n",
    "from pprint import pprint\n",
    "import pandas as pd\n",
    "\n",
    "with open('data/recipes.json') as f:\n",
    "    recipes = json.load(f)\n",
    "\n",
    "# print(recipes)\n",
    "# pprint(recipes)\n",
    "print(len(recipes))\n",
    "pprint(recipes[0])"
   ]
  },
  {
   "cell_type": "code",
   "execution_count": 11,
   "metadata": {},
   "outputs": [
    {
     "name": "stdout",
     "output_type": "stream",
     "text": [
      "9\n"
     ]
    }
   ],
   "source": [
    "# Task # 5.1\n",
    "pprint(len(recipes[0]['ingredients']))"
   ]
  },
  {
   "cell_type": "code",
   "execution_count": 12,
   "metadata": {},
   "outputs": [
    {
     "name": "stdout",
     "output_type": "stream",
     "text": [
      "thai\n"
     ]
    }
   ],
   "source": [
    "# Task # 5.2\n",
    "for item in recipes:\n",
    "    if item['id'] == 13121:\n",
    "        print(item['cuisine'])"
   ]
  },
  {
   "cell_type": "code",
   "execution_count": 13,
   "metadata": {},
   "outputs": [
    {
     "name": "stdout",
     "output_type": "stream",
     "text": [
      "20\n",
      "{'jamaican', 'filipino', 'french', 'moroccan', 'chinese', 'spanish', 'british', 'southern_us', 'mexican', 'irish', 'japanese', 'thai', 'brazilian', 'vietnamese', 'cajun_creole', 'italian', 'russian', 'greek', 'korean', 'indian'}\n"
     ]
    }
   ],
   "source": [
    "# Task # 5.3\n",
    "\n",
    "all_cuisines = set()\n",
    "for item in recipes:\n",
    "    all_cuisines.add(item['cuisine'])\n",
    "print(len(all_cuisines))\n",
    "print(all_cuisines)"
   ]
  },
  {
   "cell_type": "code",
   "execution_count": 22,
   "metadata": {},
   "outputs": [
    {
     "name": "stdout",
     "output_type": "stream",
     "text": [
      "italian\n"
     ]
    }
   ],
   "source": [
    "# Task # 5.4\n",
    "recipes_to_cuisine = dict()\n",
    "\n",
    "for item in all_cuisines:\n",
    "    recipes_to_cuisine[item] = 0\n",
    "\n",
    "for item in recipes:\n",
    "    recipes_to_cuisine[item['cuisine']] += 1\n",
    "\n",
    "reversed_dict = dict()\n",
    "values = list()\n",
    "for item in recipes_to_cuisine:\n",
    "    reversed_dict[recipes_to_cuisine[item]] = item\n",
    "    values.append(recipes_to_cuisine[item])\n",
    "\n",
    "values.sort()\n",
    "print(reversed_dict[values[-1]])"
   ]
  }
 ],
 "metadata": {
  "kernelspec": {
   "display_name": "Python 3",
   "language": "python",
   "name": "python3"
  },
  "language_info": {
   "codemirror_mode": {
    "name": "ipython",
    "version": 3
   },
   "file_extension": ".py",
   "mimetype": "text/x-python",
   "name": "python",
   "nbconvert_exporter": "python",
   "pygments_lexer": "ipython3",
   "version": "3.10.0"
  },
  "orig_nbformat": 4,
  "vscode": {
   "interpreter": {
    "hash": "369f2c481f4da34e4445cda3fffd2e751bd1c4d706f27375911949ba6bb62e1c"
   }
  }
 },
 "nbformat": 4,
 "nbformat_minor": 2
}
