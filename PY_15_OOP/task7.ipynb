{
 "cells": [
  {
   "cell_type": "code",
   "execution_count": 4,
   "metadata": {},
   "outputs": [
    {
     "name": "stdout",
     "output_type": "stream",
     "text": [
      "d:\\sf_git\\sf_data_science\\PY_15_OOP\n",
      "d:\\sf_git\\sf_data_science\n",
      "['.git', 'OLD', 'PY_14_Clearing_data', 'PY_15_OOP']\n",
      "d:\\sf_git\\sf_data_science\\PY_15_OOP\n",
      "Файл отсутствует в данной директории\n"
     ]
    }
   ],
   "source": [
    "import os\n",
    "start_path = os.getcwd()\n",
    "print(start_path)\n",
    "os.chdir('..')\n",
    "print(os.getcwd())\n",
    "print(os.listdir())\n",
    "os.chdir(start_path)\n",
    "print(os.getcwd())\n",
    "if 'tmp.py' not in os.listdir():\n",
    "    print(\"Файл отсутствует в данной директории\")"
   ]
  },
  {
   "cell_type": "code",
   "execution_count": 5,
   "metadata": {},
   "outputs": [
    {
     "name": "stdout",
     "output_type": "stream",
     "text": [
      "d:\\sf_git\\sf_data_science\\PY_15_OOP\n",
      "d:\\sf_git\\sf_data_science\\PY_15_OOP\\test\n"
     ]
    }
   ],
   "source": [
    "print(start_path)\n",
    "print(os.path.join(start_path, 'test'))"
   ]
  },
  {
   "cell_type": "code",
   "execution_count": 7,
   "metadata": {},
   "outputs": [
    {
     "name": "stdout",
     "output_type": "stream",
     "text": [
      "<generator object _walk at 0x000001776844EB60>\n"
     ]
    }
   ],
   "source": [
    "def dir_info(path='.')\n",
    "print(os.walk('.'))"
   ]
  },
  {
   "cell_type": "code",
   "execution_count": 6,
   "metadata": {},
   "outputs": [
    {
     "name": "stdout",
     "output_type": "stream",
     "text": [
      "Line 1\n",
      "Line 2\n",
      "Line 3"
     ]
    }
   ],
   "source": [
    "with open('data/input.txt') as input:\n",
    "    with open('data/output1.txt', 'wt') as output:\n",
    "        for line in input:\n",
    "            print(line, end='')\n",
    "            output.writelines(line)\n",
    "\n",
    "# with open(\"input.txt\", \"r\") as input_file:\n",
    "#     with open(\"output.txt\", \"w\") as output_file:\n",
    "#         for line in input_file:\n",
    "#             output_file.write(line)"
   ]
  },
  {
   "cell_type": "code",
   "execution_count": 8,
   "metadata": {},
   "outputs": [
    {
     "name": "stdout",
     "output_type": "stream",
     "text": [
      "[43, 43, 3, 99, 8, 75, 3, 92, 146, 43]\n"
     ]
    }
   ],
   "source": [
    "input_nums = []\n",
    "with open('data/input7.5.txt') as input_file:\n",
    "    for line in input_file:\n",
    "        input_nums.append(int(line))\n",
    "\n",
    "var_min = min(input_nums)\n",
    "var_max = max(input_nums)\n",
    "print(var_min, var_max, var_min + var_max)"
   ]
  }
 ],
 "metadata": {
  "kernelspec": {
   "display_name": "Python 3",
   "language": "python",
   "name": "python3"
  },
  "language_info": {
   "codemirror_mode": {
    "name": "ipython",
    "version": 3
   },
   "file_extension": ".py",
   "mimetype": "text/x-python",
   "name": "python",
   "nbconvert_exporter": "python",
   "pygments_lexer": "ipython3",
   "version": "3.11.0"
  },
  "orig_nbformat": 4,
  "vscode": {
   "interpreter": {
    "hash": "c261aea317cc0286b3b3261fbba9abdec21eaa57589985bb7a274bf54d6cc0a7"
   }
  }
 },
 "nbformat": 4,
 "nbformat_minor": 2
}
