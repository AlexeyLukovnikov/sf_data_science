{
 "cells": [
  {
   "cell_type": "code",
   "execution_count": 4,
   "metadata": {},
   "outputs": [
    {
     "name": "stdout",
     "output_type": "stream",
     "text": [
      "d:\\sf_git\\sf_data_science\\PY_15_OOP\n",
      "d:\\sf_git\\sf_data_science\n",
      "['.git', 'OLD', 'PY_14_Clearing_data', 'PY_15_OOP']\n",
      "d:\\sf_git\\sf_data_science\\PY_15_OOP\n",
      "Файл отсутствует в данной директории\n"
     ]
    }
   ],
   "source": [
    "import os\n",
    "start_path = os.getcwd()\n",
    "print(start_path)\n",
    "os.chdir('..')\n",
    "print(os.getcwd())\n",
    "print(os.listdir())\n",
    "os.chdir(start_path)\n",
    "print(os.getcwd())\n",
    "if 'tmp.py' not in os.listdir():\n",
    "    print(\"Файл отсутствует в данной директории\")"
   ]
  },
  {
   "cell_type": "code",
   "execution_count": 5,
   "metadata": {},
   "outputs": [
    {
     "name": "stdout",
     "output_type": "stream",
     "text": [
      "d:\\sf_git\\sf_data_science\\PY_15_OOP\n",
      "d:\\sf_git\\sf_data_science\\PY_15_OOP\\test\n"
     ]
    }
   ],
   "source": [
    "print(start_path)\n",
    "print(os.path.join(start_path, 'test'))"
   ]
  },
  {
   "cell_type": "code",
   "execution_count": 7,
   "metadata": {},
   "outputs": [
    {
     "name": "stdout",
     "output_type": "stream",
     "text": [
      "<generator object _walk at 0x000001776844EB60>\n"
     ]
    }
   ],
   "source": [
    "def dir_info(path='.')\n",
    "print(os.walk('.'))"
   ]
  }
 ],
 "metadata": {
  "kernelspec": {
   "display_name": "Python 3",
   "language": "python",
   "name": "python3"
  },
  "language_info": {
   "codemirror_mode": {
    "name": "ipython",
    "version": 3
   },
   "file_extension": ".py",
   "mimetype": "text/x-python",
   "name": "python",
   "nbconvert_exporter": "python",
   "pygments_lexer": "ipython3",
   "version": "3.11.0"
  },
  "orig_nbformat": 4,
  "vscode": {
   "interpreter": {
    "hash": "c261aea317cc0286b3b3261fbba9abdec21eaa57589985bb7a274bf54d6cc0a7"
   }
  }
 },
 "nbformat": 4,
 "nbformat_minor": 2
}
