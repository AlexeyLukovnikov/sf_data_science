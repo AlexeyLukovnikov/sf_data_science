{
 "cells": [
  {
   "cell_type": "code",
   "execution_count": 3,
   "metadata": {},
   "outputs": [
    {
     "name": "stdout",
     "output_type": "stream",
     "text": [
      "False\n",
      "True\n",
      "19700\n"
     ]
    }
   ],
   "source": [
    "class User():\n",
    "    def __init__(self, email, password, balance) -> None:\n",
    "        self.email = email\n",
    "        self.password = password\n",
    "        self.balance = balance\n",
    "    \n",
    "    def login(self, email, password):\n",
    "        return True if self.email == email and self.password == password else False\n",
    "\n",
    "    def update_balance(self, balance):\n",
    "        self.balance += balance      \n",
    "\n",
    "# Определите класс для пользователей User.\n",
    "\n",
    "# У него должны быть:\n",
    "\n",
    "# атрибуты email, password и balance, которые устанавливаются при инициализации;\n",
    "# метод login, который принимает емайл и пароль. Если они совпадают с атрибутами объекта, он возвращает True, а иначе —False;\n",
    "# метод update_balance(amount), который изменяет баланс счёта на величину amount.\n",
    "# В случае правильного описания класса код, приведённый ниже, должен выдать следующий результат:\n",
    "\n",
    "\n",
    "user = User(\"gosha@roskino.org\", \"qwerty\", 20_000)\n",
    "print(user.login(\"gosha@roskino.org\", \"qwerty123\"))\n",
    "# False\n",
    "print(user.login(\"gosha@roskino.org\", \"qwerty\"))\n",
    "# True\n",
    "user.update_balance(200)\n",
    "user.update_balance(-500)\n",
    "print(user.balance)\n",
    "# 19700\n"
   ]
  },
  {
   "cell_type": "code",
   "execution_count": 9,
   "metadata": {},
   "outputs": [
    {
     "data": {
      "text/plain": [
       "4"
      ]
     },
     "execution_count": 9,
     "metadata": {},
     "output_type": "execute_result"
    }
   ],
   "source": [
    "class IntDataFrame():\n",
    "    def __init__(self, numbers):\n",
    "        self.numbers = [int(value) for value in numbers]\n",
    "\n",
    "    def count(self):\n",
    "        result = 0\n",
    "        for val in self.numbers:\n",
    "            if val != 0:\n",
    "                result += 1\n",
    "        return result\n",
    "\n",
    "    def unique(self):\n",
    "        un = set()\n",
    "        for val in self.numbers:\n",
    "            un.add(val)\n",
    "        return len(un)\n",
    "        \n",
    "\n",
    "# Определите класс IntDataFrame, который принимает список неотрицательных чисел и приводит к целым значениям все числа в этом списке.\n",
    "# После этого становится доступен метод count, который считает количество ненулевых элементов, и метод unique, который возвращает число уникальных элементов.\n",
    "\n",
    "# В случае правильного описания класса код, приведённый ниже, должен выдать следующий результат:\n",
    "\n",
    "\n",
    "df = IntDataFrame([4.7, 4, 3, 0, 2.4, 0.3, 4])\n",
    "\n",
    "df.count()\n",
    "# 5\n",
    "df.unique()\n",
    "# 4"
   ]
  },
  {
   "cell_type": "code",
   "execution_count": 10,
   "metadata": {},
   "outputs": [
    {
     "name": "stdout",
     "output_type": "stream",
     "text": [
      "{'perfomance': [10, 20, 10], 'clients': {'Romashka': 10, 'Vector': 34}}\n"
     ]
    }
   ],
   "source": [
    "import pickle  \n",
    "from datetime import datetime  \n",
    "from os import path  \n",
    "  \n",
    "class Dumper():  \n",
    "    def __init__(self, archive_dir=\"archive/\"):  \n",
    "        self.archive_dir = archive_dir  \n",
    "          \n",
    "    def dump(self, data):  \n",
    "        # Библиотека pickle позволяет доставать и класть объекты в файл  \n",
    "        with open(self.get_file_name(), 'wb') as file:  \n",
    "            pickle.dump(data, file)  \n",
    "              \n",
    "    def load_for_day(self, day):  \n",
    "        file_name = path.join(self.archive_dir, day + \".pkl\")   \n",
    "        with open(file_name, 'rb') as file:  \n",
    "            sets = pickle.load(file)  \n",
    "        return sets  \n",
    "          \n",
    "    # возвращает корректное имя для файла   \n",
    "    def get_file_name(self):   \n",
    "        today = datetime.now().strftime(\"%y-%m-%d\")   \n",
    "        return path.join(self.archive_dir, today + \".pkl\")  \n",
    "      \n",
    "      \n",
    "# Пример использования  \n",
    "  \n",
    "data = {  \n",
    "    'perfomance': [10, 20, 10],  \n",
    "    'clients': {\"Romashka\": 10, \"Vector\": 34}  \n",
    "}  \n",
    "  \n",
    "  \n",
    "dumper = Dumper()  \n",
    "  \n",
    "# Сохраним данные  \n",
    "dumper.dump(data)  \n",
    "  \n",
    "# Восстановим для сегодняшней даты  \n",
    "file_name = datetime.now().strftime(\"%y-%m-%d\")\n",
    "restored_data = dumper.load_for_day(file_name)\n",
    "print(restored_data)  \n",
    "# => {'perfomance': [10, 20, 10], 'clients': {'Romashka': 10, 'Vector': 34}}  "
   ]
  }
 ],
 "metadata": {
  "kernelspec": {
   "display_name": "Python 3",
   "language": "python",
   "name": "python3"
  },
  "language_info": {
   "codemirror_mode": {
    "name": "ipython",
    "version": 3
   },
   "file_extension": ".py",
   "mimetype": "text/x-python",
   "name": "python",
   "nbconvert_exporter": "python",
   "pygments_lexer": "ipython3",
   "version": "3.11.0"
  },
  "orig_nbformat": 4,
  "vscode": {
   "interpreter": {
    "hash": "c261aea317cc0286b3b3261fbba9abdec21eaa57589985bb7a274bf54d6cc0a7"
   }
  }
 },
 "nbformat": 4,
 "nbformat_minor": 2
}
